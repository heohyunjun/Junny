{
  "nbformat": 4,
  "nbformat_minor": 0,
  "metadata": {
    "colab": {
      "name": "Untitled1.ipynb",
      "provenance": [],
      "authorship_tag": "ABX9TyP6h4g6YwscAQPwKwuwzW6w"
    },
    "kernelspec": {
      "name": "python3",
      "display_name": "Python 3"
    },
    "language_info": {
      "name": "python"
    }
  },
  "cells": [
    {
      "cell_type": "markdown",
      "metadata": {
        "id": "njpQBJ_k3OKV"
      },
      "source": [
        "## 인공 신경망을 이용한 AND 연산(Tensorflow 1.x)\n",
        "- 107 ~ 120"
      ]
    },
    {
      "cell_type": "code",
      "metadata": {
        "colab": {
          "base_uri": "https://localhost:8080/"
        },
        "id": "5kH5X93P3Xer",
        "outputId": "099aa0af-41de-4999-e303-d258423e37c0"
      },
      "source": [
        "%tensorflow_version 1.x"
      ],
      "execution_count": null,
      "outputs": [
        {
          "output_type": "stream",
          "name": "stdout",
          "text": [
            "TensorFlow 1.x selected.\n"
          ]
        }
      ]
    },
    {
      "cell_type": "code",
      "metadata": {
        "id": "f6OHi29e3pzd"
      },
      "source": [
        "import tensorflow as tf\n",
        "import numpy as np"
      ],
      "execution_count": null,
      "outputs": []
    },
    {
      "cell_type": "code",
      "metadata": {
        "colab": {
          "base_uri": "https://localhost:8080/",
          "height": 35
        },
        "id": "EaDU6JIv3wUX",
        "outputId": "125cda4f-f38d-4a79-83a6-05627d0be9c6"
      },
      "source": [
        "tf.enable_eager_execution()\n",
        "tf.__version__"
      ],
      "execution_count": null,
      "outputs": [
        {
          "output_type": "execute_result",
          "data": {
            "application/vnd.google.colaboratory.intrinsic+json": {
              "type": "string"
            },
            "text/plain": [
              "'1.15.2'"
            ]
          },
          "metadata": {},
          "execution_count": 3
        }
      ]
    },
    {
      "cell_type": "code",
      "metadata": {
        "id": "AB14fDju4Jo0"
      },
      "source": [
        "def print_n(title, atr):\n",
        "  print(\"{}: {}\\n{}\".format(title, \"=\" *100 ,atr))"
      ],
      "execution_count": null,
      "outputs": []
    },
    {
      "cell_type": "code",
      "metadata": {
        "id": "6hHRD9V_3-El"
      },
      "source": [
        "# 4줄에 2칸\n",
        "X = np.array([\n",
        "          [0,0],\n",
        "          [0,1],\n",
        "          [1,0],\n",
        "          [1,1]\n",
        "], dtype = \"float32\")\n",
        "\n",
        "# 4줄에 1칸\n",
        "y = np.array([\n",
        "              [0],\n",
        "              [0],\n",
        "              [0],\n",
        "              [1]\n",
        "], dtype=\"float32\")\n",
        "\n",
        "# weight\n",
        "# 2줄 1칸\n",
        "w = tf.Variable([[1], [2]], dtype = \"float32\")\n",
        "\n",
        "\n",
        "# bias\n",
        "b = tf.Variable([3],  dtype = \"float32\")\n",
        "\n",
        "print_n(\"X\",X)\n",
        "print_n(\"y\",y)\n",
        "print_n(\"w\",w)\n",
        "print_n(\"b\",b)"
      ],
      "execution_count": null,
      "outputs": []
    },
    {
      "cell_type": "code",
      "metadata": {
        "id": "qUpsTsZf4G0U"
      },
      "source": [
        "# 손실 함수의 값을 줄여나가면서 학습하는 방법은 어떤 옵티마이저를 사용하느냐에 따라 달라짐\n",
        "# 많은 방법중 Adam 사용 , learning_rate = 0.01\n",
        "optimizer = tf.train.AdamOptimizer(0.01)\n",
        "\n",
        "\n",
        "for step in range(5000):\n",
        "  with tf.GradientTape() as tape:\n",
        "\n",
        "    # 예측\n",
        "    hypothesis = tf.sigmoid(tf.matmul(X, w) + b)\n",
        "\n",
        "    # 오차\n",
        "    cost = -tf.reduce_mean(y * tf.log(hypothesis) + (1 - y) * tf.log(1 - hypothesis))\n",
        "\n",
        "    # cost가 작아지도록 w,b을 계속 계산해서 가지고있음 \n",
        "    grads = tape.gradient(cost, [w,b])\n",
        "    \n",
        "  optimizer.apply_gradients(grads_and_vars = zip(grads, [w, b]))\n",
        "\n",
        "  if step % 100 == 0:\n",
        "    print(\"=\" *50)\n",
        "    print(\"step : {}, cost : {}, w : {}, b : {}\".format(step, cost.numpy(), w.numpy(), b.numpy()))\n",
        "    print(\"grads\",grads)\n",
        "    print(\"=\" * 50)\n",
        "# print(grads)"
      ],
      "execution_count": null,
      "outputs": []
    },
    {
      "cell_type": "code",
      "metadata": {
        "id": "w8gF1Ndg6M1T"
      },
      "source": [
        "# 새로운 w,b로 예측\n",
        "predict = tf.sigmoid(tf.matmul(X, w) + b)\n",
        "print_n(\"predict\",predict)\n",
        "\n",
        "# 임계값 설정\n",
        "predict_cast = tf.cast(predict >0.5, dtype = tf.float32)\n",
        "print_n(\"predict_cast\",predict_cast)\n",
        "\n",
        "# 정확도 계산\n",
        "accuracy =  tf.reduce_mean(tf.cast(tf.equal(predict_cast ,y), dtype =tf.float32))\n",
        "print_n(\"accuracy\", accuracy)"
      ],
      "execution_count": null,
      "outputs": []
    },
    {
      "cell_type": "code",
      "metadata": {
        "colab": {
          "base_uri": "https://localhost:8080/"
        },
        "id": "uBpdnF9I7LkZ",
        "outputId": "c8278b13-6cd3-4316-a4cc-e6e8e5b8cfad"
      },
      "source": [
        "# 0, 1 and연산 테스트\n",
        "arr = np.array([[0,1]], dtype = \"float32\")\n",
        "\n",
        "# 예측\n",
        "predict = tf.sigmoid(tf.matmul(arr, w) + b)\n",
        "\n",
        "# 출력\n",
        "print_n(\"0 and 1 predict\",predict.numpy())"
      ],
      "execution_count": null,
      "outputs": [
        {
          "output_type": "stream",
          "name": "stdout",
          "text": [
            "0 and 1 predict: ====================================================================================================\n",
            "[[0.02666336]]\n"
          ]
        }
      ]
    },
    {
      "cell_type": "code",
      "metadata": {
        "colab": {
          "base_uri": "https://localhost:8080/"
        },
        "id": "I_hEUhydEPbL",
        "outputId": "9e198281-32f3-49fa-8b83-b89b8ccb57b0"
      },
      "source": [
        "# gradienttape\n",
        "w = tf.Variable(tf.random.normal((3, 2)), name='w')\n",
        "b = tf.Variable(tf.zeros(2, dtype=tf.float32), name='b')\n",
        "x = [[1., 2., 3.]]\n",
        "\n",
        "with tf.GradientTape(persistent=True) as tape:\n",
        "  y = x @ w + b\n",
        "  loss = tf.reduce_mean(y**2)\n",
        "print(loss)"
      ],
      "execution_count": null,
      "outputs": [
        {
          "output_type": "stream",
          "name": "stdout",
          "text": [
            "tf.Tensor(11.1662035, shape=(), dtype=float32)\n"
          ]
        }
      ]
    },
    {
      "cell_type": "markdown",
      "metadata": {
        "id": "Vf4_eibUG4Wy"
      },
      "source": [
        "## 인공 신경망을 이용한 AND연산 (Tensorflow 2.x)\n",
        "- 121 ~ 131"
      ]
    },
    {
      "cell_type": "code",
      "metadata": {
        "id": "NKfJE6cLJmZG"
      },
      "source": [
        "import numpy as np\n",
        "import tensorflow as tf \n",
        "from tensorflow.keras.models import Sequential\n",
        "from tensorflow.keras.layers import Dense\n",
        "from tensorflow.keras.optimizers import Adam"
      ],
      "execution_count": null,
      "outputs": []
    },
    {
      "cell_type": "code",
      "metadata": {
        "id": "xx9oAf-vJthG"
      },
      "source": [
        "# 4줄에 2칸\n",
        "X = np.array([\n",
        "          [0,0],\n",
        "          [0,1],\n",
        "          [1,0],\n",
        "          [1,1]\n",
        "], dtype = \"float32\")\n",
        "\n",
        "# 4줄에 1칸\n",
        "y = np.array( [0,0,0,1], dtype=\"int32\")\n"
      ],
      "execution_count": null,
      "outputs": []
    },
    {
      "cell_type": "code",
      "metadata": {
        "id": "ANcl9t-1KDsW"
      },
      "source": [
        "model = Sequential()\n",
        "\n",
        "model.add(Dense(1, input_dim = 2, activation='sigmoid'))\n",
        "\n",
        "model.summary()\n",
        "\n",
        "model.compile(loss = 'binary_crossentropy', optimizer = Adam(lr = 0.1), metrics = ['acc'])\n",
        "\n",
        "model.fit(X, y, epochs = 100)"
      ],
      "execution_count": null,
      "outputs": []
    },
    {
      "cell_type": "code",
      "metadata": {
        "colab": {
          "base_uri": "https://localhost:8080/"
        },
        "id": "h7a40c-TM7fU",
        "outputId": "89a50b90-6328-4b3e-e415-9507e4a64adb"
      },
      "source": [
        "# 예측\n",
        "pred = model.predict(X)\n",
        "print(pred)\n",
        "\n",
        "# 임계값  0.5 이상이면 1, 작으면 0\n",
        "predict01 = np.where(pred >0.5 ,1 ,0)\n",
        "print(\"=\"*10)\n",
        "print(\"predict01:\\n\",predict01)\n",
        "\n",
        "# 1차원 배열로 변환\n",
        "predict02 = predict01.flatten()\n",
        "print(predict02)\n",
        "\n",
        "# 정답과 비교\n",
        "predict03 = (predict02 == y)\n",
        "print(\"predict03:\\n\",predict03)\n",
        "\n",
        "# 정확도 계산\n",
        "acc = np.sum(predict03)/4\n",
        "print(acc)\n",
        "\n",
        "\n"
      ],
      "execution_count": null,
      "outputs": [
        {
          "output_type": "stream",
          "name": "stdout",
          "text": [
            "[[0.00098924]\n",
            " [0.07362996]\n",
            " [0.07932841]\n",
            " [0.8736749 ]]\n",
            "==========\n",
            "predict01:\n",
            " [[0]\n",
            " [0]\n",
            " [0]\n",
            " [1]]\n",
            "[0 0 0 1]\n",
            "predict03:\n",
            " [ True  True  True  True]\n",
            "1.0\n"
          ]
        }
      ]
    }
  ]
}
