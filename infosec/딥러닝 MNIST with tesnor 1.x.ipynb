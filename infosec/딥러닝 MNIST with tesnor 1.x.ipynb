{
  "nbformat": 4,
  "nbformat_minor": 0,
  "metadata": {
    "colab": {
      "name": "Untitled1.ipynb",
      "provenance": [],
      "authorship_tag": "ABX9TyNxfDTa9yC8Tm4ift8B1FAc"
    },
    "kernelspec": {
      "name": "python3",
      "display_name": "Python 3"
    },
    "language_info": {
      "name": "python"
    }
  },
  "cells": [
    {
      "cell_type": "markdown",
      "metadata": {
        "id": "52RotRlKpaWs"
      },
      "source": [
        "## 딥러닝 MNIST (텐서플로 1.x)\n",
        "\n",
        "- 374 ~393"
      ]
    },
    {
      "cell_type": "code",
      "metadata": {
        "colab": {
          "base_uri": "https://localhost:8080/"
        },
        "id": "ckCFvTIvzyoU",
        "outputId": "22760c5c-8f4e-4808-c489-758ee4b4d695"
      },
      "source": [
        "%tensorflow_version 1.x"
      ],
      "execution_count": null,
      "outputs": [
        {
          "output_type": "stream",
          "name": "stdout",
          "text": [
            "TensorFlow 1.x selected.\n"
          ]
        }
      ]
    },
    {
      "cell_type": "code",
      "metadata": {
        "id": "ByZZJEB9zyoV"
      },
      "source": [
        "import tensorflow as tf\n",
        "from tensorflow.examples.tutorials.mnist import input_data\n",
        "import matplotlib.pyplot as plt\n",
        "%matplotlib inline"
      ],
      "execution_count": null,
      "outputs": []
    },
    {
      "cell_type": "code",
      "metadata": {
        "colab": {
          "base_uri": "https://localhost:8080/",
          "height": 35
        },
        "id": "cl7q_CrQzyoV",
        "outputId": "4ad554c0-aa59-4a57-8399-759dda285f9c"
      },
      "source": [
        "tf.enable_eager_execution()\n",
        "tf.__version__"
      ],
      "execution_count": null,
      "outputs": [
        {
          "output_type": "execute_result",
          "data": {
            "application/vnd.google.colaboratory.intrinsic+json": {
              "type": "string"
            },
            "text/plain": [
              "'1.15.2'"
            ]
          },
          "metadata": {},
          "execution_count": 3
        }
      ]
    },
    {
      "cell_type": "code",
      "metadata": {
        "colab": {
          "base_uri": "https://localhost:8080/"
        },
        "id": "9wSrtuepzyoV",
        "outputId": "c8a5e796-a7fb-411b-aea8-7d8b15504cd8"
      },
      "source": [
        "# mnist 압축 파일 다운\n",
        "# 이미지 리드할 객체 생성\n",
        "mnist = input_data.read_data_sets('./mnist/data/',one_hot = True)"
      ],
      "execution_count": null,
      "outputs": [
        {
          "output_type": "stream",
          "name": "stdout",
          "text": [
            "WARNING:tensorflow:From /tensorflow-1.15.2/python3.7/tensorflow_core/contrib/learn/python/learn/datasets/mnist.py:260: maybe_download (from tensorflow.contrib.learn.python.learn.datasets.base) is deprecated and will be removed in a future version.\n",
            "Instructions for updating:\n",
            "Please write your own downloading logic.\n",
            "WARNING:tensorflow:From /tensorflow-1.15.2/python3.7/tensorflow_core/contrib/learn/python/learn/datasets/base.py:252: _internal_retry.<locals>.wrap.<locals>.wrapped_fn (from tensorflow.contrib.learn.python.learn.datasets.base) is deprecated and will be removed in a future version.\n",
            "Instructions for updating:\n",
            "Please use urllib or similar directly.\n",
            "Successfully downloaded train-images-idx3-ubyte.gz 9912422 bytes.\n",
            "WARNING:tensorflow:From /tensorflow-1.15.2/python3.7/tensorflow_core/contrib/learn/python/learn/datasets/mnist.py:262: extract_images (from tensorflow.contrib.learn.python.learn.datasets.mnist) is deprecated and will be removed in a future version.\n",
            "Instructions for updating:\n",
            "Please use tf.data to implement this functionality.\n",
            "Extracting ./mnist/data/train-images-idx3-ubyte.gz\n",
            "Successfully downloaded train-labels-idx1-ubyte.gz 28881 bytes.\n",
            "WARNING:tensorflow:From /tensorflow-1.15.2/python3.7/tensorflow_core/contrib/learn/python/learn/datasets/mnist.py:267: extract_labels (from tensorflow.contrib.learn.python.learn.datasets.mnist) is deprecated and will be removed in a future version.\n",
            "Instructions for updating:\n",
            "Please use tf.data to implement this functionality.\n",
            "Extracting ./mnist/data/train-labels-idx1-ubyte.gz\n",
            "WARNING:tensorflow:From /tensorflow-1.15.2/python3.7/tensorflow_core/contrib/learn/python/learn/datasets/mnist.py:110: dense_to_one_hot (from tensorflow.contrib.learn.python.learn.datasets.mnist) is deprecated and will be removed in a future version.\n",
            "Instructions for updating:\n",
            "Please use tf.one_hot on tensors.\n",
            "Successfully downloaded t10k-images-idx3-ubyte.gz 1648877 bytes.\n",
            "Extracting ./mnist/data/t10k-images-idx3-ubyte.gz\n",
            "Successfully downloaded t10k-labels-idx1-ubyte.gz 4542 bytes.\n",
            "Extracting ./mnist/data/t10k-labels-idx1-ubyte.gz\n",
            "WARNING:tensorflow:From /tensorflow-1.15.2/python3.7/tensorflow_core/contrib/learn/python/learn/datasets/mnist.py:290: DataSet.__init__ (from tensorflow.contrib.learn.python.learn.datasets.mnist) is deprecated and will be removed in a future version.\n",
            "Instructions for updating:\n",
            "Please use alternatives such as official/mnist/dataset.py from tensorflow/models.\n"
          ]
        }
      ]
    },
    {
      "cell_type": "code",
      "metadata": {
        "colab": {
          "base_uri": "https://localhost:8080/"
        },
        "id": "JKWOy_JqzyoV",
        "outputId": "7f197a14-1a35-477e-9ca3-0cb58843c8f8"
      },
      "source": [
        "# cost가 0으로 빨리 수렴하는데 적절한 w,b \n",
        "initializer = tf.contrib.layers.xavier_initializer()"
      ],
      "execution_count": null,
      "outputs": [
        {
          "output_type": "stream",
          "name": "stdout",
          "text": [
            "WARNING:tensorflow:\n",
            "The TensorFlow contrib module will not be included in TensorFlow 2.0.\n",
            "For more information, please see:\n",
            "  * https://github.com/tensorflow/community/blob/master/rfcs/20180907-contrib-sunset.md\n",
            "  * https://github.com/tensorflow/addons\n",
            "  * https://github.com/tensorflow/io (for I/O related ops)\n",
            "If you depend on functionality not listed there, please file an issue.\n",
            "\n"
          ]
        }
      ]
    },
    {
      "cell_type": "code",
      "metadata": {
        "id": "hlBN3oVyzyoW"
      },
      "source": [
        "# 1차 예측 \n",
        "# weight\n",
        "w0 = tf.Variable(initializer([784,200]))\n",
        "\n",
        "# bias\n",
        "b0 = tf.Variable(initializer([200]))\n",
        "\n",
        "# 2차 예측 \n",
        "# weight\n",
        "w1 = tf.Variable(initializer([200,10]))\n",
        "\n",
        "# bias\n",
        "b1 = tf.Variable(initializer([10]))\n"
      ],
      "execution_count": null,
      "outputs": []
    },
    {
      "cell_type": "code",
      "metadata": {
        "colab": {
          "base_uri": "https://localhost:8080/"
        },
        "id": "iAPa6uWr0uxu",
        "outputId": "770909bc-7291-4735-9d35-b11818dd0755"
      },
      "source": [
        "print(\"데이터 개수 : \",mnist.train.num_examples)"
      ],
      "execution_count": null,
      "outputs": [
        {
          "output_type": "stream",
          "name": "stdout",
          "text": [
            "데이터 개수 :  55000\n"
          ]
        }
      ]
    },
    {
      "cell_type": "code",
      "metadata": {
        "colab": {
          "base_uri": "https://localhost:8080/"
        },
        "id": "1PCLvvw81IkT",
        "outputId": "ddb26fb7-455f-42a4-9a9b-2024712e8258"
      },
      "source": [
        "batch_size = 100\n",
        "\n",
        "total_batch = int(mnist.train.num_examples/batch_size)\n",
        "\n",
        "print(\"total_batch =\", total_batch)"
      ],
      "execution_count": null,
      "outputs": [
        {
          "output_type": "stream",
          "name": "stdout",
          "text": [
            "total_batch = 550\n"
          ]
        }
      ]
    },
    {
      "cell_type": "code",
      "metadata": {
        "id": "oId3vnF11V-r"
      },
      "source": [
        "optimizer = tf.train.AdamOptimizer(0.001)"
      ],
      "execution_count": null,
      "outputs": []
    },
    {
      "cell_type": "code",
      "metadata": {
        "colab": {
          "base_uri": "https://localhost:8080/"
        },
        "id": "a9c5Qu_s1ek3",
        "outputId": "a35a4a2c-c5ef-47ad-a9a6-852d3d90a367"
      },
      "source": [
        "for step in range(11):\n",
        "  total_cost = 0\n",
        "\n",
        "  for i in range(total_batch):\n",
        "\n",
        "\n",
        "    X, y = mnist.train.next_batch(batch_size)\n",
        "    with tf.GradientTape() as tape:\n",
        "    \n",
        "        hypothesis0 = tf.sigmoid(tf.matmul(X,w0)+b0)\n",
        "\n",
        "        hypothesis1 = tf.nn.softmax(tf.matmul(hypothesis0,w1)+b1)\n",
        "\n",
        "        cost = -tf.reduce_mean(y*tf.log(hypothesis1))\n",
        "\n",
        "        grads = tape.gradient(cost, [w0, w1, b0, b1])\n",
        "\n",
        "    optimizer.apply_gradients(grads_and_vars = zip(grads, [w0, w1,b0, b1]))\n",
        "\n",
        "    total_cost += cost\n",
        "  print(\"step: {}, cost:{}\". format(step, total_cost/total_batch))"
      ],
      "execution_count": null,
      "outputs": [
        {
          "output_type": "stream",
          "name": "stdout",
          "text": [
            "step: 0, cost:0.007736366242170334\n",
            "step: 1, cost:0.006828421726822853\n",
            "step: 2, cost:0.00588814215734601\n",
            "step: 3, cost:0.005277530290186405\n",
            "step: 4, cost:0.004499008879065514\n",
            "step: 5, cost:0.004073257092386484\n",
            "step: 6, cost:0.0034871597308665514\n",
            "step: 7, cost:0.003060414921492338\n",
            "step: 8, cost:0.0026792718563228846\n",
            "step: 9, cost:0.002253956161439419\n",
            "step: 10, cost:0.002043391577899456\n"
          ]
        }
      ]
    },
    {
      "cell_type": "code",
      "metadata": {
        "colab": {
          "base_uri": "https://localhost:8080/"
        },
        "id": "ZKSLTscr3pHN",
        "outputId": "5c192b0d-cc09-44a7-dd75-33419287ae49"
      },
      "source": [
        "test_images =  mnist.test.images\n",
        "\n",
        "test_labels = mnist.test.labels\n",
        "\n",
        "hypothesis0 = tf.sigmoid(tf.matmul(test_images,w0)+b0)\n",
        "\n",
        "predict = tf.nn.softmax(tf.matmul(hypothesis0,w1)+b1)\n",
        "\n",
        "# 각 줄에서 최대값의 인덱스 리턴\n",
        "predict01 = tf.argmax(predict, 1)\n",
        "\n",
        "# 정답 셋에서 각 줄의 최댓값 인덱스 리턴\n",
        "target = tf.argmax(test_labels, 1)\n",
        "\n",
        "ac01 = tf.equal(predict01, target)\n",
        "\n",
        "\n",
        "ac02 = tf.cast(ac01, dtype = 'float32')\n",
        "\n",
        "ac03 = tf.reduce_mean(ac02)\n",
        "\n",
        "print(\"정확도 : \",ac03)"
      ],
      "execution_count": null,
      "outputs": [
        {
          "output_type": "stream",
          "name": "stdout",
          "text": [
            "정확도 :  tf.Tensor(0.9791, shape=(), dtype=float32)\n"
          ]
        }
      ]
    },
    {
      "cell_type": "code",
      "metadata": {
        "colab": {
          "base_uri": "https://localhost:8080/",
          "height": 227
        },
        "id": "bIxA9GQL47QB",
        "outputId": "9717c85e-ce97-4cf7-9786-2081da479882"
      },
      "source": [
        "fig = plt.figure()\n",
        "\n",
        "for i in range(10):\n",
        "\n",
        "  subplot = fig.add_subplot(2,5, i+1)\n",
        "\n",
        "  # X축에 아무 데이터도 출력 안하기\n",
        "  subplot.set_xticks([])\n",
        "\n",
        "  # y축에 아무 데이터도 출력 안하기\n",
        "  subplot.set_yticks([])\n",
        "\n",
        "  # 이미지의 제목으로 예측한 이미지의 이름 출력\n",
        "  subplot.set_title('predict : %d' % predict01[i])\n",
        "\n",
        "  # 이미지 출력\n",
        "  subplot.imshow(mnist.test.images[i].reshape((28, 28)),\n",
        "                 cmap ='Greys')\n",
        "plt.show()"
      ],
      "execution_count": null,
      "outputs": [
        {
          "output_type": "display_data",
          "data": {
            "image/png": "[encoded data removed]",
            "text/plain": [
              "<Figure size 432x288 with 10 Axes>"
            ]
          },
          "metadata": {}
        }
      ]
    },
    {
      "cell_type": "markdown",
      "metadata": {
        "id": "W-zfejQepasq"
      },
      "source": [
        "## "
      ]
    }
  ]
}
