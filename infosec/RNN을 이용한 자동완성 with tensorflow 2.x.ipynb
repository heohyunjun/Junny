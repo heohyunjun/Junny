{
  "nbformat": 4,
  "nbformat_minor": 0,
  "metadata": {
    "colab": {
      "name": "Untitled1.ipynb",
      "provenance": [],
      "authorship_tag": "ABX9TyNdNomBrF5jGaVrZups/OjC"
    },
    "kernelspec": {
      "name": "python3",
      "display_name": "Python 3"
    },
    "language_info": {
      "name": "python"
    }
  },
  "cells": [
    {
      "cell_type": "markdown",
      "metadata": {
        "id": "A23P0znouqdM"
      },
      "source": [
        "# RNN을 이용한 자동 완성 -2(텐서플로 2.x)\n",
        "\n",
        "- 83 ~ 93\n"
      ]
    },
    {
      "cell_type": "code",
      "metadata": {
        "id": "tecBr1HPzL9h"
      },
      "source": [
        "from tensorflow.keras.models import Sequential\n",
        "import numpy as np\n",
        "from tensorflow.keras.layers import SimpleRNN, Dense\n",
        "from tensorflow.keras.optimizers import Adam"
      ],
      "execution_count": null,
      "outputs": []
    },
    {
      "cell_type": "code",
      "metadata": {
        "id": "6FsUfnnDzL9i"
      },
      "source": [
        "# 입력할 단어 3개\n",
        "X_train = [\n",
        "           \"wor\", \"woo\", \"dee\", \"div\", \"col\",\n",
        "           \"coo\", \"loa\", \"lov\", \"kis\", \"kin\"\n",
        "           ]\n",
        "# X_train의 3개 단어 입력시 예측 단어\n",
        "y_train = [\n",
        "            \"d\",   \"d\" ,  \"p\",  \"e\"  ,\"d\",\n",
        "            \"d\",   \"d\"  , \"e\" , \"s\" , \"d\"\n",
        "           ]\n",
        "# 영어알파벳 리스트\n",
        "char_arr = [\n",
        "            'a','b','c','d','e','f','g',\n",
        "            'h','i','j','k','l','m','n',\n",
        "            'o','p','q','r','s','t','u',\n",
        "            'v','w','x','y','z'\n",
        "]"
      ],
      "execution_count": null,
      "outputs": []
    },
    {
      "cell_type": "code",
      "metadata": {
        "id": "gB0KfcTCzL9i"
      },
      "source": [
        "# 문자를 char\n",
        "# 인덱스를 i\n",
        "num_dic = {char : i for i, char in enumerate(char_arr)}\n",
        "\n",
        "# X_train의 단어를 숫자로 뽑고 인코딩\n",
        "# 원핫 인코딩\n",
        "X_train_onehot = []\n",
        "for seq in X_train:\n",
        "  print(\"seq =\",seq)\n",
        "  input = [num_dic[char] for char in seq]\n",
        "  print(\"input =\", input)\n",
        "  onehot = np.eye(26)[input]\n",
        "  print(\"onehot =\\n\",onehot)\n",
        "  X_train_onehot.append(onehot)\n",
        "  print(\"=\" *100)"
      ],
      "execution_count": null,
      "outputs": []
    },
    {
      "cell_type": "code",
      "metadata": {
        "id": "r7vRHdzmz-N7"
      },
      "source": [
        "# 타입변환\n",
        "X_train_onehot = np.array(X_train_onehot, dtype = np.float32)\n",
        "X_train_onehot"
      ],
      "execution_count": null,
      "outputs": []
    },
    {
      "cell_type": "code",
      "metadata": {
        "colab": {
          "base_uri": "https://localhost:8080/"
        },
        "id": "GFEErnCOz-N8",
        "outputId": "5cd77c1d-456a-4cbd-b17f-a4b040b6bcc8"
      },
      "source": [
        "y_train_tokens = [num_dic[char] for char in y_train]\n",
        "print(y_train_tokens)\n",
        "\n",
        "# 인코딩\n",
        "y_train_onehot = np.eye(26)[y_train_tokens]"
      ],
      "execution_count": null,
      "outputs": [
        {
          "output_type": "stream",
          "name": "stdout",
          "text": [
            "[3, 3, 15, 4, 3, 3, 3, 4, 18, 3]\n"
          ]
        }
      ]
    },
    {
      "cell_type": "code",
      "metadata": {
        "colab": {
          "base_uri": "https://localhost:8080/"
        },
        "id": "Mof4mt_1z-N8",
        "outputId": "9ce95e15-ee87-4601-b545-82722a73aba4"
      },
      "source": [
        "model = Sequential()\n",
        "\n",
        "model.add(SimpleRNN(units = 10, input_shape = (3, 26)))\n",
        "\n",
        "model.add(Dense(26, activation = 'softmax'))\n",
        "\n",
        "model.summary()"
      ],
      "execution_count": null,
      "outputs": [
        {
          "output_type": "stream",
          "name": "stdout",
          "text": [
            "Model: \"sequential\"\n",
            "_________________________________________________________________\n",
            "Layer (type)                 Output Shape              Param #   \n",
            "=================================================================\n",
            "simple_rnn (SimpleRNN)       (None, 10)                370       \n",
            "_________________________________________________________________\n",
            "dense (Dense)                (None, 26)                286       \n",
            "=================================================================\n",
            "Total params: 656\n",
            "Trainable params: 656\n",
            "Non-trainable params: 0\n",
            "_________________________________________________________________\n"
          ]
        }
      ]
    },
    {
      "cell_type": "code",
      "metadata": {
        "id": "_RhWTAGq0Prg"
      },
      "source": [
        "model.compile(loss = 'categorical_crossentropy',\n",
        "              optimizer = Adam(learning_rate = 0.1),\n",
        "              metrics = ['acc']\n",
        "              )\n",
        "model.fit(X_train_onehot, y_train_onehot, epochs = 100)"
      ],
      "execution_count": null,
      "outputs": []
    },
    {
      "cell_type": "code",
      "metadata": {
        "colab": {
          "base_uri": "https://localhost:8080/"
        },
        "id": "35M1lf4q0RDh",
        "outputId": "a2628015-ab81-4d3c-cbf2-2b42f9967a11"
      },
      "source": [
        "# 예측\n",
        "new_data = ['hel', 'mul', 'goo']\n",
        "\n",
        "new_data_onehot = []\n",
        "\n",
        "for seq in new_data:\n",
        "  print(\"seq: \",seq)\n",
        "  # 숫자로 변환\n",
        "  input = [num_dic[char] for char in seq]\n",
        "  print(\"input:\", input)\n",
        "\n",
        "  # input 인코딩\n",
        "  onehot = np.eye(26)[input]\n",
        "  print(\"one hot:\", onehot)\n",
        "\n",
        "  new_data_onehot.append(onehot)\n",
        "  print(\"=\"*30)"
      ],
      "execution_count": null,
      "outputs": [
        {
          "output_type": "stream",
          "name": "stdout",
          "text": [
            "seq:  hel\n",
            "input: [7, 4, 11]\n",
            "one hot: [[0. 0. 0. 0. 0. 0. 0. 1. 0. 0. 0. 0. 0. 0. 0. 0. 0. 0. 0. 0. 0. 0. 0. 0.\n",
            "  0. 0.]\n",
            " [0. 0. 0. 0. 1. 0. 0. 0. 0. 0. 0. 0. 0. 0. 0. 0. 0. 0. 0. 0. 0. 0. 0. 0.\n",
            "  0. 0.]\n",
            " [0. 0. 0. 0. 0. 0. 0. 0. 0. 0. 0. 1. 0. 0. 0. 0. 0. 0. 0. 0. 0. 0. 0. 0.\n",
            "  0. 0.]]\n",
            "==============================\n",
            "seq:  mul\n",
            "input: [12, 20, 11]\n",
            "one hot: [[0. 0. 0. 0. 0. 0. 0. 0. 0. 0. 0. 0. 1. 0. 0. 0. 0. 0. 0. 0. 0. 0. 0. 0.\n",
            "  0. 0.]\n",
            " [0. 0. 0. 0. 0. 0. 0. 0. 0. 0. 0. 0. 0. 0. 0. 0. 0. 0. 0. 0. 1. 0. 0. 0.\n",
            "  0. 0.]\n",
            " [0. 0. 0. 0. 0. 0. 0. 0. 0. 0. 0. 1. 0. 0. 0. 0. 0. 0. 0. 0. 0. 0. 0. 0.\n",
            "  0. 0.]]\n",
            "==============================\n",
            "seq:  goo\n",
            "input: [6, 14, 14]\n",
            "one hot: [[0. 0. 0. 0. 0. 0. 1. 0. 0. 0. 0. 0. 0. 0. 0. 0. 0. 0. 0. 0. 0. 0. 0. 0.\n",
            "  0. 0.]\n",
            " [0. 0. 0. 0. 0. 0. 0. 0. 0. 0. 0. 0. 0. 0. 1. 0. 0. 0. 0. 0. 0. 0. 0. 0.\n",
            "  0. 0.]\n",
            " [0. 0. 0. 0. 0. 0. 0. 0. 0. 0. 0. 0. 0. 0. 1. 0. 0. 0. 0. 0. 0. 0. 0. 0.\n",
            "  0. 0.]]\n",
            "==============================\n"
          ]
        }
      ]
    },
    {
      "cell_type": "code",
      "metadata": {
        "colab": {
          "base_uri": "https://localhost:8080/"
        },
        "id": "8yJb44I10v6h",
        "outputId": "9ccb79e1-ddff-4c0b-8465-279e368b925b"
      },
      "source": [
        "# 타입변환\n",
        "new_data_onehot = np.array(new_data_onehot, dtype =np.float32)\n",
        "\n",
        "# 예측\n",
        "pred = model.predict(new_data_onehot)\n",
        "\n",
        "# 최댓값 인덱스\n",
        "predict01 = np.argmax(pred, 1)\n",
        "\n",
        "# 예측값을 문자로\n",
        "for pred_num in predict01:\n",
        "  print(\"예측값:\",char_arr[pred_num])\n"
      ],
      "execution_count": null,
      "outputs": [
        {
          "output_type": "stream",
          "name": "stdout",
          "text": [
            "예측값: p\n",
            "예측값: d\n",
            "예측값: d\n"
          ]
        }
      ]
    },
    {
      "cell_type": "code",
      "metadata": {
        "id": "LpMnQt5J1Jkf"
      },
      "source": [
        ""
      ],
      "execution_count": null,
      "outputs": []
    }
  ]
}
