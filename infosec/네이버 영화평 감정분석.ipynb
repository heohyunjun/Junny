{
  "nbformat": 4,
  "nbformat_minor": 0,
  "metadata": {
    "colab": {
      "name": "Untitled1.ipynb",
      "provenance": [],
      "authorship_tag": "ABX9TyO9/dfYYGNVl3X+bZqKkGik"
    },
    "kernelspec": {
      "name": "python3",
      "display_name": "Python 3"
    },
    "language_info": {
      "name": "python"
    }
  },
  "cells": [
    {
      "cell_type": "markdown",
      "metadata": {
        "id": "hChDi-zhd028"
      },
      "source": [
        "# 네이버 영화평 감정 분석\n",
        "- 119 ~ 152\n"
      ]
    },
    {
      "cell_type": "code",
      "metadata": {
        "id": "rmGo0QEue0c8"
      },
      "source": [
        "!pip install konlpy"
      ],
      "execution_count": null,
      "outputs": []
    },
    {
      "cell_type": "code",
      "metadata": {
        "id": "iRnO98CWe0c8"
      },
      "source": [
        "from konlpy.tag import Twitter # 단어의 품사를 알려줌\n",
        "from tqdm.notebook import tqdm\n",
        "import numpy as np\n",
        "import tensorflow as tf\n",
        "from tensorflow.keras.preprocessing import sequence\n",
        "from tensorflow.keras.preprocessing.sequence import pad_sequences\n",
        "from tensorflow.python.keras.preprocessing.text import Tokenizer\n",
        "from tensorflow.keras import Sequential\n",
        "from tensorflow.keras.layers import Embedding\n",
        "from tensorflow.keras.initializers import Constant\n",
        "from tensorflow.keras.layers import LSTM,Dense\n",
        "from tensorflow.keras.optimizers import Adam\n",
        "import warnings\n",
        "warnings.filterwarnings(action='ignore')"
      ],
      "execution_count": null,
      "outputs": []
    },
    {
      "cell_type": "code",
      "metadata": {
        "id": "gEXMpgnpe0c8"
      },
      "source": [
        "train_path = '/content/drive/MyDrive/Colab Notebooks/AI_허현준/15주차 RNN_LSTM/datasets/ratings_train.txt'\n",
        "test_path = '/content/drive/MyDrive/Colab Notebooks/AI_허현준/15주차 RNN_LSTM/datasets/ratings_test.txt'"
      ],
      "execution_count": null,
      "outputs": []
    },
    {
      "cell_type": "code",
      "metadata": {
        "id": "uyqPoEQkfMIc"
      },
      "source": [
        "def read_data(filename):\n",
        "  with open(filename, 'r', encoding = 'utf8') as f:\n",
        "\n",
        "    # 한줄씩 나누고, 탭기준으로 나눠서 리스트에 넣음\n",
        "    result = [line.split('\\t') for line in f.read().splitlines()]\n",
        "\n",
        "    # header 제외 , 각 칸의 제목\n",
        "    result = result[1:] \n",
        "\n",
        "  return result"
      ],
      "execution_count": null,
      "outputs": []
    },
    {
      "cell_type": "code",
      "metadata": {
        "colab": {
          "base_uri": "https://localhost:8080/"
        },
        "id": "okBwdVmRg_B-",
        "outputId": "d0d0be3d-9376-4a1a-c730-e1f04dcf4842"
      },
      "source": [
        "# 로드\n",
        "train_tmp = read_data(train_path)\n",
        "test_tmp = read_data(test_path)\n",
        "\n",
        "train_tmp[:5]"
      ],
      "execution_count": null,
      "outputs": [
        {
          "output_type": "execute_result",
          "data": {
            "text/plain": [
              "[['9976970', '아 더빙.. 진짜 짜증나네요 목소리', '0'],\n",
              " ['3819312', '흠...포스터보고 초딩영화줄....오버연기조차 가볍지 않구나', '1'],\n",
              " ['10265843', '너무재밓었다그래서보는것을추천한다', '0'],\n",
              " ['9045019', '교도소 이야기구먼 ..솔직히 재미는 없다..평점 조정', '0'],\n",
              " ['6483659',\n",
              "  '사이몬페그의 익살스런 연기가 돋보였던 영화!스파이더맨에서 늙어보이기만 했던 커스틴 던스트가 너무나도 이뻐보였다',\n",
              "  '1']]"
            ]
          },
          "metadata": {},
          "execution_count": 48
        }
      ]
    },
    {
      "cell_type": "code",
      "metadata": {
        "id": "eSjwvwmjfvkZ"
      },
      "source": [
        "# 한글 품사 태깅 할 객체 생성\n",
        "twitter = Twitter()\n",
        "\n",
        "def getNounAdjective(text):\n",
        "  # 빈 리스트\n",
        "  stems = []\n",
        "\n",
        "  # 품사 기본형 담음\n",
        "  tagged = twitter.pos(text, stem = True)\n",
        "\n",
        "  # 품사 형태가 명사나 형용사인것들의 단어를 리스트에 추가\n",
        "  for i in range(len(tagged)):\n",
        "    if (tagged[i][1] == 'Noun') or (tagged[i][1] == 'Adjective'):\n",
        "      stems.append(tagged[i][0])\n",
        "  return \" \".join(stems)"
      ],
      "execution_count": null,
      "outputs": []
    },
    {
      "cell_type": "code",
      "metadata": {
        "colab": {
          "base_uri": "https://localhost:8080/",
          "height": 35
        },
        "id": "PLp_7OydgaHf",
        "outputId": "aba247d9-9ee6-4295-ef42-d58f0251f23c"
      },
      "source": [
        "# 함수 확인\n",
        "getNounAdjective(\"홍길동이 길을 걸어간다\")"
      ],
      "execution_count": null,
      "outputs": [
        {
          "output_type": "execute_result",
          "data": {
            "application/vnd.google.colaboratory.intrinsic+json": {
              "type": "string"
            },
            "text/plain": [
              "'홍길동 길'"
            ]
          },
          "metadata": {},
          "execution_count": 47
        }
      ]
    },
    {
      "cell_type": "code",
      "metadata": {
        "id": "v_0-ltfXgwCf"
      },
      "source": [
        "def kor_movie():\n",
        "  # 리뷰 데이터 저장 리스트\n",
        "  train_x = []\n",
        "\n",
        "  # 감성(0,1) 데이터 저장 리스트\n",
        "  train_y = []\n",
        "\n",
        "  for i in tqdm(range(len(train_tmp))):\n",
        "    # 리뷰\n",
        "    train_x.append(getNounAdjective(train_tmp[i][1]))\n",
        "\n",
        "    # 감성\n",
        "    train_y.append(int(train_tmp[i][2]))\n",
        "\n",
        "  test_x = []\n",
        "  test_y = []\n",
        "\n",
        "  for i in tqdm(range(len(test_tmp))):\n",
        "    test_x.append(getNounAdjective(test_tmp[i][1]))\n",
        "\n",
        "    test_y.append(int(test_tmp[i][2]))\n",
        "  return (train_x, train_y), (test_x, test_y)"
      ],
      "execution_count": null,
      "outputs": []
    },
    {
      "cell_type": "code",
      "metadata": {
        "colab": {
          "base_uri": "https://localhost:8080/",
          "height": 81,
          "referenced_widgets": [
            "5ad46833f7f04b01aead82d7525afa36",
            "a02a621b8ef7408e98f25af8473d44ab",
            "d3b69a039d4a4a5096908160e57d94e2",
            "86e37c2bc1ea405481746918c1e64d83",
            "5a72a4d3254d4e5cb0d113712b70dad3",
            "392fae521db7494994a49fc0fac294e8",
            "c9dc8439ca9343aea926f8139bfca154",
            "feb453474c4844cd94c71d24dc149b9a",
            "0aadaf9a956d4d94aac69530d6505d6d",
            "09bef1dafab44f05b1f867323126c781",
            "30b14ab76443416392295b06ba4e88bd",
            "bcff7c7ec1394a3094f6cc0eca93efcd"
          ]
        },
        "id": "EF22yzUuhwpn",
        "outputId": "828596d2-ced0-4a05-f899-839ae9766477"
      },
      "source": [
        "# 함수 호출\n",
        "(X_train, y_train), (X_test, y_test) = kor_movie()"
      ],
      "execution_count": null,
      "outputs": [
        {
          "output_type": "display_data",
          "data": {
            "application/vnd.jupyter.widget-view+json": {
              "model_id": "5ad46833f7f04b01aead82d7525afa36",
              "version_minor": 0,
              "version_major": 2
            },
            "text/plain": [
              "  0%|          | 0/150000 [00:00<?, ?it/s]"
            ]
          },
          "metadata": {}
        },
        {
          "output_type": "display_data",
          "data": {
            "application/vnd.jupyter.widget-view+json": {
              "model_id": "bcff7c7ec1394a3094f6cc0eca93efcd",
              "version_minor": 0,
              "version_major": 2
            },
            "text/plain": [
              "  0%|          | 0/50000 [00:00<?, ?it/s]"
            ]
          },
          "metadata": {}
        }
      ]
    },
    {
      "cell_type": "code",
      "metadata": {
        "id": "op_gPucUiIsn"
      },
      "source": [
        "# 가장 많이 사용하는 단어 999개를 숫자로 변환\n",
        "tokenizer = Tokenizer(num_words = 999)\n",
        "\n",
        "# X_train의 데이터들의 빈도 파악\n",
        "tokenizer.fit_on_texts(X_train)\n",
        "\n",
        "# tokenizer 가 어떤 단어를 숫자로 변환 했는지 확인\n",
        "tokenizer.word_index.items()\n",
        "\n",
        "# X_train의 단어들을 숫자로 변환\n",
        "X_train_token = tokenizer.texts_to_sequences(X_train)\n",
        "\n",
        "# X_test의 단어들을 숫자로 변환\n",
        "X_test_token = tokenizer.texts_to_sequences(X_test)"
      ],
      "execution_count": null,
      "outputs": []
    },
    {
      "cell_type": "code",
      "metadata": {
        "id": "83O2qsFQi0tB"
      },
      "source": [
        "#  i번쨰 줄의 글자수가 2 미만이면 저장\n",
        "one_word_idx = [i for i in range(len(X_train_token)) if len(X_train_token[i]) < 2]\n",
        "\n",
        "# 단어수가 2미만에 해당하지 않으면 저장\n",
        "X_train_token = [token for i, token in enumerate(X_train_token) if i not in one_word_idx]\n",
        "\n",
        "\n",
        "y_train = [text for i, text in enumerate(y_train) if i not in one_word_idx]"
      ],
      "execution_count": null,
      "outputs": []
    },
    {
      "cell_type": "code",
      "metadata": {
        "id": "vkagXcrgjq4d"
      },
      "source": [
        "# 각 영화 리뷰 문장들의 길이가 다름\n",
        "# 40길이로 맞추고 길이가 짧은 문자열들은 0으로 채움\n",
        "\n",
        "X_train_pad = sequence.pad_sequences(X_train_token, maxlen =40)\n",
        "\n",
        "X_test_pad = sequence.pad_sequences(X_test_token, maxlen =40)"
      ],
      "execution_count": null,
      "outputs": []
    },
    {
      "cell_type": "code",
      "metadata": {
        "colab": {
          "base_uri": "https://localhost:8080/"
        },
        "id": "EGLwh4iIj7G8",
        "outputId": "b30cb939-e2d3-4297-8727-cb967be24b4c"
      },
      "source": [
        "# 모델 객체 새성\n",
        "model = Sequential()\n",
        "\n",
        "model.add(Embedding(input_dim = 1000, # 인코딩 할 숫자 종류 0~999개, 즉 1000개\n",
        "                    output_dim = 1000, # 인코딩 한 결과의 칸의수가 1000칸이 필요\n",
        "                    input_length = 40, # 입력 데이터의 개수 리뷰 하나당 40개의 숫자\n",
        "                    embeddings_initializer = Constant(np.eye(1000))))\n",
        "\n",
        "model.add(LSTM(units = 128))\n",
        "\n",
        "model.add(Dense(1, activation = 'sigmoid'))\n",
        "\n",
        "model.summary()"
      ],
      "execution_count": null,
      "outputs": [
        {
          "output_type": "stream",
          "name": "stdout",
          "text": [
            "Model: \"sequential_4\"\n",
            "_________________________________________________________________\n",
            "Layer (type)                 Output Shape              Param #   \n",
            "=================================================================\n",
            "embedding_1 (Embedding)      (None, 40, 1000)          1000000   \n",
            "_________________________________________________________________\n",
            "lstm_1 (LSTM)                (None, 128)               578048    \n",
            "_________________________________________________________________\n",
            "dense_1 (Dense)              (None, 1)                 129       \n",
            "=================================================================\n",
            "Total params: 1,578,177\n",
            "Trainable params: 1,578,177\n",
            "Non-trainable params: 0\n",
            "_________________________________________________________________\n"
          ]
        }
      ]
    },
    {
      "cell_type": "code",
      "metadata": {
        "colab": {
          "base_uri": "https://localhost:8080/"
        },
        "id": "FATw9USxkfxv",
        "outputId": "6411ed37-dfec-4b45-fdf9-314aa686e9f3"
      },
      "source": [
        "# 모델 컴파일 및 훈련\n",
        "model.compile(loss = 'binary_crossentropy',\n",
        "              optimizer = Adam(learning_rate = 1e-3),\n",
        "              metrics = ['acc'])\n",
        "\n",
        "# y_train 타입변환\n",
        "y_train = np.array(y_train, dtype = np.float32)\n",
        "y_test = np.array(y_test, dtype = np.float32)\n",
        "\n",
        "# 학습\n",
        "model.fit(X_train_pad, y_train,\n",
        "          batch_size =1000,\n",
        "          epochs = 30)"
      ],
      "execution_count": null,
      "outputs": [
        {
          "output_type": "stream",
          "name": "stdout",
          "text": [
            "Epoch 1/30\n",
            "127/127 [==============================] - 17s 101ms/step - loss: 0.4366 - acc: 0.7997\n",
            "Epoch 2/30\n",
            "127/127 [==============================] - 13s 100ms/step - loss: 0.3915 - acc: 0.8208\n",
            "Epoch 3/30\n",
            "127/127 [==============================] - 13s 104ms/step - loss: 0.3780 - acc: 0.8270\n",
            "Epoch 4/30\n",
            "127/127 [==============================] - 13s 100ms/step - loss: 0.3690 - acc: 0.8313\n",
            "Epoch 5/30\n",
            "127/127 [==============================] - 13s 100ms/step - loss: 0.3627 - acc: 0.8338\n",
            "Epoch 6/30\n",
            "127/127 [==============================] - 13s 100ms/step - loss: 0.3556 - acc: 0.8382\n",
            "Epoch 7/30\n",
            "127/127 [==============================] - 13s 100ms/step - loss: 0.3478 - acc: 0.8420\n",
            "Epoch 8/30\n",
            "127/127 [==============================] - 13s 100ms/step - loss: 0.3399 - acc: 0.8458\n",
            "Epoch 9/30\n",
            "127/127 [==============================] - 13s 101ms/step - loss: 0.3310 - acc: 0.8504\n",
            "Epoch 10/30\n",
            "127/127 [==============================] - 13s 101ms/step - loss: 0.3230 - acc: 0.8544\n",
            "Epoch 11/30\n",
            "127/127 [==============================] - 13s 100ms/step - loss: 0.3139 - acc: 0.8588\n",
            "Epoch 12/30\n",
            "127/127 [==============================] - 13s 101ms/step - loss: 0.3046 - acc: 0.8632\n",
            "Epoch 13/30\n",
            "127/127 [==============================] - 13s 101ms/step - loss: 0.2941 - acc: 0.8686\n",
            "Epoch 14/30\n",
            "127/127 [==============================] - 13s 101ms/step - loss: 0.2819 - acc: 0.8752\n",
            "Epoch 15/30\n",
            "127/127 [==============================] - 13s 100ms/step - loss: 0.2691 - acc: 0.8811\n",
            "Epoch 16/30\n",
            "127/127 [==============================] - 13s 100ms/step - loss: 0.2571 - acc: 0.8875\n",
            "Epoch 17/30\n",
            "127/127 [==============================] - 13s 100ms/step - loss: 0.2431 - acc: 0.8950\n",
            "Epoch 18/30\n",
            "127/127 [==============================] - 13s 100ms/step - loss: 0.2283 - acc: 0.9018\n",
            "Epoch 19/30\n",
            "127/127 [==============================] - 13s 100ms/step - loss: 0.2156 - acc: 0.9077\n",
            "Epoch 20/30\n",
            "127/127 [==============================] - 13s 100ms/step - loss: 0.2001 - acc: 0.9156\n",
            "Epoch 21/30\n",
            "127/127 [==============================] - 13s 100ms/step - loss: 0.1862 - acc: 0.9222\n",
            "Epoch 22/30\n",
            "127/127 [==============================] - 13s 100ms/step - loss: 0.1735 - acc: 0.9284\n",
            "Epoch 23/30\n",
            "127/127 [==============================] - 13s 101ms/step - loss: 0.1608 - acc: 0.9353\n",
            "Epoch 24/30\n",
            "127/127 [==============================] - 13s 100ms/step - loss: 0.1492 - acc: 0.9406\n",
            "Epoch 25/30\n",
            "127/127 [==============================] - 13s 100ms/step - loss: 0.1382 - acc: 0.9454\n",
            "Epoch 26/30\n",
            "127/127 [==============================] - 13s 100ms/step - loss: 0.1252 - acc: 0.9515\n",
            "Epoch 27/30\n",
            "127/127 [==============================] - 13s 100ms/step - loss: 0.1157 - acc: 0.9562\n",
            "Epoch 28/30\n",
            "127/127 [==============================] - 13s 100ms/step - loss: 0.1074 - acc: 0.9595\n",
            "Epoch 29/30\n",
            "127/127 [==============================] - 13s 100ms/step - loss: 0.1012 - acc: 0.9619\n",
            "Epoch 30/30\n",
            "127/127 [==============================] - 13s 100ms/step - loss: 0.0948 - acc: 0.9650\n"
          ]
        },
        {
          "output_type": "execute_result",
          "data": {
            "text/plain": [
              "<keras.callbacks.History at 0x7f2485080d10>"
            ]
          },
          "metadata": {},
          "execution_count": 61
        }
      ]
    },
    {
      "cell_type": "code",
      "metadata": {
        "colab": {
          "base_uri": "https://localhost:8080/"
        },
        "id": "3Ou02mr9k-Yl",
        "outputId": "f4f0065c-7b3e-412a-bb24-52d5ca401bfd"
      },
      "source": [
        "# 모델 평가\n",
        "model.evaluate(X_test_pad, y_test)"
      ],
      "execution_count": null,
      "outputs": [
        {
          "output_type": "stream",
          "name": "stdout",
          "text": [
            "1563/1563 [==============================] - 11s 6ms/step - loss: 0.8434 - acc: 0.7801\n"
          ]
        },
        {
          "output_type": "execute_result",
          "data": {
            "text/plain": [
              "[0.8433747887611389, 0.7801399827003479]"
            ]
          },
          "metadata": {},
          "execution_count": 67
        }
      ]
    },
    {
      "cell_type": "code",
      "metadata": {
        "id": "XyXe0lFtlIoy"
      },
      "source": [
        "# 새로운 리뷰 예측\n",
        "my_test_data = [\n",
        "                \"너무 지루 했습니다. 한 시간이 일년처럼 느껴 졌습니다\",\n",
        "                \"옆사람의 통화 소리에 영화에 집중이 안 돼요\",\n",
        "                \"오랜만에 본 감동적인 영화 였습니다\"\n",
        "]\n",
        "\n",
        "test_data_list = []\n",
        "\n",
        "for my_data in my_test_data:\n",
        "  # 명사와 형용사만 리턴\n",
        "  text = getNounAdjective(my_data)\n",
        "\n",
        "  # 추가\n",
        "  test_data_list.append(text)\n",
        "\n",
        "# 단어를 숫자로 변환\n",
        "x_test_token = tokenizer.texts_to_sequences(test_data_list)\n",
        "\n",
        "# 문자 길이를 40으로 맞춤\n",
        "x_test_pad = pad_sequences(x_test_token, maxlen =40)"
      ],
      "execution_count": null,
      "outputs": []
    },
    {
      "cell_type": "code",
      "metadata": {
        "colab": {
          "base_uri": "https://localhost:8080/"
        },
        "id": "3Ev7pXbqlxs0",
        "outputId": "dc2a7213-7e62-48a1-bb6b-dd184121d100"
      },
      "source": [
        "# 예측\n",
        "predict = model.predict(x_test_pad)\n",
        "\n",
        "# 0.5 이상 1, 0\n",
        "predict_num = np.where(predict>0.5, 1,0)\n",
        "\n",
        "# 1이면 긍정, 아니면 부정 리턴\n",
        "predict_str = ['긍정' if pre ==1 else \"부정\" for pre in predict_num] \n",
        "predict_str"
      ],
      "execution_count": null,
      "outputs": [
        {
          "output_type": "execute_result",
          "data": {
            "text/plain": [
              "['부정', '긍정', '긍정']"
            ]
          },
          "metadata": {},
          "execution_count": 69
        }
      ]
    }
  ]
}