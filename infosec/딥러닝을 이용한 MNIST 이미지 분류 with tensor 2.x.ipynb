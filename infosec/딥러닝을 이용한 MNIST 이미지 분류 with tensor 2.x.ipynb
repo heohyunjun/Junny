{
  "nbformat": 4,
  "nbformat_minor": 0,
  "metadata": {
    "colab": {
      "name": "Untitled1.ipynb",
      "provenance": [],
      "authorship_tag": "ABX9TyMiOHzLDGyUG3bFg1+oiKMX"
    },
    "kernelspec": {
      "name": "python3",
      "display_name": "Python 3"
    },
    "language_info": {
      "name": "python"
    }
  },
  "cells": [
    {
      "cell_type": "markdown",
      "metadata": {
        "id": "JHfVg1p1xhtG"
      },
      "source": [
        "## 딥러닝을 이용한 MNIST 이미지 분류 (텐서플로 2.x)\n",
        "\n",
        "- 395 ~ 410"
      ]
    },
    {
      "cell_type": "code",
      "metadata": {
        "id": "sJYZ48xYxyzU"
      },
      "source": [
        "import tensorflow as tf\n",
        "from tensorflow.keras.datasets import mnist\n",
        "from tensorflow.keras.models import Sequential\n",
        "from sklearn.preprocessing import OneHotEncoder\n",
        "from tensorflow.keras.layers import Dense\n",
        "import numpy as np\n",
        "from tensorflow.keras.optimizers import Adam\n",
        "import matplotlib.pyplot as plt"
      ],
      "execution_count": null,
      "outputs": []
    },
    {
      "cell_type": "code",
      "metadata": {
        "colab": {
          "base_uri": "https://localhost:8080/"
        },
        "id": "vKilqYbayCdS",
        "outputId": "f73d959f-50bb-4b16-f44b-54c92e6a9342"
      },
      "source": [
        "(X_train, y_train),(X_test, y_test) = mnist.load_data()"
      ],
      "execution_count": null,
      "outputs": [
        {
          "output_type": "stream",
          "name": "stdout",
          "text": [
            "Downloading data from https://storage.googleapis.com/tensorflow/tf-keras-datasets/mnist.npz\n",
            "11493376/11490434 [==============================] - 0s 0us/step\n",
            "11501568/11490434 [==============================] - 0s 0us/step\n"
          ]
        }
      ]
    },
    {
      "cell_type": "code",
      "metadata": {
        "colab": {
          "base_uri": "https://localhost:8080/"
        },
        "id": "xnqbNW-GyMz7",
        "outputId": "808e1f2c-eea8-4cd7-b45b-a81fbc12bbfa"
      },
      "source": [
        "# train\n",
        "print(\"X_train\" ,X_train.shape)\n",
        "\n",
        "# 차원 변환\n",
        "X_train =  X_train.reshape(60000, 784)\n",
        "\n",
        "# 차원 변환 후 shape\n",
        "print(\"X_train\",X_train.shape)\n",
        "\n",
        "# y.shape\n",
        "print(\"y_train\" ,y_train.shape)\n",
        "\n",
        "# 차원 변환\n",
        "y_train =  y_train.reshape(-1, 1)\n",
        "\n",
        "# 차원 변화 후 shape\n",
        "print(\"y_train\" ,y_train.shape)"
      ],
      "execution_count": null,
      "outputs": [
        {
          "output_type": "stream",
          "name": "stdout",
          "text": [
            "X_train (60000, 784)\n",
            "X_train (60000, 784)\n",
            "y_train (60000,)\n",
            "y_train (60000, 1)\n"
          ]
        }
      ]
    },
    {
      "cell_type": "code",
      "metadata": {
        "colab": {
          "base_uri": "https://localhost:8080/"
        },
        "id": "unV_uGyly_dY",
        "outputId": "ba7a0b6a-f37e-433a-87f5-d84906f126bd"
      },
      "source": [
        "# test\n",
        "# X shape\n",
        "print(\"X_test\" ,X_test.shape)\n",
        "\n",
        "# 차원 변환\n",
        "X_test =  X_test.reshape(-1, 784)\n",
        "\n",
        "# 차원 변환 후 shape\n",
        "print(\"X_test\",X_test.shape)\n",
        "\n",
        "# y.shape\n",
        "print(\"y_test\" ,y_test.shape)\n",
        "\n",
        "# 차원 변환\n",
        "y_test =  y_test.reshape(-1, 1)\n",
        "\n",
        "# 차원 변화 후 shape\n",
        "print(\"y_test\" ,y_test.shape)"
      ],
      "execution_count": null,
      "outputs": [
        {
          "output_type": "stream",
          "name": "stdout",
          "text": [
            "X_test (10000, 784)\n",
            "X_test (10000, 784)\n",
            "y_test (10000, 1)\n",
            "y_test (10000, 1)\n"
          ]
        }
      ]
    },
    {
      "cell_type": "code",
      "metadata": {
        "colab": {
          "base_uri": "https://localhost:8080/"
        },
        "id": "DT46gN1qzbO9",
        "outputId": "ff0fd583-ae9b-48a4-f759-cc05ddcca5be"
      },
      "source": [
        "print(\"학습셋 이미지 수 : {} 개\".format(X_train.shape[0]))\n",
        "print(\"테스트셋 이미지 수 : {} 개\".format(X_test.shape[0]))"
      ],
      "execution_count": null,
      "outputs": [
        {
          "output_type": "stream",
          "name": "stdout",
          "text": [
            "학습셋 이미지 수 : 60000 개\n",
            "테스트셋 이미지 수 : 10000 개\n"
          ]
        }
      ]
    },
    {
      "cell_type": "code",
      "metadata": {
        "id": "k0aykLd_zpmG"
      },
      "source": [
        "# 인코딩 객체\n",
        "enc = OneHotEncoder()\n",
        "\n",
        "# y_train 학습 (종류 몇개)\n",
        "enc.fit(y_train)\n",
        "\n",
        "# train \n",
        "# 인코딩 한 데이터를 numpy배열로 변환\n",
        "y_train_onehot = enc.transform(y_train).toarray()\n",
        "\n",
        "# 타입 변환\n",
        "y_train_onehot = np.array(y_train_onehot, dtype=\"float32\")\n",
        "\n",
        "# test\n",
        "# 인코딩 한 데이터를 numpy배열로 변환\n",
        "y_test_onehot = enc.transform(y_test).toarray()\n",
        "\n",
        "# 타입 변환\n",
        "y_test_onehot = np.array(y_test_onehot, dtype=\"float32\")"
      ],
      "execution_count": null,
      "outputs": []
    },
    {
      "cell_type": "code",
      "metadata": {
        "colab": {
          "base_uri": "https://localhost:8080/"
        },
        "id": "as_FSCnHzpmH",
        "outputId": "5978cf7f-3f88-4e36-a1e6-41745b4a8540"
      },
      "source": [
        "# 객체 생성\n",
        "model = Sequential()\n",
        "\n",
        "# 입력 784 칸\n",
        "# 출력 200칸\n",
        "# 활성화 함수 sigmoid\n",
        "model.add(Dense(200, input_dim=784, activation=\"sigmoid\"))\n",
        "\n",
        "# 인풋은 전 Dense\n",
        "# 출력은 10칸\n",
        "# 출력은 왜 10칸? --> 숫자가 0~9\n",
        "model.add(Dense(10, activation=\"softmax\"))\n",
        "\n",
        "model.summary()\n",
        "\n",
        "model.compile(loss = 'categorical_crossentropy', optimizer = Adam(learning_rate = 0.001), metrics = ['acc'])\n",
        "\n",
        "model.fit(X_train, y_train_onehot, epochs = 10, batch_size = 100)"
      ],
      "execution_count": null,
      "outputs": [
        {
          "output_type": "stream",
          "name": "stdout",
          "text": [
            "Model: \"sequential_1\"\n",
            "_________________________________________________________________\n",
            "Layer (type)                 Output Shape              Param #   \n",
            "=================================================================\n",
            "dense_2 (Dense)              (None, 200)               157000    \n",
            "_________________________________________________________________\n",
            "dense_3 (Dense)              (None, 10)                2010      \n",
            "=================================================================\n",
            "Total params: 159,010\n",
            "Trainable params: 159,010\n",
            "Non-trainable params: 0\n",
            "_________________________________________________________________\n",
            "Epoch 1/10\n",
            "600/600 [==============================] - 3s 3ms/step - loss: 0.5051 - acc: 0.8642\n",
            "Epoch 2/10\n",
            "600/600 [==============================] - 2s 3ms/step - loss: 0.2973 - acc: 0.9167\n",
            "Epoch 3/10\n",
            "600/600 [==============================] - 2s 3ms/step - loss: 0.2625 - acc: 0.9251\n",
            "Epoch 4/10\n",
            "600/600 [==============================] - 2s 3ms/step - loss: 0.2481 - acc: 0.9284\n",
            "Epoch 5/10\n",
            "600/600 [==============================] - 2s 3ms/step - loss: 0.2297 - acc: 0.9332\n",
            "Epoch 6/10\n",
            "600/600 [==============================] - 2s 3ms/step - loss: 0.2208 - acc: 0.9354\n",
            "Epoch 7/10\n",
            "600/600 [==============================] - 2s 3ms/step - loss: 0.2224 - acc: 0.9341\n",
            "Epoch 8/10\n",
            "600/600 [==============================] - 2s 3ms/step - loss: 0.2086 - acc: 0.9382\n",
            "Epoch 9/10\n",
            "600/600 [==============================] - 2s 3ms/step - loss: 0.1932 - acc: 0.9432\n",
            "Epoch 10/10\n",
            "600/600 [==============================] - 2s 3ms/step - loss: 0.1946 - acc: 0.9419\n"
          ]
        },
        {
          "output_type": "execute_result",
          "data": {
            "text/plain": [
              "<keras.callbacks.History at 0x7fa48751ac50>"
            ]
          },
          "metadata": {},
          "execution_count": 18
        }
      ]
    },
    {
      "cell_type": "code",
      "metadata": {
        "colab": {
          "base_uri": "https://localhost:8080/"
        },
        "id": "AO-AtmGr1AMX",
        "outputId": "2725aa29-8371-47e4-d000-c53b486040f5"
      },
      "source": [
        "# 예측\n",
        "predict = model.predict(X_test)\n",
        "\n",
        "# argmax,1 : 각 줄의 최대값이 있는 부분 인덱스 리턴\n",
        "predict01 =np.argmax(predict, 1)\n",
        "\n",
        "target = np.argmax(y_test_onehot, 1)\n",
        "\n",
        "predict02 = (predict01 == target)\n",
        "\n",
        "# 정확도 계산\n",
        "acc = np.sum(predict02)/len(predict02)\n",
        "\n",
        "print(\"Acc:\",acc)"
      ],
      "execution_count": null,
      "outputs": [
        {
          "output_type": "stream",
          "name": "stdout",
          "text": [
            "Acc: 0.9437\n"
          ]
        }
      ]
    }
  ]
}
