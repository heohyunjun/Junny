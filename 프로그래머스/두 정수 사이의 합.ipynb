{
  "nbformat": 4,
  "nbformat_minor": 0,
  "metadata": {
    "colab": {
      "name": "Untitled1.ipynb",
      "provenance": [],
      "authorship_tag": "ABX9TyP9a9sX9kXyhn/GvLPCDn05"
    },
    "kernelspec": {
      "name": "python3",
      "display_name": "Python 3"
    },
    "language_info": {
      "name": "python"
    }
  },
  "cells": [
    {
      "cell_type": "markdown",
      "metadata": {
        "id": "FwmLTbNLoNsd"
      },
      "source": [
        "# 두 정수사이의 합"
      ]
    },
    {
      "cell_type": "markdown",
      "metadata": {
        "id": "8sqAKlFj2P3u"
      },
      "source": [
        "문제 설명\n",
        "- 두 정수 a, b가 주어졌을 때 a와 b 사이에 속한 모든 정수의 합을 리턴하는 함수, solution을 완성하세요.\n",
        "- 예를 들어 a = 3, b = 5인 경우, 3 + 4 + 5 = 12이므로 12를 리턴합니다."
      ]
    },
    {
      "cell_type": "code",
      "metadata": {
        "id": "SPmFustyoYeD"
      },
      "source": [
        "a = 3\n",
        "b = 5"
      ],
      "execution_count": 4,
      "outputs": []
    },
    {
      "cell_type": "code",
      "metadata": {
        "id": "9WIPEo1_2ayF"
      },
      "source": [
        "def solution(a,b):\n",
        "  return sum(i for i in range(min(a,b), max(a,b)+1))"
      ],
      "execution_count": null,
      "outputs": []
    },
    {
      "cell_type": "code",
      "metadata": {
        "colab": {
          "base_uri": "https://localhost:8080/"
        },
        "id": "aeF7_TwY2XfC",
        "outputId": "af9ca510-4c68-45c9-accf-359178f9b4bd"
      },
      "source": [
        "solution(a,b)"
      ],
      "execution_count": 5,
      "outputs": [
        {
          "output_type": "execute_result",
          "data": {
            "text/plain": [
              "12"
            ]
          },
          "metadata": {},
          "execution_count": 5
        }
      ]
    }
  ]
}
