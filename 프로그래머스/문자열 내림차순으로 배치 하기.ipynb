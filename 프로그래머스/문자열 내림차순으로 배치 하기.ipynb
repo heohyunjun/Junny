{
  "nbformat": 4,
  "nbformat_minor": 0,
  "metadata": {
    "colab": {
      "name": "Untitled1.ipynb",
      "provenance": [],
      "authorship_tag": "ABX9TyMi1TQT6dQxRbMlA4/31laR"
    },
    "kernelspec": {
      "name": "python3",
      "display_name": "Python 3"
    },
    "language_info": {
      "name": "python"
    }
  },
  "cells": [
    {
      "cell_type": "markdown",
      "metadata": {
        "id": "ojjSnEKLMKMQ"
      },
      "source": [
        "# 문자열 내림차순으로 배치하기\n"
      ]
    },
    {
      "cell_type": "markdown",
      "metadata": {
        "id": "VfSt3BO3MNNR"
      },
      "source": [
        "문제 설명\n",
        "\n",
        "- 문자열 s에 나타나는 문자를 큰것부터 작은 순으로 정렬해 새로운 문자열을 리턴하는 함수, solution을 완성해주세요.\n",
        "\n",
        "- s는 영문 대소문자로만 구성되어 있으며, 대문자는 소문자보다 작은 것으로 간주합니다."
      ]
    },
    {
      "cell_type": "markdown",
      "metadata": {
        "id": "GnkJKyrTMRp3"
      },
      "source": [
        "![image.png](data:image/png;base64,iVBORw0KGgoAAAANSUhEUgAAAQAAAACRCAYAAAAsP2Y0AAAYCUlEQVR4Ae2d/2tUx97H+188vwYuCkXwFwP+UAO3QiOK3FoSpBXSNsEGqUqk6WK9TwzRIMkti01IzPVu0KhZomnMQ7I3URcvSXqjNS3ZttDo5YmhxKbE++jVEkNLAsL7Yc7MnDPnnDm7Z9c9yWbPR1j328mcmc+X17znMxN9bfP2XaAH2YBiIJwx8Bo5PpyOJ7+T31kMEABIAZECDHEMEABC7HxSAaQCCAAEAFIAIY4BAkCInU8KgBQAAYAAQAogxDFAAAix80kBkAIgABAASAGEOAYIACF2PikAUgAEAAIAKYAQxwABIMTOJwVACoAAQAAgBRDiGMgLAOqHHmBu7g6+8GXIBO7/voqFyc78B17TLXw39wjJv+WD7B/jo6ZWHPn4A6OfX4w/wtwPt1Dva4z5uD+1QQol+BhIA4APUH/hDr5bXMbK76tY+X0ZCz/cQddJnhCqc1qnlwE8woAjOXZ+fBr1Ta2Oxx0sAFj68brj81bU//k4dtrauITk3CPMeTxcid72PZYAzP3dv+H21bP+NWCf7b7s529hjvVzOmYAYGAewIvv0eq6zv+9VJvRa7JbIcSABwAaEP9fltTAyn8e4buvxzDxwyM8XWWfLOP+lw222dsLAPxzoxl/f7kSzAMAC7xvLNFtkOl94B8AFZ1ILhgD4n1bfYyJDhVuBIBCCFDqQ7Cg1AJgZ98cVsTsZ5uRK2K49yuAl3OIV1gd8wKAznk7v2TzKoD/u4OPcp1NlZleBxk/CoD/3CoWxi+hvmsMcy8ArM7hgjkuAoDOf/SZFffFYAstAHhyPEbCTAZl0H08ge/3WZ/5BcC+v31rqIiVF8scMGwZoLtHJjAoAMhJAVQkcP8lsPJjn7XkEG0uLcolx3MTgszRtASw/F0MgU9j4P7UAqDrRyaN3Wt6w2gXHhiJMTdkBYQnAD5sQH3TJcS/foAFphzYkmLhDk5VfID6wTksvWRqgtUWvsXApU7U139sW1rIdTj/SfffrpleAUNaBxsQW8a9DmsMm7fHcI+pgJes3sEf7I5UA1BtRK/TxlWmiasAv9cC4P3kYyPbFm7Y1/qbtzdgYJ7B4TESR61g0AJAzLJGQ6vLeDr3PQaijgT/8Cy6xhkcrLX4wj/Ue3IZjoU77oJhUys++nAX+A6EmLWV2kA6R+28wcbnBpwxy//6PU4ZjqIlQDob0ndW/G9kW2gBwGbDif+w1F01Kv/xrlZ88SXbEeCJymZFtTagBcD2XdhXr6uuextuX/1pvG9bEggAzN9yKAOrjVOTj80Ze0VwxKUMHOT16q9d5hMANnJgU9+tHElnCw8A7MLmilZcmH7MZboxjbNtsMe419dqS37WuDuhROLKn8vy2Upg0Y5DAZy6dAuJG2NIfP3AvufvcwlQP/ncWwGYOxEEgHSBQ9/5S7BCt5M3AByzZrqBuA8C8UM07jMAbM89zTkAcWaASXt+vzQgMdbqy5i70WqpA58A2Pz3RwCeY6JJ3oc9H0dyEcCvcxwuNx7gKdUALNtmEQ/pYoW+U2Nu/V9nAADfh/9uSEkyTSC4ASAGVnEcR7I4CCRP3eUcJNFvsfD7Ku4PZjBs07dGci8kj1sBXqGHDRUBM9hSEw85+4/asuJxjWyRAQB2GezlWPcSQASNSEhZVfd8Fmt3mWzu+6RTFM6Thrw46G5DDeSzvMbx4gG+MNTGB2IZ8xwTzfI6+9jt9QF5DT2ntzPZp9Dt4wsA+PWx53FcdkyXb/G5q+q+By/34MWxW/fP6Wdnr9KCVUPwDsCdHfzYsLHtpwDIKm4SANx+8LYnXbsxbRMsAPKmAHwa128NQMirnSevY+IB20Kcw72hTsfvAxAAKKl9xt0ayfUg/OELAN7SnBvIcwkgEnJl/ltRWBtL+xzvUNbkuRg1SwCkNygBIL19ij85wjD+NQFAJoDkzdAEgDUvIuXNd7kAn37mlf3tCwBea23755oagEhI+3Xp3mnayMbJeQWAfQeEioA04xcj7DIAIJvqu+bUn3Yb0F21t84LaNrIBgBHY4jfGEOXWcnPX9D++dIYEoMxvJ9Nf+jaV56hijHpCmlMGQCQvwQqpEFTX8ivFAM8BggANEvTLB3iGCAAhNj5NAuSEiIAEABIAYQ4BggAIXY+KQBSAAQAAgApgBDHAAEgxM4nBUAKgABAACAFEOIYIACE2PmkAEgBEAAIAKQAQhwDBIAQO58UACkAAgABgBRAiGOAABBi55MCIAVAACAAkAIIcQwQAELsfFIApAAIAAQAUgAhjgECQIidTwqAFAABgABACiDEMUAACLHzSQGQAiAAEABIAYQ4BggAIXY+KQBSAC4A/NcfSkEPsgHFQPHHAJsAtAAo2VIGeoTHBizZyd/h8TfzNfM5AYBAZyQ+ASBcyU8AoMS3zfgEAAKAWQmmYAhnMNASIFx+pyUAqQBTBRD0w5X8tASg5DeTXwYDKYBwQYAUAEHAhAApgHAlv4Q+7QIQBAwIEAAIAFQEDDEMCAAEAAIAAcBcElA9oPiBQDWAECe8M8FJARR/wut8TjUAggDVAEIaA6QAQup450zA3pMCIAVANYAQA4EAQAAgABAACqcI+NkIUrPzSA2cKpw+FVl80BKgyByqk/Z+Pys4BfCXFJYALH3TSQAIKE4JAAEZ1m/SFdJ1BABaAuR/CbD7LIZmnmHpJcw/K8/nMXR6P1G9wOCTDwCc+WYZwDLuRjsx9suq8Pk8rpljrUFjYh5LK2Y4AC8WcffyKZSZ13Ti7gvle/nyRQpnjGtG8JB99tOIO4Y0qiFtn5Tr667N2vq18ksKscPFDYWAFUArxp5y7y39lMLNxG0M/XMWTwznP8NYQ3Ebt5Bmdz99yScAnjxdBV4u4+fZeTyc/QpRI3HrEJthgICR9Kl/3sbNb+ZFPABPvu4UEDiFa6l5PHwkrn2+iIesndQI6l4BANo+SQD8soiVl6t4MpvCzVspPGT9Z39+m0HH7uKN02ABEOVruJUfLit0L0NZNIUnK8t4mDjrJrg5CxSv0f0k43pckz8AAHiewhlH4pRdngVj/9LMNVSrft7dibvPWbYtYuig4neZnK4aQC4KQN+nEnEPrlpUVbofsX9xCDwcUPqk9rsIXgcLgMuzBkSpiLMxAiifAJi57Bzzflz7CcDLWVx2gMGA3V9nDDg8GVcq/nkGgLtPZTAB8NOIbZJS+1TM8RssAHZfw4xY6xlLgHg3DlWrlHUGCb1fj5lf3jN/AFjG3b84fXkZqd/YLDyLIbYUdD7+MW9U/PGva5YqzCsAdH2yAKBNcs/7O8e2cd8HC4AtZSiLXMNdsxhkCALgN2fRZ+MaUCZPMTwHCwAh20UIeD6phT3PBMxlCUAA0MVo4AAwb7o/gsbYCMZSi2JHYBUP/ydi0b4I1lPmWDfoWIIFwDXMsJ2gf9/Dmc9Ooc7rcbjGigkCgGWLgGJq7QCgDuDwV3jCpoCn90RVlxRAIcAjWACc4jtCXjUANT7k60wA+OUrHJDXymdRS1AlvbkN6FqW0BIgUAA0jj/DykuN9Dr4FX5mANA5UDqSngOnvxM6wQKgDAdGFw3lz5LT2vPn8K++tYiVF89w9+Iha9yeADgrdg3YeQOlprT7LMb+zRcXBAB/k2qgADArrCuLSCUuo/Gzs+gYuIeHxiGPVTwcqLOcTQm/7rYIGgAlW+R2HyCLwsaycOaZsQOAlVnE1B2Cg7f5RIFl/JxK4e5ot2mj4+PPeKazswYzKdxN8fMEK0+fuY4PkwLwhkGwANhShuqLKfysnvpibnvJzwA4ZwHnjETvvR0XhG2CB0AZStjJ0FlxwIensPG316m76oszeCJPkbJDOeZEEUHsm0UODtHO0uxtNIqzJ6QA/MVO4ADggbofBz4RhZ9P6lzyL4hgpjb9BYBqp3wAQG0v7evddTgkCoGZt4Z5/FTv142pBtWf/TcOqMrBhITuevpM9csaAYCMrhq9UF+vKQAoSc3lzHrGAwGAAtEMRAJA+CYqAgABgAAQ4hggAITY+U7pSQqAFED+/z0ASjBzhnUmXKG9JwAQAAgAIQYWAYAAQAAgAGwYxVJoCmoj9odqACFOeGfAkgIgBUAKIMRAIAAQAAgABABaAoQoBmgJECJnOyW/8z0pAFIApABCDAQCAAGAAEAAoCVAiGIg7RKAfUkPsgHFQHHHwObtu/Aa+0t9kNOL2+nkX/KvjAFPADiLRPS+uNeILCDIx8XtY6d/mc8JACFa8zkDQH1PAAhX8jPfEwAo+c1ZnwBAADDrABQM4QwGVRHQ6+KPAVIApABIAYQ4BggAIXa+c4Yn1Vf8M77O51QEJAgYKoAAQACgGkCIYUAAIAAQAAgAZk3AKRfpffEBgmoAIU54Z0KTAii+BHf62PmeAEAAMGd8AgABgJYAIQYCAYAAQABYCwCUVmJ7RQ12VLyL19fifj7vUegAeH03s1kNtu8sN1WLU9LS++wgFuwSoCKK5ivDiBzinXr782FEr8TwtgjIHQ29iF5hn6V/NDfUmA53trFmDhdjUfuSy723Hb+O+Ng0EhPsMYXo8eyDmdtN2vEEIsx+n58wbZRLv9jP5AMAgfStNILIwJSw2TQSQxexwyfU/NniVW1Yg5pzw4iei/rr16FYxpg3ckLxqRH3sv08xaL0eXDnAKp7EZ+YRnsjB0BtnAX9MGqF88o7Ji2nGgkhE8P+HO+oM4Pb2YY/B2dHRW2bYixqX7TXpQvMt9rQxcZ5O4nmljYcaWnBntLs+8btJu0YRTtrMx41bZR1v0Sf8wGAIPr29nkeJ/1XYjjS1IYjdbWvPFa7jV7VhnVoHJlGYqQX5en8L79rHPYV96pPjbiX7ecjFhWfrxsA7E5wJEJphBv19ihq91rfbWgASMedi7xSAAeRZMwXhQoA7vNR1OYAy7QxJhNyyxoDwLyvFddWP6tQ28fUziQaD1rqMGQAKMeec4z6U+hqqrIlS1EAQFE0luN1waD/LJwAkIpHb5Nc7Gj9TOEAYFvTKAYnphE/F8EmBRShAsCmg3zpMNjXhm2KEZjDTACwdWG/soQYG0f72ZOu6w0nl9bgvY5R9Jtr72kMJkZxos4OF+PaN+pw5Mo4BuW1Y5Po6jiJbXL2diXvHpQ3D6PntrVsGbw5isZPahQHigBzLnOkpGNj1PQxfqUNb5a6g3PDA8DnWPk4Lbvyuom1pGT+2vTOaTT2TxpJY3w/NoWeK20of0MDCp/3NeJAxN3rH7QhmlDqD2OT6L7A/KK2rywB9ragNaH0+WYSrU2HlVhQf87xem8bulgcjfS6loYbEwBvRVDT1IbK/XygO4624UjTyfSFEg/pL53CAZBEe3wKiZtJRDs6cSR6FV1sDTYxjf4rUTsESiM4MSS+GxpGY0sbIudHRSFuCu2NCgTYvYXz+gft1/b0DBv1DHsNoBJVFwSERkbRHG3DsY5h9CT5/XraJcVFkalv3AhUBh+jyCOLOluqUMvGM8HBpLYzGB9Gt2ONv/Vgi2LHWlSydfHRV18X52MJkLlv/scqi8TdN5k9J9EtisWyqFxSHUO3AV6W9L041hRDs5wUksO2pWNJOhv3XOe1GUcdZVvjMPqZ7dkkcD6GIy29iA4JGCTUJJUAGEV7wu1D5lcrFhxJb05weukv497InRMRbGXXi7yqOVhpU8fy2myemc+DqwGYg/MatPNzb+kvB8UBMI2EzQGsHRlYU4h+aq2ddkSTRmLFO2QyintK2t68au5KyBnH81omzRQFsOnT61yuxRzKwwTJKI68pYzRQ0VsbR7lyR93w0sCSS0ISVvk+zkfAMjUp1zGaqo+WzzVIjLIC6rHDlj+ZvdnictkdP95a2dkq/hsUGdjMXnYbFx6GlEGl9tOkMgYnUZXs0xAAQAGcF37xqSSRORdJRZsYymDl/TPZM9X/b6gALDp6FWDuDrpLwfKg2EKzUc1xnz3InqYE3pOCzKeQDObPZJXUekwOGuPK5IWlP+RtXUSzWzmVoAg78meLTjIHYlyvhy5fR1VNjko+iXG0hO1tjBLtACoxLEBNsM5YCH6u+k4h4wtODVjUfua6+vgAZDbWLUAELbsOatTPuI+zDeGrTLcV1blFQUgQdV9Ria5Em9iBq49Kn0rAZDEMRX4Dh/aYkH14d5OrvI00j9XX/r9ucIBQOlJnqwu4iqGV2sAqgHN12LnQK6t3xKGveJji6wiZsAj4XWtSGhLAQhgJK7zrSkmw9XH53zJYMGoDHoAiJlmMKZfGskxKMHp17nZXhc8AHIbqw4AW88wZTeFrnaH3YUPmg2oJhGpYPEj7pu4qN+m09i4Msak/jhOVNnjT29TuQTw2AYsFdu/Wh9WiQlg3Fb119/HT1+yu6ZAAFCOyhiv+tvW5GZiW4MygoGRUvNdyRaHI7QzrtWWzciZrnV971HYcxb6VKe72mB9cRf5bP3K+L3HeLT2SX9t8ADIbaw6AEhFZhT+nDY330+isTo3G+vuafeLaksRd31tHsU+73FvM0DGlpaOJWoO/vPun9pX++uCAIAp/Z3rJ40R0jvGoQDErG6bhTVtGobLdK1LAcjZ7CL2GMd6+TFVdlTV9ti9xyrUaAGQ/eyUi6P9/EzwAMhtrDqf89rOFKINDnvb7F+FrcbyTPrKv8qq6mEKQCoIe9K4bemYeJwx5qUApPR31bMy3S9/368/AHxKf2l0HgyTaBbHi+XnxrOU8fGoILFwvFwSOBzDz5Y7gsTj2h1nx0UxUdYAakQRyqMG4LiX0T8tAOT6NIljyoEnOS65Fi2uGkB2Y9UBoEQUYPU1AGeCCF+xU6iaeo2uziKLx+2N9gKj4Rf5uxwm3AUAPOo4sq/W8pH1b32lv4yvdQaAf+kvO8yDYRruQqHallW44cdI3QeKSkzwyEJROTj1ddcKkDh2AWRy6uTbtjOjGLyZROMn+zIogDLI3YTB/k7b/vKmd9rQLs8XqEsJHVzy8FnwCiC3sWoBsEUUeHU1I+bbkSn0xNvMNb9MaOcBm5ItYjeBLRtUG8tj25rCnJTtVlFPAsB9gMdKdLkc4XCSbehiR8b6WjyvLwAO8aq/sc+a7heClF+KMIIhmURXYhr9A1dx7NMI3v60E419Yj/eWUx7KyqSaAo9F2KoORpBZUMMUbH10xNVqsh7rWu7z3eiqjaCqpZedN2cRv9g0tihsFO8DifEuYF4X6/Rl/KjUUQujPP9Y+cOgVYB8Nmgqkf0nx1k6R9GV2KKbzF29Gr3qIMIjrUAAEuIbMeqB0AZtjbw7b5Echyt0Sgqq7i/2nW+NbdmpxG/YsVBK9vXH0zyArAKALbz085VX4Id7Go5jbdrT+PYeR4HCZtvBQCGRo2DPK72xc6UebJPwmWCQSrNL8KZ50SciiZ/79cXAHL7xSza8AM0rsKO4hgjGJhMZyeu5P6t+Hl+ck5jnL0njdNitnbHJhHVnNDa9I7jJBfbT+7rxJvidKIdAOwE32HUspODjjH0D/TiPaek9wQA63M5tn9yEdHBSfQnp9A/kkRrcx1eL6oioPRNdmP1AgCD4LY6Dmg/vi154wROyINC0l9DV/EeAz97r8QZB2w53mwaVn57k8en27cCAGzpeTCGbnEQjPdpCt3sJKmq0EQc2Pos+6M+eyxH8wn/9QWAapScXpdj6594EWib7uino81NO6tEgS7z7+HL3z3fYa7zZPB6PMt1Yd5/X90rOD364RhzNsGyNgogXb9zH6vpLx//xoIZB3+q9KjaO/u4B9tEcdHfv0Ugr5f1JWd7hfN+gwOgcAyZTaK5ri2tQc35q46jq3xsskDlUh6vkOiu+4u21gQABTJWLxuE7XMCQACJlG0QsSKgceac/TsBDRGhUg6jskXKz/THSLO9n9f1awGAQhmrlw3C9jkBoAAAwIKOrWXta0dRDxkZRq3jrHtQQboWACiUsQZlw43WLgGgQADAA4fXNNhOQlVtDXzXH/I0hrUCQCGMdaMlalD9JQDkKXmCctBatru2ACiS+s0Gjx8CwAZ3YD4BQQAIH5QIAAQA86QiAYAAQP8vQIiBQAAgABAACACmIsjn8oLaKky40BIgxAnvTEpSAIWZpE4/5fM9AYAAYM74BAACAC0BQgwEAgABgABAADAVQT6lJrVVmHBJuwRgX9KDbEAxUNwxoP1/AdiH9CAbUAyEIwZeI0eHw9HkZ/KzLgYIAKR4SPGFOAYIACF2vm5GoM/CpRQIAAQAUgAhjoH/B5WDuQ6x5RiNAAAAAElFTkSuQmCC)"
      ]
    },
    {
      "cell_type": "code",
      "metadata": {
        "id": "x5E_EX7gMST_"
      },
      "source": [
        "s = \"Zbcdefg\""
      ],
      "execution_count": null,
      "outputs": []
    },
    {
      "cell_type": "code",
      "metadata": {
        "colab": {
          "base_uri": "https://localhost:8080/",
          "height": 35
        },
        "id": "4zN2s4UHMcag",
        "outputId": "17c94da8-3042-4e6d-e5d1-9adf765b4c0b"
      },
      "source": [
        "\"\".join(sorted(s, reverse = True))"
      ],
      "execution_count": null,
      "outputs": [
        {
          "output_type": "execute_result",
          "data": {
            "application/vnd.google.colaboratory.intrinsic+json": {
              "type": "string"
            },
            "text/plain": [
              "'gfedcbZ'"
            ]
          },
          "metadata": {},
          "execution_count": 46
        }
      ]
    }
  ]
}
