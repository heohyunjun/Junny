{
  "nbformat": 4,
  "nbformat_minor": 0,
  "metadata": {
    "colab": {
      "name": "Untitled1.ipynb",
      "provenance": [],
      "authorship_tag": "ABX9TyNGB9y59nojQVPVSBcXOv/M"
    },
    "kernelspec": {
      "name": "python3",
      "display_name": "Python 3"
    },
    "language_info": {
      "name": "python"
    }
  },
  "cells": [
    {
      "cell_type": "markdown",
      "metadata": {
        "id": "h3kTluVBP8s0"
      },
      "source": [
        "# 내적\n"
      ]
    },
    {
      "cell_type": "markdown",
      "metadata": {
        "id": "hosNijYxzxaP"
      },
      "source": [
        "문제 설명\n",
        "\n",
        "- 길이가 같은 두 1차원 정수 배열 a, b가 매개변수로 주어집니다. a와 b의 내적을 return 하도록 solution 함수를 완성\n",
        "\n",
        "- 이때, a와 b의 내적은 a[0]*b[0] + a[1]*b[1] + ... + a[n-1]*b[n-1] 입니다. (n은 a, b의 길이)"
      ]
    },
    {
      "cell_type": "code",
      "metadata": {
        "id": "Iy82R01IQov3"
      },
      "source": [
        "# a와 b의 내적은 1*(-3) + 2*(-1) + 3*0 + 4*2 = 3"
      ],
      "execution_count": null,
      "outputs": []
    },
    {
      "cell_type": "code",
      "metadata": {
        "id": "Y28V2cF_P-LI"
      },
      "source": [
        "a = [1, 2, 3, 4]\n",
        "b = [-3, -1, 0, 2]"
      ],
      "execution_count": null,
      "outputs": []
    },
    {
      "cell_type": "code",
      "metadata": {
        "id": "yyPjPmRwRu4w"
      },
      "source": [
        "def solution(a, b):\n",
        "    return sum(i*j for i,j in zip(a,b))"
      ],
      "execution_count": null,
      "outputs": []
    },
    {
      "cell_type": "code",
      "metadata": {
        "id": "IJP4wPFRI5QA"
      },
      "source": [
        "import numpy as np\n",
        "\n",
        "def solution(a, b):\n",
        "    return np.dot(a,b)"
      ],
      "execution_count": null,
      "outputs": []
    },
    {
      "cell_type": "code",
      "metadata": {
        "colab": {
          "base_uri": "https://localhost:8080/"
        },
        "id": "Vzk2VId3R75X",
        "outputId": "bf28c5db-079f-46b7-b2cd-8fe2d904ff65"
      },
      "source": [
        "solution(a,b)"
      ],
      "execution_count": null,
      "outputs": [
        {
          "output_type": "execute_result",
          "data": {
            "text/plain": [
              "3"
            ]
          },
          "metadata": {},
          "execution_count": 6
        }
      ]
    }
  ]
}
