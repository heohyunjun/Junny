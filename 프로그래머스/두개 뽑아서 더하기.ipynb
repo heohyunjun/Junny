{
  "nbformat": 4,
  "nbformat_minor": 0,
  "metadata": {
    "colab": {
      "name": "Untitled1.ipynb",
      "provenance": [],
      "authorship_tag": "ABX9TyN6p84Gp3WziXdtWtZs9mVG"
    },
    "kernelspec": {
      "name": "python3",
      "display_name": "Python 3"
    },
    "language_info": {
      "name": "python"
    }
  },
  "cells": [
    {
      "cell_type": "markdown",
      "metadata": {
        "id": "XaEzhUsODDjk"
      },
      "source": [
        "# 두개 뽑아서 더하기\n"
      ]
    },
    {
      "cell_type": "markdown",
      "metadata": {
        "id": "hJnOwzvd1O0V"
      },
      "source": [
        "정수 배열 numbers 주어짐. \n",
        "\n",
        "1. numbers에서 서로 다른 인덱스에 있는 두 개의 수를 뽑아 \n",
        "\n",
        "2. 더해서 만들 수 있는 모든 수를 배열에 오름차순으로 담아\n",
        "\n",
        "3. return 하도록 solution 함수를 완성\n"
      ]
    },
    {
      "cell_type": "code",
      "metadata": {
        "id": "bFmsiv52Dtym"
      },
      "source": [
        "numbers = [2, 1, 3, 4, 1]\n",
        "result = [2, 3, 4, 5, 6, 7]"
      ],
      "execution_count": null,
      "outputs": []
    },
    {
      "cell_type": "code",
      "metadata": {
        "id": "8yCrF3j1q8CJ"
      },
      "source": [
        "import itertools"
      ],
      "execution_count": null,
      "outputs": []
    },
    {
      "cell_type": "code",
      "metadata": {
        "colab": {
          "base_uri": "https://localhost:8080/"
        },
        "id": "Jx2UaSLbrtgY",
        "outputId": "42538af3-f95a-4fbf-f048-14a5ac2ffc9b"
      },
      "source": [
        "answer = []\n",
        "for i in list(itertools.combinations(numbers, 2)):\n",
        "  if i[0] + i[1] not in answer:\n",
        "    answer.append(i[0] + i[1])\n",
        "  \n",
        "sorted(list(set(answer)))\n"
      ],
      "execution_count": null,
      "outputs": [
        {
          "output_type": "execute_result",
          "data": {
            "text/plain": [
              "[2, 3, 4, 5, 6, 7]"
            ]
          },
          "metadata": {},
          "execution_count": 18
        }
      ]
    },
    {
      "cell_type": "code",
      "metadata": {
        "id": "G5oGXjuzg8zq"
      },
      "source": [
        "for i in range(len(numbers)):\n",
        "  for j in range(i+1, len(numbers)):\n",
        "    print(j)\n",
        "    answer.append(numbers[i] + numbers[j])\n",
        "    print(answer)\n"
      ],
      "execution_count": null,
      "outputs": []
    }
  ]
}
