{
  "nbformat": 4,
  "nbformat_minor": 0,
  "metadata": {
    "colab": {
      "name": "Untitled1.ipynb",
      "provenance": [],
      "authorship_tag": "ABX9TyPdgyWPZ2n+cA4SQc62HSmH"
    },
    "kernelspec": {
      "name": "python3",
      "display_name": "Python 3"
    },
    "language_info": {
      "name": "python"
    }
  },
  "cells": [
    {
      "cell_type": "markdown",
      "metadata": {
        "id": "xpirC0qEP52x"
      },
      "source": [
        "# 음양더하기"
      ]
    },
    {
      "cell_type": "markdown",
      "metadata": {
        "id": "f9cKCVIeyF3R"
      },
      "source": [
        "어떤 정수들이 있습니다.\n",
        "- 이 정수들의 절댓값을 차례대로 담은 정수 배열 absolutes와 이 정수들의 부호를 차례대로 담은 불리언 배열 signs가 매개변수로 주어집니다. \n",
        "\n",
        "- 실제 정수들의 합을 구하여 return 하도록 solution 함수를 완성해주세요\n",
        "\n",
        "absolutes\t    signs\t         result\n",
        "[4,7,12]\t[true,false,true]\t  9\n",
        "[1,2,3] \t[false,false,true]\t0\n",
        "\n",
        "---\n",
        "signs가 [true,false,true] 이므로, 실제 수들의 값은 각각 4, -7, 12입니다.\n",
        "따라서 세 수의 합인 9를 return 해야 합니다."
      ]
    },
    {
      "cell_type": "code",
      "metadata": {
        "id": "gkxA33dDH8cc"
      },
      "source": [
        "absolutes = [4,7,12]\n",
        "signs = [True,False,True]"
      ],
      "execution_count": null,
      "outputs": []
    },
    {
      "cell_type": "code",
      "metadata": {
        "id": "zO3oG0KVICq3"
      },
      "source": [
        "def solution1(absolutes, signs):\n",
        "  answer = 0\n",
        "  for i in range(len(absolutes)):\n",
        "    if sign[i]:\n",
        "      answer += abs[i]\n",
        "    else:\n",
        "      answer -= abs[i]\n",
        "  return answer\n",
        "  \n"
      ],
      "execution_count": null,
      "outputs": []
    },
    {
      "cell_type": "code",
      "metadata": {
        "id": "ys7M3I5xx05I"
      },
      "source": [
        "def solution2(absolutes, signs):\n",
        "  answer = 0\n",
        "  for abs,sign in zip(absolutes, signs):\n",
        "    if sign:\n",
        "      answer += abs\n",
        "    else:\n",
        "      answer -= abs\n",
        "  return answer"
      ],
      "execution_count": null,
      "outputs": []
    },
    {
      "cell_type": "code",
      "metadata": {
        "id": "H1jPPxeCPkR4"
      },
      "source": [
        "def solution3(absolutes, signs):\n",
        "  return sum(abs if sign else -abs for abs,sign in zip(absolutes,signs))"
      ],
      "execution_count": null,
      "outputs": []
    },
    {
      "cell_type": "code",
      "metadata": {
        "colab": {
          "base_uri": "https://localhost:8080/"
        },
        "id": "lbVYJzV0Lv28",
        "outputId": "66a91d05-035d-4485-fd32-1c06a91e94cf"
      },
      "source": [
        "solution(absolutes,signs)"
      ],
      "execution_count": null,
      "outputs": [
        {
          "output_type": "execute_result",
          "data": {
            "text/plain": [
              "9"
            ]
          },
          "metadata": {},
          "execution_count": 39
        }
      ]
    }
  ]
}
