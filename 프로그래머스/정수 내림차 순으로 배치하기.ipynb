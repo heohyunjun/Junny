{
  "nbformat": 4,
  "nbformat_minor": 0,
  "metadata": {
    "colab": {
      "name": "Untitled1.ipynb",
      "provenance": [],
      "authorship_tag": "ABX9TyPK6nQGrCwDa0KQ1n0+RS09"
    },
    "kernelspec": {
      "name": "python3",
      "display_name": "Python 3"
    },
    "language_info": {
      "name": "python"
    }
  },
  "cells": [
    {
      "cell_type": "markdown",
      "metadata": {
        "id": "R_OqJ29MiBah"
      },
      "source": [
        "# 정수내림차순으로 배치하기"
      ]
    },
    {
      "cell_type": "markdown",
      "metadata": {
        "id": "u9DoGbqH1kC8"
      },
      "source": [
        "문제설명\n",
        "- 함수 solution은 정수 n을 매개변수로 입력받습니다. n의 각 자릿수를 큰것부터 작은 순으로 정렬한 새로운 정수를 리턴해주세요. 예를들어 n이 118372면 873211을 리턴하면 됩니다"
      ]
    },
    {
      "cell_type": "code",
      "metadata": {
        "id": "CJakG64ln8TG"
      },
      "source": [
        "def solution1(n):\n",
        "  return \"\".join(sorted(list(str(n)),reverse = True))\n"
      ],
      "execution_count": 1,
      "outputs": []
    },
    {
      "cell_type": "code",
      "metadata": {
        "colab": {
          "base_uri": "https://localhost:8080/"
        },
        "id": "j4NbaZv0iNP_",
        "outputId": "0e58fe28-6840-447e-9511-b11243d83ca3"
      },
      "source": [
        "def solution2(n):\n",
        "  str1 =\"\"\n",
        "  for i in sorted(list(str(n)),reverse = True):\n",
        "    str1 += i\n",
        "  return int(str1)"
      ],
      "execution_count": null,
      "outputs": [
        {
          "output_type": "execute_result",
          "data": {
            "text/plain": [
              "873211"
            ]
          },
          "metadata": {},
          "execution_count": 43
        }
      ]
    },
    {
      "cell_type": "code",
      "metadata": {
        "id": "JTgUIo1pnwrY"
      },
      "source": [
        "def solution3(n):\n",
        "    ls = list(str(n))\n",
        "    ls.sort(reverse = True)\n",
        "    return int(\"\".join(ls))"
      ],
      "execution_count": null,
      "outputs": []
    },
    {
      "cell_type": "code",
      "metadata": {
        "id": "mFLVKnnc1zFN"
      },
      "source": [
        " n = 118372"
      ],
      "execution_count": 2,
      "outputs": []
    },
    {
      "cell_type": "code",
      "metadata": {
        "id": "wn2zzXW8m0hJ",
        "colab": {
          "base_uri": "https://localhost:8080/",
          "height": 35
        },
        "outputId": "08aee6ad-b35a-43cc-f0a4-1f2884a10044"
      },
      "source": [
        "solution(n)"
      ],
      "execution_count": 3,
      "outputs": [
        {
          "output_type": "execute_result",
          "data": {
            "application/vnd.google.colaboratory.intrinsic+json": {
              "type": "string"
            },
            "text/plain": [
              "'873211'"
            ]
          },
          "metadata": {},
          "execution_count": 3
        }
      ]
    }
  ]
}
