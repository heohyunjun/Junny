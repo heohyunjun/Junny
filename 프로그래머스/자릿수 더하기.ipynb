{
  "nbformat": 4,
  "nbformat_minor": 0,
  "metadata": {
    "colab": {
      "name": "Untitled1.ipynb",
      "provenance": [],
      "authorship_tag": "ABX9TyP3XcvxQxKnhRWVfAXtWZwV"
    },
    "kernelspec": {
      "name": "python3",
      "display_name": "Python 3"
    },
    "language_info": {
      "name": "python"
    }
  },
  "cells": [
    {
      "cell_type": "markdown",
      "metadata": {
        "id": "ZJddSpxnG0QW"
      },
      "source": [
        "# 자릿수 더하기"
      ]
    },
    {
      "cell_type": "markdown",
      "metadata": {
        "id": "E8WS99oAG2Zm"
      },
      "source": [
        "문제 설명\n",
        "\n",
        "- 자연수 N이 주어지면, N의 각 자릿수의 합을 구해서 return 하는 solution 함수를 만들어 주세요.\n",
        "\n",
        "- 예를들어 N = 123이면 1 + 2 + 3 = 6을 return 하면 됩니다."
      ]
    },
    {
      "cell_type": "markdown",
      "metadata": {
        "id": "lxS0OiFXG6C3"
      },
      "source": [
        "![image.png](data:image/png;base64,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)"
      ]
    },
    {
      "cell_type": "code",
      "metadata": {
        "id": "POj2B_JYG8Pt"
      },
      "source": [
        "N = 123"
      ],
      "execution_count": null,
      "outputs": []
    },
    {
      "cell_type": "code",
      "metadata": {
        "id": "7HrXpXnxIQuV"
      },
      "source": [
        "def solution(n):\n",
        "    return sum(int(i)  for i in list(str(n)))\n"
      ],
      "execution_count": null,
      "outputs": []
    },
    {
      "cell_type": "code",
      "metadata": {
        "id": "dDmJWhJAIN2W"
      },
      "source": [
        "def sum_digit(number):\n",
        "    if number < 10:\n",
        "        return number;\n",
        "    return (number % 10) + sum_digit(number // 10) \n"
      ],
      "execution_count": null,
      "outputs": []
    }
  ]
}
