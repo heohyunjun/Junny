{
  "nbformat": 4,
  "nbformat_minor": 0,
  "metadata": {
    "colab": {
      "name": "Untitled1.ipynb",
      "provenance": [],
      "authorship_tag": "ABX9TyOhEv7k470fMx+PLFTWD3mo"
    },
    "kernelspec": {
      "name": "python3",
      "display_name": "Python 3"
    },
    "language_info": {
      "name": "python"
    }
  },
  "cells": [
    {
      "cell_type": "markdown",
      "metadata": {
        "id": "B7zEnyQW18w9"
      },
      "source": [
        "# K번쨰수"
      ]
    },
    {
      "cell_type": "markdown",
      "metadata": {
        "id": "YAYBnKkS0e5_"
      },
      "source": [
        "배열 array의 i번째 숫자부터 j번째 숫자까지 자르고 정렬했을 때, k번째에 있는 수를 구하려 합니다.\n",
        "\n",
        "예를 들어 array가 [1, 5, 2, 6, 3, 7, 4], i = 2, j = 5, k = 3이라면\n",
        "\n",
        "1. array의 2번째부터 5번째까지 자르면 [5, 2, 6, 3]입니다.\n",
        "2. 1에서 나온 배열을 정렬하면 [2, 3, 5, 6]입니다.\n",
        "3. 2에서 나온 배열의 3번째 숫자는 5입니다.\n"
      ]
    },
    {
      "cell_type": "code",
      "metadata": {
        "id": "AApwGh4a2eXX"
      },
      "source": [
        "array1 = [1, 5, 2, 6, 3, 7, 4]\n",
        "commands = [[2, 5, 3], [4, 4, 1], [1, 7, 3]]\n",
        "return1 = [5, 6, 3]"
      ],
      "execution_count": null,
      "outputs": []
    },
    {
      "cell_type": "code",
      "metadata": {
        "id": "KPf0WssaCVbZ"
      },
      "source": [
        "def solution(array, commands):\n",
        "    return list(map(lambda x:sorted(array[x[0]-1:x[1]])[x[2]-1], commands))"
      ],
      "execution_count": null,
      "outputs": []
    },
    {
      "cell_type": "code",
      "metadata": {
        "id": "ZI8HZp2B9ZrE"
      },
      "source": [
        "def solution(array, commands):\n",
        "  answer = []\n",
        "  for i in range(len(commands)):\n",
        "    answer.append(sorted(array1[commands[i][0] -1: commands[i][1]])[commands[i][2]-1])\n",
        "  return answer"
      ],
      "execution_count": null,
      "outputs": []
    },
    {
      "cell_type": "code",
      "metadata": {
        "colab": {
          "base_uri": "https://localhost:8080/"
        },
        "id": "sjThpYMh9o7y",
        "outputId": "227e45a7-5501-4e73-8b5c-db39b7371586"
      },
      "source": [
        "solution(array1,commands)"
      ],
      "execution_count": null,
      "outputs": [
        {
          "output_type": "execute_result",
          "data": {
            "text/plain": [
              "[5, 6, 3]"
            ]
          },
          "metadata": {},
          "execution_count": 114
        }
      ]
    }
  ]
}
