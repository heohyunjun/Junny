{
  "nbformat": 4,
  "nbformat_minor": 0,
  "metadata": {
    "colab": {
      "name": "Untitled1.ipynb",
      "provenance": [],
      "authorship_tag": "ABX9TyMZsviBgtDq3IuT65rrVQFk"
    },
    "kernelspec": {
      "name": "python3",
      "display_name": "Python 3"
    },
    "language_info": {
      "name": "python"
    }
  },
  "cells": [
    {
      "cell_type": "markdown",
      "metadata": {
        "id": "x8nuQWifr9Jj"
      },
      "source": [
        "# 짝수 홀수"
      ]
    },
    {
      "cell_type": "markdown",
      "metadata": {
        "id": "hFKeG8Z52n4F"
      },
      "source": [
        "문제설명\n",
        "- 정수 num이 짝수면 EVEN\n",
        "- 홀수면 odd반환 하는 함수"
      ]
    },
    {
      "cell_type": "code",
      "metadata": {
        "id": "pR8IlqFsunT-"
      },
      "source": [
        "num = 4"
      ],
      "execution_count": null,
      "outputs": []
    },
    {
      "cell_type": "code",
      "metadata": {
        "colab": {
          "base_uri": "https://localhost:8080/",
          "height": 35
        },
        "id": "1F4PHB2Mu4pn",
        "outputId": "97c045b9-3c60-46b5-936e-1733fc91c2e9"
      },
      "source": [
        "def solution(num):\n",
        "    return \"Odd\" if num%2 else \"Even\"\n",
        "solution(5)"
      ],
      "execution_count": null,
      "outputs": [
        {
          "output_type": "execute_result",
          "data": {
            "application/vnd.google.colaboratory.intrinsic+json": {
              "type": "string"
            },
            "text/plain": [
              "'Odd'"
            ]
          },
          "metadata": {},
          "execution_count": 91
        }
      ]
    }
  ]
}
