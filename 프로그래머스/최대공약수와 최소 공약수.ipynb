{
  "nbformat": 4,
  "nbformat_minor": 0,
  "metadata": {
    "colab": {
      "name": "Untitled1.ipynb",
      "provenance": [],
      "authorship_tag": "ABX9TyPr9rvAvzfOVCyuvNU5GI/4"
    },
    "kernelspec": {
      "name": "python3",
      "display_name": "Python 3"
    },
    "language_info": {
      "name": "python"
    }
  },
  "cells": [
    {
      "cell_type": "markdown",
      "metadata": {
        "id": "s4Grg3SvSy43"
      },
      "source": [
        "# 최대공약수와 최소공배수"
      ]
    },
    {
      "cell_type": "markdown",
      "metadata": {
        "id": "Oum5RE8ZS4xu"
      },
      "source": [
        "문제 설명\n",
        "\n",
        "- 두 수를 입력받아 두 수의 최대공약수와 최소공배수를 반환하는 함수, \n",
        "\n",
        "- 배열의 맨 앞에 최대공약수, 그다음 최소공배수를 넣어 반환. \n",
        "\n",
        "- 예를 들어 두 수 3, 12의 최대공약수는 3, 최소공배수는 12이므로 solution(3, 12)는 [3, 12]를 반환"
      ]
    },
    {
      "cell_type": "markdown",
      "metadata": {
        "id": "NDPXz9MzTByp"
      },
      "source": [
        "![image.png](data:image/png;base64,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)"
      ]
    },
    {
      "cell_type": "code",
      "metadata": {
        "id": "3M0gg97cS3Gi"
      },
      "source": [
        "n = 18\n",
        "m = 15"
      ],
      "execution_count": null,
      "outputs": []
    },
    {
      "cell_type": "code",
      "metadata": {
        "colab": {
          "base_uri": "https://localhost:8080/"
        },
        "id": "kiHHSlqUZgXo",
        "outputId": "430ff7ac-0aee-4f79-edb9-d787e27e9447"
      },
      "source": [
        "max(n,m) % min(n,m) == 0"
      ],
      "execution_count": null,
      "outputs": [
        {
          "output_type": "execute_result",
          "data": {
            "text/plain": [
              "True"
            ]
          },
          "metadata": {},
          "execution_count": 9
        }
      ]
    },
    {
      "cell_type": "code",
      "metadata": {
        "id": "R-7RsoP9aQmP"
      },
      "source": [
        "16  18"
      ],
      "execution_count": null,
      "outputs": []
    },
    {
      "cell_type": "code",
      "metadata": {
        "id": "xY6A3AJ9ZLtc"
      },
      "source": [
        "def solution(n, m):\n",
        "    answer = []\n",
        "    # 최대 공약수 구하기\n",
        "    for i in range(1,m if m >= n else n) :\n",
        "        if n % i == 0 and m % i == 0 :\n",
        "            max = i\n",
        "    answer.append(max)\n",
        "    # 최소 공배수 구하기\n",
        "    min = (m * n) // max\n",
        "    answer.append(min)\n",
        "    return answer\n",
        "\n"
      ],
      "execution_count": null,
      "outputs": []
    },
    {
      "cell_type": "code",
      "metadata": {
        "colab": {
          "base_uri": "https://localhost:8080/"
        },
        "id": "DgMn4YSyZOoO",
        "outputId": "9a1517bc-1438-411d-8c23-8cfea1d793fb"
      },
      "source": [
        "solution(n,m)"
      ],
      "execution_count": null,
      "outputs": [
        {
          "output_type": "execute_result",
          "data": {
            "text/plain": [
              "[3, 90]"
            ]
          },
          "metadata": {},
          "execution_count": 15
        }
      ]
    }
  ]
}
