{
  "nbformat": 4,
  "nbformat_minor": 0,
  "metadata": {
    "colab": {
      "name": "Untitled1.ipynb",
      "provenance": [],
      "authorship_tag": "ABX9TyMxzES7QjAtPg0sJz8EndIY"
    },
    "kernelspec": {
      "name": "python3",
      "display_name": "Python 3"
    },
    "language_info": {
      "name": "python"
    }
  },
  "cells": [
    {
      "cell_type": "markdown",
      "metadata": {
        "id": "O40T_UAuAfaN"
      },
      "source": [
        "# 이상한 문자 만들기"
      ]
    },
    {
      "cell_type": "markdown",
      "metadata": {
        "id": "7nsuN38fA1xk"
      },
      "source": [
        "문제 설명\n",
        "\n",
        "- 문자열 s는 한 개 이상의 단어로 구성\n",
        "\n",
        "- 각 단어는 하나 이상의 공백문자로 구분 \n",
        "\n",
        "- 각 단어의 짝수번째 알파벳은 대문자로, 홀수번째 알파벳은 소문자로 바꾼 문자열을 리턴하는 함수, solution"
      ]
    },
    {
      "cell_type": "markdown",
      "metadata": {
        "id": "f_oRY4R6BH58"
      },
      "source": [
        "![image.png](data:image/png;base64,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)"
      ]
    },
    {
      "cell_type": "code",
      "metadata": {
        "id": "88Bdf4uFBOsk"
      },
      "source": [
        "s= 'try   hello world'"
      ],
      "execution_count": null,
      "outputs": []
    },
    {
      "cell_type": "code",
      "metadata": {
        "colab": {
          "base_uri": "https://localhost:8080/"
        },
        "id": "hyAvUjvCBktW",
        "outputId": "e7ade42b-a90e-43a3-c783-bc368199b8f7"
      },
      "source": [
        "s.split(\" \")"
      ],
      "execution_count": null,
      "outputs": [
        {
          "output_type": "execute_result",
          "data": {
            "text/plain": [
              "['try', 'hello', 'world']"
            ]
          },
          "metadata": {},
          "execution_count": 27
        }
      ]
    },
    {
      "cell_type": "code",
      "metadata": {
        "id": "9VgHbz4yBs0M"
      },
      "source": [
        "def solution(s):\n",
        "    answer = []\n",
        "    words = s.split(\" \")\n",
        "    for word in words:\n",
        "        w = \"\"\n",
        "        for i in range(len(word)):\n",
        "            if i % 2:\n",
        "                w += word[i].lower()\n",
        "            else:\n",
        "                w += word[i].upper()\n",
        "        answer.append(w)\n",
        "    return ' '.join(answer)"
      ],
      "execution_count": null,
      "outputs": []
    },
    {
      "cell_type": "code",
      "metadata": {
        "id": "9IXpKlQPD3RS"
      },
      "source": [
        "def toWeirdCase(s):\n",
        "    # 함수를 완성하세요\n",
        "    return ' '.join([''.join([c.upper() if i % 2 == 0 else c.lower() for i, c in enumerate(w)]) for w in s.split(' ')])"
      ],
      "execution_count": null,
      "outputs": []
    },
    {
      "cell_type": "code",
      "metadata": {
        "id": "80Vyl50lD5qa",
        "colab": {
          "base_uri": "https://localhost:8080/",
          "height": 35
        },
        "outputId": "eb74d1f4-3d1e-42ce-85d9-692a3790fdda"
      },
      "source": [
        "toWeirdCase(s)"
      ],
      "execution_count": null,
      "outputs": [
        {
          "output_type": "execute_result",
          "data": {
            "application/vnd.google.colaboratory.intrinsic+json": {
              "type": "string"
            },
            "text/plain": [
              "'TrY HeLlO WoRlD'"
            ]
          },
          "metadata": {},
          "execution_count": 40
        }
      ]
    }
  ]
}