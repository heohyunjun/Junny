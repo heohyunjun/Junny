{
  "nbformat": 4,
  "nbformat_minor": 0,
  "metadata": {
    "colab": {
      "name": "Untitled1.ipynb",
      "provenance": [],
      "authorship_tag": "ABX9TyNUZb81mIO+g60eAj+Cyqdt"
    },
    "kernelspec": {
      "name": "python3",
      "display_name": "Python 3"
    },
    "language_info": {
      "name": "python"
    }
  },
  "cells": [
    {
      "cell_type": "markdown",
      "metadata": {
        "id": "74yPleg2aGwF"
      },
      "source": [
        "# 정수 제곱근 판별"
      ]
    },
    {
      "cell_type": "markdown",
      "metadata": {
        "id": "KltknOjDaMOi"
      },
      "source": [
        "문제 설명\n",
        "\n",
        "- 임의의 양의 정수 n에 대해, n이 어떤 양의 정수 x의 제곱인지 아닌지 판단\n",
        "\n",
        "-  n이 양의 정수 x의 제곱이라면 x+1의 제곱을 리턴하고, n이 양의 정수 x의 제곱이 아니라면 -1을 리턴하는 함수 완성."
      ]
    },
    {
      "cell_type": "code",
      "metadata": {
        "id": "MRhFj5DMuhYo"
      },
      "source": [
        "import numpy as np\n",
        "import math"
      ],
      "execution_count": null,
      "outputs": []
    },
    {
      "cell_type": "code",
      "metadata": {
        "id": "VVKC162oaLj1"
      },
      "source": [
        "n = 141"
      ],
      "execution_count": null,
      "outputs": []
    },
    {
      "cell_type": "code",
      "metadata": {
        "colab": {
          "base_uri": "https://localhost:8080/"
        },
        "id": "c4Wif3XyujiQ",
        "outputId": "1e5ada8b-c45b-4720-82be-7d1f2c08be72"
      },
      "source": [
        "math.sqrt(n)"
      ],
      "execution_count": null,
      "outputs": [
        {
          "output_type": "execute_result",
          "data": {
            "text/plain": [
              "11.874342087037917"
            ]
          },
          "metadata": {},
          "execution_count": 35
        }
      ]
    },
    {
      "cell_type": "code",
      "metadata": {
        "colab": {
          "base_uri": "https://localhost:8080/"
        },
        "id": "y-0Hd-81y-tE",
        "outputId": "fef95b9f-a8b2-4896-cc9c-a78091a744bb"
      },
      "source": [
        "# 방법 1\n",
        "if (n % math.sqrt(n)) ==0:\n",
        "  print((math.sqrt(n)+1) **2)\n",
        "else:\n",
        "  print(-1)"
      ],
      "execution_count": null,
      "outputs": [
        {
          "output_type": "stream",
          "name": "stdout",
          "text": [
            "-1\n"
          ]
        }
      ]
    },
    {
      "cell_type": "code",
      "metadata": {
        "id": "MIABU5TowKmf"
      },
      "source": [
        "# 방법 2\n",
        "def solution(n):\n",
        "    sqrt = n ** (1/2)\n",
        "\n",
        "    if sqrt % 1 == 0:\n",
        "        return (sqrt + 1) ** 2\n",
        "    return -1\n"
      ],
      "execution_count": null,
      "outputs": []
    },
    {
      "cell_type": "code",
      "metadata": {
        "colab": {
          "base_uri": "https://localhost:8080/"
        },
        "id": "yAfVfeKI02i7",
        "outputId": "7887aead-0559-440c-85d0-2d3286cb6ea3"
      },
      "source": [
        "solution(n)"
      ],
      "execution_count": null,
      "outputs": [
        {
          "output_type": "execute_result",
          "data": {
            "text/plain": [
              "-1"
            ]
          },
          "metadata": {},
          "execution_count": 44
        }
      ]
    }
  ]
}
