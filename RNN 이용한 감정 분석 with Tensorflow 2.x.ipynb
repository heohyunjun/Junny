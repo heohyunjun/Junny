{
  "nbformat": 4,
  "nbformat_minor": 0,
  "metadata": {
    "colab": {
      "name": "Untitled1.ipynb",
      "provenance": [],
      "authorship_tag": "ABX9TyMrsSHQuu9ZEbwojmROryDW"
    },
    "kernelspec": {
      "name": "python3",
      "display_name": "Python 3"
    },
    "language_info": {
      "name": "python"
    }
  },
  "cells": [
    {
      "cell_type": "markdown",
      "metadata": {
        "id": "qIBJ-XtYudkn"
      },
      "source": [
        "# RNN을 이용한  감정 분석 (텐서플로 2.x)\n",
        "\n",
        "- 70 ~78\n"
      ]
    },
    {
      "cell_type": "code",
      "metadata": {
        "id": "5eWKjGydvxi-"
      },
      "source": [
        "import numpy as np\n",
        "from tensorflow.keras.preprocessing.text import Tokenizer\n",
        "from tensorflow.keras.utils import to_categorical\n",
        "from tensorflow.keras.models import Sequential\n",
        "from tensorflow.keras.layers import SimpleRNN, Dense\n",
        "from tensorflow.keras.optimizers import Adam"
      ],
      "execution_count": null,
      "outputs": []
    },
    {
      "cell_type": "code",
      "metadata": {
        "id": "rgRVKnPawO9p"
      },
      "source": [
        "# 단어 빈도수가 높은 Traffic가 1, 빈도수가 동일하면 순서대로 번호 \n",
        "X_train = [\n",
        "           \"Traffic ticker fines\",\n",
        "           \"Traffic is fine\"\n",
        "            ]\n",
        "\n",
        "# 긍정 부정 판별 결과\n",
        "# 부정 0 , 긍정 1\n",
        "y_train = np.array([0, 1], dtype=\"float32\")"
      ],
      "execution_count": null,
      "outputs": []
    },
    {
      "cell_type": "code",
      "metadata": {
        "colab": {
          "base_uri": "https://localhost:8080/"
        },
        "id": "oRQ3IbUKwO9p",
        "outputId": "d48f83b5-cdbb-421b-a5e8-bec7a302264a"
      },
      "source": [
        "# X_train의 단어들을 숫자로 변환시키는 객체\n",
        "tokenizer = Tokenizer()\n",
        "\n",
        "# 빈도수 확인\n",
        "tokenizer.fit_on_texts(X_train)\n",
        "\n",
        "# 빈도수 기준으로 번호 붙인 결과\n",
        "X_tokens = tokenizer.texts_to_sequences(X_train)\n",
        "print(\"X_tokens\")\n",
        "\n",
        "print(tokenizer.word_index)\n"
      ],
      "execution_count": null,
      "outputs": [
        {
          "output_type": "stream",
          "name": "stdout",
          "text": [
            "X_tokens\n",
            "{'traffic': 1, 'ticker': 2, 'fines': 3, 'is': 4, 'fine': 5}\n"
          ]
        }
      ]
    },
    {
      "cell_type": "code",
      "metadata": {
        "colab": {
          "base_uri": "https://localhost:8080/"
        },
        "id": "q-JhbS8YwO9q",
        "outputId": "8a39997c-82b3-4678-fff4-2304112922ab"
      },
      "source": [
        "# 인코딩\n",
        "X_onehot = to_categorical(X_tokens)\n",
        "X_onehot"
      ],
      "execution_count": null,
      "outputs": [
        {
          "output_type": "execute_result",
          "data": {
            "text/plain": [
              "array([[[0., 1., 0., 0., 0., 0.],\n",
              "        [0., 0., 1., 0., 0., 0.],\n",
              "        [0., 0., 0., 1., 0., 0.]],\n",
              "\n",
              "       [[0., 1., 0., 0., 0., 0.],\n",
              "        [0., 0., 0., 0., 1., 0.],\n",
              "        [0., 0., 0., 0., 0., 1.]]], dtype=float32)"
            ]
          },
          "metadata": {},
          "execution_count": 129
        }
      ]
    },
    {
      "cell_type": "code",
      "metadata": {
        "colab": {
          "base_uri": "https://localhost:8080/"
        },
        "id": "RBJcNCliwO9q",
        "outputId": "f35b3d7e-1359-4cd2-ad32-eb8070983523"
      },
      "source": [
        "# 모델\n",
        "model = Sequential()\n",
        "\n",
        "# input_shape : 입력 데이터의 줄,칸\n",
        "# units = RNNCell의 계산 결과 개수\n",
        "model.add(SimpleRNN(input_shape = (3, 6) , units =1))\n",
        "\n",
        "model.add(Dense(1, activation = 'sigmoid'))\n",
        "\n",
        "model.summary()"
      ],
      "execution_count": null,
      "outputs": [
        {
          "output_type": "stream",
          "name": "stdout",
          "text": [
            "Model: \"sequential_10\"\n",
            "_________________________________________________________________\n",
            "Layer (type)                 Output Shape              Param #   \n",
            "=================================================================\n",
            "simple_rnn_7 (SimpleRNN)     (None, 1)                 8         \n",
            "_________________________________________________________________\n",
            "dense_6 (Dense)              (None, 1)                 2         \n",
            "=================================================================\n",
            "Total params: 10\n",
            "Trainable params: 10\n",
            "Non-trainable params: 0\n",
            "_________________________________________________________________\n"
          ]
        }
      ]
    },
    {
      "cell_type": "code",
      "metadata": {
        "colab": {
          "base_uri": "https://localhost:8080/"
        },
        "id": "TMYbaeamxe50",
        "outputId": "671f98ff-ffca-4eac-c6a7-c3fc5bee0861"
      },
      "source": [
        "# 예측\n",
        "pred = model.predict(X_onehot)\n",
        "\n",
        "predict01 = np.where(pred > 0.5 , 1, 0)\n",
        "print(\"predict01 :\", predict01)"
      ],
      "execution_count": null,
      "outputs": [
        {
          "output_type": "stream",
          "name": "stdout",
          "text": [
            "predict01 : [[0]\n",
            " [1]]\n"
          ]
        }
      ]
    }
  ]
}