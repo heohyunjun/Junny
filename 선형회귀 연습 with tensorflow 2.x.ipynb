{
  "nbformat": 4,
  "nbformat_minor": 0,
  "metadata": {
    "colab": {
      "name": "Untitled1.ipynb",
      "provenance": [],
      "toc_visible": true,
      "authorship_tag": "ABX9TyOWkKw2z66z98QVuff8wAPC"
    },
    "kernelspec": {
      "name": "python3",
      "display_name": "Python 3"
    },
    "language_info": {
      "name": "python"
    }
  },
  "cells": [
    {
      "cell_type": "markdown",
      "metadata": {
        "id": "UTmC-KuhSBVU"
      },
      "source": [
        "## Tensorflow 2.x를 이용한 선형회귀\n"
      ]
    },
    {
      "cell_type": "code",
      "metadata": {
        "id": "WHSelVeuSIsO"
      },
      "source": [
        "import numpy as np\n",
        "import tensorflow as tf\n",
        "from tensorflow.keras.models import Sequential\n",
        "from tensorflow.keras.layers import Dense\n",
        "from tensorflow.keras.optimizers import Adam"
      ],
      "execution_count": null,
      "outputs": []
    },
    {
      "cell_type": "code",
      "metadata": {
        "id": "MBTRAf9uSaRn"
      },
      "source": [
        "# 독립변수\n",
        "X = np.array([1, 2, 3], dtype = \"float32\")\n",
        "\n",
        "# 종속변수\n",
        "y = np.array([2, 2.5, 3.5], dtype = \"float32\")"
      ],
      "execution_count": null,
      "outputs": []
    },
    {
      "cell_type": "code",
      "metadata": {
        "id": "jg7pDn7pSnW2"
      },
      "source": [
        "# 입력값을 받고 예측 할 Sequentail 객체 생성\n",
        "model = Sequential()\n",
        "\n",
        "model.add(Dense(1, input_dim = 1))\n",
        "\n",
        "model.summary()\n",
        "\n",
        "# 오차 제곱의 합이 최소가 되는, w,b 를 찾음\n",
        "model.compile(loss = \"mean_squared_error\", optimizer = Adam(lr = 0.1))\n",
        "\n",
        "model.fit(X, y, epochs = 1000)"
      ],
      "execution_count": null,
      "outputs": []
    },
    {
      "cell_type": "code",
      "metadata": {
        "colab": {
          "base_uri": "https://localhost:8080/"
        },
        "id": "unhQzWQeUXz_",
        "outputId": "4b07e8b2-1136-470b-8002-ffcc6c36b9bb"
      },
      "source": [
        "# w, b 찾기\n",
        "print(model.layers[0].get_weights())\n",
        "\n",
        "# weight\n",
        "w = model.layers[0].get_weights()[0][0]\n",
        "print(w)\n",
        "\n",
        "# bias\n",
        "b = model.layers[0].get_weights()[1][0]\n",
        "print(b)\n",
        "\n",
        "# 예측\n",
        "print(\"X가 10일떄 Y =\", w * 10 + b)\n",
        "print(\"X가 20일떄 Y =\", w * 20 + b)\n",
        "\n",
        "# model로 바로 예측\n",
        "pred = model.predict([10, 20])\n",
        "print(pred)"
      ],
      "execution_count": null,
      "outputs": [
        {
          "output_type": "stream",
          "name": "stdout",
          "text": [
            "[array([[0.7499997]], dtype=float32), array([1.1666673], dtype=float32)]\n",
            "[0.7499997]\n",
            "1.1666673\n",
            "X가 10일떄 Y = [8.666664]\n",
            "X가 20일떄 Y = [16.166662]\n",
            "[[ 8.666664]\n",
            " [16.166662]]\n"
          ]
        }
      ]
    },
    {
      "cell_type": "markdown",
      "metadata": {
        "id": "7503ThxeVJj5"
      },
      "source": [
        "## 인공 신경망을 이용한 AND연산\n",
        "- 76~106\n"
      ]
    },
    {
      "cell_type": "code",
      "metadata": {
        "id": "EhtZk1gQXJKa"
      },
      "source": [
        "import numpy as np"
      ],
      "execution_count": null,
      "outputs": []
    },
    {
      "cell_type": "code",
      "metadata": {
        "id": "xb8uQLYCXO94"
      },
      "source": [
        "# AND 연산 \n",
        "X = np.array([ \n",
        "          [0, 0],\n",
        "          [0, 1],\n",
        "          [1, 0],\n",
        "          [1, 1]\n",
        "], dtype = 'float32')\n",
        "\n",
        "y = np.array([\n",
        "          [0],\n",
        "          [0],\n",
        "          [0],\n",
        "          [1]\n",
        "], dtype = 'float32')\n",
        "\n",
        "# weight\n",
        "w = np.array([\n",
        "              [1],\n",
        "              [2]\n",
        "], dtype = \"float32\")\n",
        "\n",
        "# bias\n",
        "b = np.array([3], dtype = \"float32\")\n",
        "\n",
        "print(\"X =\\n\",X)\n",
        "print(\"y =\\n\",y)\n",
        "print(\"초기 예측\\n\", np.dot(X,w) + b)\n",
        "\n",
        "print(\"예측값이 3,5,4,6? \")\n",
        "print(\"0과 1보다큼,   주로 분류에 사용하는 회귀스틱 분석은 0~1 사이 신호를 가져야함\\n\\\n",
        "       따라서 활성화 함수 Sigmoid를 사용 \")"
      ],
      "execution_count": null,
      "outputs": []
    },
    {
      "cell_type": "code",
      "metadata": {
        "id": "rI3pKXa3YdEH"
      },
      "source": [
        "def sigmoid(h):\n",
        "  return 1 / (1 + np.exp(-h))"
      ],
      "execution_count": null,
      "outputs": []
    },
    {
      "cell_type": "code",
      "metadata": {
        "colab": {
          "base_uri": "https://localhost:8080/"
        },
        "id": "k4gNWhK8Z68S",
        "outputId": "e6778bca-04d7-4603-c1ec-9feef8a4352f"
      },
      "source": [
        "hypothesis =  sigmoid(np.dot(X,w) + b)\n",
        "\n",
        "print(X)\n",
        "\n",
        "X_col_2d1 = X.T[0].reshape(1, -1)\n",
        "X_col_2d2 = X.T[1].reshape(1, -1)\n",
        "print(X_col_2d1)\n",
        "print(X_col_2d2)\n",
        "\n",
        "# w1 수정값\n",
        "w1_gred = 1 /4 * np.sum(np.dot(X_col_2d1, (hypothesis -y)))\n",
        "print(\"w1_gred:\",w1_gred)\n",
        "\n",
        "# w2 수정값\n",
        "w2_gred = 1 /4 * np.sum(np.dot(X_col_2d2, (hypothesis -y)))\n",
        "print(\"w2_gred:\",w2_gred)\n",
        "\n",
        "# b 수정값\n",
        "b_gred = 1/4 * np.sum(hypothesis - y)\n",
        "print(\"b_gred :\",b_gred)"
      ],
      "execution_count": null,
      "outputs": [
        {
          "output_type": "stream",
          "name": "stdout",
          "text": [
            "[[0. 0.]\n",
            " [0. 1.]\n",
            " [1. 0.]\n",
            " [1. 1.]]\n",
            "[[0. 0. 1. 1.]]\n",
            "[[0. 1. 0. 1.]]\n",
            "w1_gred: 0.24488529562950134\n",
            "w2_gred: 0.24770864844322205\n",
            "b_gred : 0.731355607509613\n"
          ]
        }
      ]
    },
    {
      "cell_type": "code",
      "metadata": {
        "id": "5nqYK32Vbd9t"
      },
      "source": [
        "learning_rate = 0.1\n",
        "\n",
        "for i in range(1000):\n",
        "  for j in range(2):\n",
        "    hypothesis = sigmoid(np.dot(X, w)+b)\n",
        "    print(\"예측값 = \", hypothesis)\n",
        "\n",
        "    # 오차 계산\n",
        "    cost = -1/4 * (y * np.log(hypothesis) + (1-y)*np.log(1-hypothesis))\n",
        "    print(\"cost = \", cost)\n",
        "\n",
        "    # 2차원 배열\n",
        "    X_col_2d = X.T[j].reshape(1,-1)\n",
        "\n",
        "    # w 기울기 \n",
        "    w_grad = 1/4*np.sum(np.dot(X_col_2d,(hypothesis - y)))\n",
        "    print(\"w_{}grad : {}\".format(i,w_grad))\n",
        "\n",
        "    # w 업데이트\n",
        "    w[j] = w[j] - learning_rate * w_grad\n",
        "    print(\"w{} : {}\".format(j,w))\n",
        "    \n",
        "    # b 기울기\n",
        "    b_grad = 1/4 * np.sum(hypothesis - y)\n",
        "    print(\"b{}_grad:{}\".format(i,b_grad))\n",
        "    # b 업데이트\n",
        "    b = b - learning_rate * b_grad\n",
        "    print(\"b:{}\".format(b))\n",
        "\n",
        "    print(\"=\"*100)"
      ],
      "execution_count": null,
      "outputs": []
    },
    {
      "cell_type": "code",
      "metadata": {
        "colab": {
          "base_uri": "https://localhost:8080/"
        },
        "id": "B30wFgwA2c25",
        "outputId": "18ada9de-00a9-4ba9-cd0b-06c65d285779"
      },
      "source": [
        "predict = sigmoid(np.dot(X,w)+b)\n",
        "predict01 = np.where(predict>=0.5, 1,0)\n",
        "print(\"=\"*50)\n",
        "print(predict)\n",
        "print(\"predict01\")\n",
        "print(predict01)"
      ],
      "execution_count": null,
      "outputs": [
        {
          "output_type": "stream",
          "name": "stdout",
          "text": [
            "==================================================\n",
            "[[0.00735112]\n",
            " [0.13858733]\n",
            " [0.13838431]\n",
            " [0.77724403]]\n",
            "predict01\n",
            "[[0]\n",
            " [0]\n",
            " [0]\n",
            " [1]]\n"
          ]
        }
      ]
    },
    {
      "cell_type": "code",
      "metadata": {
        "colab": {
          "base_uri": "https://localhost:8080/"
        },
        "id": "LEK2ahzk1oxr",
        "outputId": "a36cfa4b-219a-4586-ac43-30f6c7fe59db"
      },
      "source": [
        "predict02 = (predict01 == y)\n",
        "print(y)\n",
        "print(predict02)\n",
        "\n",
        "acc = np.sum(predict02)/4\n",
        "print(acc)"
      ],
      "execution_count": null,
      "outputs": [
        {
          "output_type": "stream",
          "name": "stdout",
          "text": [
            "[[0.]\n",
            " [0.]\n",
            " [0.]\n",
            " [1.]]\n",
            "[[ True]\n",
            " [ True]\n",
            " [ True]\n",
            " [ True]]\n",
            "1.0\n"
          ]
        }
      ]
    },
    {
      "cell_type": "code",
      "metadata": {
        "colab": {
          "base_uri": "https://localhost:8080/"
        },
        "id": "izgq751d2Hdt",
        "outputId": "126ba638-7bbd-483e-e5bf-e8d28cfd0a8c"
      },
      "source": [
        "# 0, 1의 and 연산\n",
        "arr = np.array([0 ,1], dtype = 'float32')\n",
        "predict =  sigmoid(np.dot(arr, w) + b)\n",
        "print(predict)\n",
        "\n",
        "predict01 = np.where(predict > 0.5 , 1,0)\n",
        "print(\"=\"*50)\n",
        "print(\"predict01\")\n",
        "print(predict01)"
      ],
      "execution_count": null,
      "outputs": [
        {
          "output_type": "stream",
          "name": "stdout",
          "text": [
            "[0.13858733]\n",
            "==================================================\n",
            "predict01\n",
            "[0]\n"
          ]
        }
      ]
    },
    {
      "cell_type": "code",
      "metadata": {
        "colab": {
          "base_uri": "https://localhost:8080/"
        },
        "id": "hSM4-4Gj2lB6",
        "outputId": "30b4a93f-759c-496d-e166-eb7d14cf7d05"
      },
      "source": [
        "# 1 1의 and 연산\n",
        "arr = np.array([1 ,1], dtype = 'float32')\n",
        "predict =  sigmoid(np.dot(arr, w) + b)\n",
        "print(predict)\n",
        "\n",
        "predict01 = np.where(predict > 0.5 , 1,0)\n",
        "print(\"=\"*50)\n",
        "print(\"predict01\")\n",
        "print(predict01)"
      ],
      "execution_count": null,
      "outputs": [
        {
          "output_type": "stream",
          "name": "stdout",
          "text": [
            "[0.77724403]\n",
            "==================================================\n",
            "predict01\n",
            "[1]\n"
          ]
        }
      ]
    }
  ]
}