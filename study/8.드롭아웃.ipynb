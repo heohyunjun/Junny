{
  "nbformat": 4,
  "nbformat_minor": 0,
  "metadata": {
    "colab": {
      "name": "Untitled1.ipynb",
      "provenance": [],
      "authorship_tag": "ABX9TyPiYNfVZT7+UucMfUM4ld7W"
    },
    "kernelspec": {
      "name": "python3",
      "display_name": "Python 3"
    },
    "language_info": {
      "name": "python"
    }
  },
  "cells": [
    {
      "cell_type": "markdown",
      "metadata": {
        "id": "5OWdBjHXgS_7"
      },
      "source": [
        "# 드롭아웃\n"
      ]
    },
    {
      "cell_type": "code",
      "metadata": {
        "id": "f7bRJUV2gUlp"
      },
      "source": [
        "import tensorflow_datasets as tfds\n",
        "import tensorflow as tf"
      ],
      "execution_count": null,
      "outputs": []
    },
    {
      "cell_type": "code",
      "metadata": {
        "colab": {
          "base_uri": "https://localhost:8080/",
          "height": 355,
          "referenced_widgets": [
            "ce1b0044559c48e5b1e376aabc08b817",
            "21464fa8a7064ed185e8c9c20e8aeb08",
            "3dc7e7fb23ab4b5c82277e865e0d9608",
            "5ef8507aa2ba424db544f00b2247ada8",
            "9ef571b067e94718b53adfb80cda0909",
            "618fae791ee24e29b4e5b180bf5d499b",
            "980c2bdcf33c421eadcbf3bbb29cf091",
            "c72e7e978c94427d93c2903e931afc70",
            "3a9bfe11f10549e78c8ff6b479aaf2f3",
            "8f57cd6245b74c229cbcf8234c22bce0",
            "d9cb8c735d5349989b65805f098e37e1",
            "8798478981fd486aa2dfd65ce35cf586",
            "80bbc7b6e7f547f19695d6cde3b7e5b5",
            "8baac3b77be348d3985f601a32df7c31",
            "c6cdf8f97c24477a99154e04336647d1",
            "dd58c0c1a19a42c5aaa56980835858e1",
            "b6ba75bdf8224f769b1ee0bc289abd51",
            "996734c5d8e04ef6991b4a81080c04b7"
          ]
        },
        "id": "KZbUF-_egWmN",
        "outputId": "fb8f77f9-cae0-4948-9f24-2ca83eeb7027"
      },
      "source": [
        "(train_data, test_data), info = tfds.load(\n",
        "    'imdb_reviews/subwords8k',\n",
        "    split = (tfds.Split.TRAIN, tfds.Split.TEST),\n",
        "    with_info=True, as_supervised=True\n",
        "    )\n",
        "\n",
        "# padded_batch :\n",
        "# 배치에서 가장 긴 문자열의 길이를 기준으로 시퀀스를 0으로 채움\n",
        "padded_shapes = ([None], ())\n",
        "train_batches = train_data.shuffle(1000).padded_batch(10, padded_shapes=padded_shapes)\n",
        "test_batches = test_data.shuffle(1000).padded_batch(10, padded_shapes=padded_shapes)"
      ],
      "execution_count": null,
      "outputs": [
        {
          "output_type": "stream",
          "name": "stderr",
          "text": [
            "WARNING:absl:TFDS datasets with text encoding are deprecated and will be removed in a future version. Instead, you should use the plain text version and tokenize the text using `tensorflow_text` (See: https://www.tensorflow.org/tutorials/tensorflow_text/intro#tfdata_example)\n"
          ]
        },
        {
          "output_type": "stream",
          "name": "stdout",
          "text": [
            "\u001b[1mDownloading and preparing dataset imdb_reviews/subwords8k/1.0.0 (download: 80.23 MiB, generated: Unknown size, total: 80.23 MiB) to /root/tensorflow_datasets/imdb_reviews/subwords8k/1.0.0...\u001b[0m\n"
          ]
        },
        {
          "output_type": "display_data",
          "data": {
            "application/vnd.jupyter.widget-view+json": {
              "model_id": "ce1b0044559c48e5b1e376aabc08b817",
              "version_minor": 0,
              "version_major": 2
            },
            "text/plain": [
              "Dl Completed...: 0 url [00:00, ? url/s]"
            ]
          },
          "metadata": {}
        },
        {
          "output_type": "display_data",
          "data": {
            "application/vnd.jupyter.widget-view+json": {
              "model_id": "8798478981fd486aa2dfd65ce35cf586",
              "version_minor": 0,
              "version_major": 2
            },
            "text/plain": [
              "Dl Size...: 0 MiB [00:00, ? MiB/s]"
            ]
          },
          "metadata": {}
        },
        {
          "output_type": "stream",
          "name": "stdout",
          "text": [
            "\n",
            "\n"
          ]
        },
        {
          "output_type": "display_data",
          "data": {
            "application/vnd.jupyter.widget-view+json": {
              "model_id": "80bbc7b6e7f547f19695d6cde3b7e5b5",
              "version_minor": 0,
              "version_major": 2
            },
            "text/plain": [
              "0 examples [00:00, ? examples/s]"
            ]
          },
          "metadata": {}
        },
        {
          "output_type": "stream",
          "name": "stdout",
          "text": [
            "Shuffling and writing examples to /root/tensorflow_datasets/imdb_reviews/subwords8k/1.0.0.incomplete3539RR/imdb_reviews-train.tfrecord\n"
          ]
        },
        {
          "output_type": "display_data",
          "data": {
            "application/vnd.jupyter.widget-view+json": {
              "model_id": "8baac3b77be348d3985f601a32df7c31",
              "version_minor": 0,
              "version_major": 2
            },
            "text/plain": [
              "  0%|          | 0/25000 [00:00<?, ? examples/s]"
            ]
          },
          "metadata": {}
        },
        {
          "output_type": "display_data",
          "data": {
            "application/vnd.jupyter.widget-view+json": {
              "model_id": "c6cdf8f97c24477a99154e04336647d1",
              "version_minor": 0,
              "version_major": 2
            },
            "text/plain": [
              "0 examples [00:00, ? examples/s]"
            ]
          },
          "metadata": {}
        },
        {
          "output_type": "stream",
          "name": "stdout",
          "text": [
            "Shuffling and writing examples to /root/tensorflow_datasets/imdb_reviews/subwords8k/1.0.0.incomplete3539RR/imdb_reviews-test.tfrecord\n"
          ]
        },
        {
          "output_type": "display_data",
          "data": {
            "application/vnd.jupyter.widget-view+json": {
              "model_id": "dd58c0c1a19a42c5aaa56980835858e1",
              "version_minor": 0,
              "version_major": 2
            },
            "text/plain": [
              "  0%|          | 0/25000 [00:00<?, ? examples/s]"
            ]
          },
          "metadata": {}
        },
        {
          "output_type": "display_data",
          "data": {
            "application/vnd.jupyter.widget-view+json": {
              "model_id": "b6ba75bdf8224f769b1ee0bc289abd51",
              "version_minor": 0,
              "version_major": 2
            },
            "text/plain": [
              "0 examples [00:00, ? examples/s]"
            ]
          },
          "metadata": {}
        },
        {
          "output_type": "stream",
          "name": "stdout",
          "text": [
            "Shuffling and writing examples to /root/tensorflow_datasets/imdb_reviews/subwords8k/1.0.0.incomplete3539RR/imdb_reviews-unsupervised.tfrecord\n"
          ]
        },
        {
          "output_type": "display_data",
          "data": {
            "application/vnd.jupyter.widget-view+json": {
              "model_id": "996734c5d8e04ef6991b4a81080c04b7",
              "version_minor": 0,
              "version_major": 2
            },
            "text/plain": [
              "  0%|          | 0/50000 [00:00<?, ? examples/s]"
            ]
          },
          "metadata": {}
        },
        {
          "output_type": "stream",
          "name": "stderr",
          "text": [
            "WARNING:absl:Dataset is using deprecated text encoder API which will be removed soon. Please use the plain_text version of the dataset and migrate to `tensorflow_text`.\n"
          ]
        },
        {
          "output_type": "stream",
          "name": "stdout",
          "text": [
            "\u001b[1mDataset imdb_reviews downloaded and prepared to /root/tensorflow_datasets/imdb_reviews/subwords8k/1.0.0. Subsequent calls will reuse this data.\u001b[0m\n"
          ]
        }
      ]
    },
    {
      "cell_type": "code",
      "metadata": {
        "colab": {
          "base_uri": "https://localhost:8080/"
        },
        "id": "zw7x14frgc4P",
        "outputId": "0dc49fd8-52fd-4370-a0a5-d7b16c131c94"
      },
      "source": [
        "# iter는 반복 가능한 객체에서 이터레이터를 반환하고, next는 이터레이터에서 값을 차례대로 꺼냄\n",
        "train_batch, train_labels = next(iter(train_batches))\n",
        "train_batch.numpy()"
      ],
      "execution_count": null,
      "outputs": [
        {
          "output_type": "execute_result",
          "data": {
            "text/plain": [
              "array([[2680,  630,   14, ...,    0,    0,    0],\n",
              "       [  19, 3634,   12, ...,    0,    0,    0],\n",
              "       [  12,   31,   33, ...,    0,    0,    0],\n",
              "       ...,\n",
              "       [6346, 7961,    7, ...,    0,    0,    0],\n",
              "       [1284,  554, 6136, ..., 5623, 1644, 7975],\n",
              "       [2080,   75,   77, ...,    0,    0,    0]])"
            ]
          },
          "metadata": {},
          "execution_count": 4
        }
      ]
    },
    {
      "cell_type": "code",
      "metadata": {
        "id": "Si-B6TWRgvTU"
      },
      "source": [
        "# 드롭아웃이 적용되지 않은 모델\n",
        "encoder = info.features['text'].encoder\n",
        "model = tf.keras.Sequential([\n",
        "\n",
        "# 임베딩층\n",
        "# 단어당 하나의 베터 저장, 임베딩이 호출되면 단어 인덱스 시퀀스를 벡터 시퀀스로 변환\n",
        "tf.keras.layers.Embedding(encoder.vocab_size, 64),\n",
        "tf.keras.layers.LSTM(64),\n",
        "tf.keras.layers.Dense(64, activation='relu'),\n",
        "tf.keras.layers.Dense(1, activation='sigmoid')\n",
        "])"
      ],
      "execution_count": null,
      "outputs": []
    },
    {
      "cell_type": "code",
      "metadata": {
        "colab": {
          "base_uri": "https://localhost:8080/"
        },
        "id": "PANL1xCwgxru",
        "outputId": "55ec989d-0993-4ca1-f380-326e0c40d65c"
      },
      "source": [
        "# 컴파일\n",
        "model.compile(loss='binary_crossentropy',\n",
        "              optimizer=tf.keras.optimizers.Adam(1e-4), metrics=['accuracy'])\n",
        "history = model.fit(train_batches, epochs=5, validation_data=test_batches,\n",
        "                    validation_steps=30)"
      ],
      "execution_count": null,
      "outputs": [
        {
          "output_type": "stream",
          "name": "stdout",
          "text": [
            "Epoch 1/5\n",
            "2500/2500 [==============================] - 272s 106ms/step - loss: 0.6931 - accuracy: 0.4994 - val_loss: 0.6925 - val_accuracy: 0.4933\n",
            "Epoch 2/5\n",
            "2500/2500 [==============================] - 255s 102ms/step - loss: 0.6888 - accuracy: 0.5161 - val_loss: 0.6881 - val_accuracy: 0.4967\n",
            "Epoch 3/5\n",
            "2500/2500 [==============================] - 250s 100ms/step - loss: 0.6590 - accuracy: 0.5914 - val_loss: 0.6443 - val_accuracy: 0.6700\n",
            "Epoch 4/5\n",
            "2500/2500 [==============================] - 248s 99ms/step - loss: 0.6091 - accuracy: 0.6914 - val_loss: 0.5907 - val_accuracy: 0.7600\n",
            "Epoch 5/5\n",
            "2500/2500 [==============================] - 252s 101ms/step - loss: 0.6752 - accuracy: 0.5282 - val_loss: 0.6828 - val_accuracy: 0.5000\n"
          ]
        }
      ]
    },
    {
      "cell_type": "code",
      "metadata": {
        "colab": {
          "base_uri": "https://localhost:8080/",
          "height": 465
        },
        "id": "xsT2-aaogzn2",
        "outputId": "83e7cf33-e774-494b-dc3f-c43226bdd4fa"
      },
      "source": [
        "BUFFER_SIZE = 10000\n",
        "BATCH_SIZE = 64\n",
        "train_dataset = train_batches.shuffle(BUFFER_SIZE)\n",
        "import matplotlib.pyplot as plt\n",
        "history_dict = history.history \n",
        "acc = history_dict['accuracy'] \n",
        "val_acc = history_dict['val_accuracy']\n",
        "loss = history_dict['loss']\n",
        "val_loss = history_dict['val_loss']\n",
        "epochs = range(1, len(acc)+1) \n",
        "plt.figure(figsize=(4,3))\n",
        "plt.plot(epochs, loss, 'bo', label='Training loss')\n",
        "plt.plot(epochs, val_loss, 'b', label='Validation loss')\n",
        "plt.title('Training and validation loss')\n",
        "plt.xlabel('Epochs')\n",
        "plt.ylabel('Loss')\n",
        "plt.legend()\n",
        "plt.show()\n",
        "\n",
        "plt.figure(figsize=(4,3))\n",
        "plt.plot(epochs, acc, 'bo', label='Training acc')\n",
        "plt.plot(epochs, val_acc, 'b', label='Validation acc')\n",
        "plt.title('Training and validation accuracy')\n",
        "plt.xlabel('Epochs')\n",
        "plt.ylabel('Accuracy')\n",
        "plt.legend(loc='lower right')\n",
        "plt.ylim((0.5,1))\n",
        "plt.show()"
      ],
      "execution_count": null,
      "outputs": [
        {
          "output_type": "display_data",
          "data": {
            "image/png": "[encoded data removed]",
            "text/plain": [
              "<Figure size 288x216 with 1 Axes>"
            ]
          },
          "metadata": {
            "needs_background": "light"
          }
        },
        {
          "output_type": "display_data",
          "data": {
            "image/png": "[encoded data removed]",
            "text/plain": [
              "<Figure size 288x216 with 1 Axes>"
            ]
          },
          "metadata": {
            "needs_background": "light"
          }
        }
      ]
    },
    {
      "cell_type": "markdown",
      "metadata": {
        "id": "ZaFHHsQih4nc"
      },
      "source": [
        "결과\n",
        "\n",
        "- 검증에 대한 손실이 네 번째 에포크에서 다시 높아짐\n",
        "- 정상적이지 않음"
      ]
    },
    {
      "cell_type": "code",
      "metadata": {
        "id": "LxqC7be7iH3t"
      },
      "source": [
        "model = tf.keras.Sequential([\n",
        "tf.keras.layers.Embedding(encoder.vocab_size, 64),\n",
        "\n",
        "# 양방향 RNN 사용\n",
        "tf.keras.layers.Bidirectional(tf.keras.layers.LSTM(64, return_sequences=True)),\n",
        "tf.keras.layers.Bidirectional(tf.keras.layers.LSTM(32)),\n",
        "tf.keras.layers.Dense(64, activation='relu'),\n",
        "tf.keras.layers.Dropout(0.5),\n",
        "tf.keras.layers.Dense(1, activation='sigmoid')\n",
        "])\n",
        "model.summary()"
      ],
      "execution_count": null,
      "outputs": []
    },
    {
      "cell_type": "code",
      "metadata": {
        "id": "ujeUb4RiiQhl"
      },
      "source": [
        "model.compile(loss='binary_crossentropy',\n",
        "              optimizer=tf.keras.optimizers.Adam(1e-4), metrics=['accuracy'])\n",
        "history = model.fit(train_batches, epochs=5, validation_data=test_batches,\n",
        "                    validation_steps=30)"
      ],
      "execution_count": null,
      "outputs": []
    },
    {
      "cell_type": "code",
      "metadata": {
        "id": "9QiCKB8yiUM3"
      },
      "source": [
        "BUFFER_SIZE = 10000\n",
        "BATCH_SIZE = 64\n",
        "train_dataset = train_batches.shuffle(BUFFER_SIZE)\n",
        "import matplotlib.pyplot as plt\n",
        "history_dict = history.history\n",
        "acc = history_dict['accuracy']\n",
        "val_acc = history_dict['val_accuracy']\n",
        "loss = history_dict['loss']\n",
        "val_loss = history_dict['val_loss']\n",
        "epochs = range(1, len(acc)+1)\n",
        "plt.figure(figsize=(4,3))\n",
        "plt.plot(epochs, loss, 'bo', label='Training loss')\n",
        "plt.plot(epochs, val_loss, 'b', label='Validation loss')\n",
        "plt.title('Training and validation loss')\n",
        "plt.xlabel('Epochs')\n",
        "plt.ylabel('Loss')\n",
        "plt.legend()\n",
        "plt.show()\n",
        "\n",
        "plt.figure(figsize=(4,3))\n",
        "plt.plot(epochs, acc, 'bo', label='Training acc')\n",
        "plt.plot(epochs, val_acc, 'b', label='Validation acc')\n",
        "plt.title('Training and validation accuracy')\n",
        "plt.xlabel('Epochs')\n",
        "plt.ylabel('Accuracy')\n",
        "plt.legend(loc='lower right')\n",
        "plt.ylim((0.5,1))\n",
        "plt.show()"
      ],
      "execution_count": null,
      "outputs": []
    }
  ]
}
