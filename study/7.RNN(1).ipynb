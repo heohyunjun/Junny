{
  "nbformat": 4,
  "nbformat_minor": 0,
  "metadata": {
    "colab": {
      "name": "Untitled0.ipynb",
      "provenance": [],
      "mount_file_id": "1dNLdWjohaUE7f6SSsv-AUZC05aWbHlJU",
      "authorship_tag": "ABX9TyPbi1rfyq5PrI0rMcxilj91"
    },
    "kernelspec": {
      "name": "python3",
      "display_name": "Python 3"
    },
    "language_info": {
      "name": "python"
    },
    "accelerator": "GPU"
  },
  "cells": [
    {
      "cell_type": "code",
      "metadata": {
        "colab": {
          "base_uri": "https://localhost:8080/"
        },
        "id": "Z3n8crUJn1d6",
        "outputId": "7d30500b-28ca-4c54-b543-9df95bcf6ea8"
      },
      "source": [
        "from pandas import read_csv\n",
        "from pandas import datetime\n",
        "from pandas import DataFrame\n",
        "from statsmodels.tsa.arima_model import ARIMA\n",
        "import matplotlib.pyplot as plt\n",
        "import numpy as np\n",
        "from sklearn.metrics import mean_squared_error"
      ],
      "execution_count": 8,
      "outputs": [
        {
          "output_type": "stream",
          "name": "stderr",
          "text": [
            "/usr/local/lib/python3.7/dist-packages/ipykernel_launcher.py:2: FutureWarning: The pandas.datetime class is deprecated and will be removed from pandas in a future version. Import from datetime module instead.\n",
            "  \n"
          ]
        }
      ]
    },
    {
      "cell_type": "code",
      "metadata": {
        "colab": {
          "base_uri": "https://localhost:8080/",
          "height": 1000
        },
        "id": "UG8rxXF_oLCb",
        "outputId": "ac1bba22-387a-49ec-b65e-aa003c5b7857"
      },
      "source": [
        "def parser(x):\n",
        "  return datetime.strptime('199' +x, '%Y-%m')\n",
        "\n",
        "series = read_csv('/content/drive/MyDrive/Colab Notebooks/성신신성/jj/data/sales.csv', \n",
        "                  header = 0, \n",
        "                  parse_dates = [0],\n",
        "                  index_col = 0,\n",
        "                  squeeze = True,\n",
        "                  date_parser = parser\n",
        "                  )\n",
        "\n",
        "model = ARIMA(series, order =(5, 1, 0))\n",
        "model_fit = model.fit(disp = 0)\n",
        "print(model_fit.summary())\n",
        "\n",
        "residuals = DataFrame(model_fit.resid)\n",
        "residuals.plot()\n",
        "residuals.plot(kind = 'kde')\n",
        "plt.show()\n",
        "print(residuals.describe())"
      ],
      "execution_count": 5,
      "outputs": [
        {
          "output_type": "stream",
          "name": "stderr",
          "text": [
            "/usr/local/lib/python3.7/dist-packages/statsmodels/tsa/base/tsa_model.py:165: ValueWarning: No frequency information was provided, so inferred frequency MS will be used.\n",
            "  % freq, ValueWarning)\n",
            "/usr/local/lib/python3.7/dist-packages/statsmodels/tsa/base/tsa_model.py:165: ValueWarning: No frequency information was provided, so inferred frequency MS will be used.\n",
            "  % freq, ValueWarning)\n"
          ]
        },
        {
          "output_type": "stream",
          "name": "stdout",
          "text": [
            "                             ARIMA Model Results                              \n",
            "==============================================================================\n",
            "Dep. Variable:                D.Sales   No. Observations:                   35\n",
            "Model:                 ARIMA(5, 1, 0)   Log Likelihood                -197.350\n",
            "Method:                       css-mle   S.D. of innovations             66.436\n",
            "Date:                Wed, 06 Oct 2021   AIC                            408.699\n",
            "Time:                        12:48:30   BIC                            419.587\n",
            "Sample:                    02-01-1991   HQIC                           412.458\n",
            "                         - 12-01-1993                                         \n",
            "=================================================================================\n",
            "                    coef    std err          z      P>|z|      [0.025      0.975]\n",
            "---------------------------------------------------------------------------------\n",
            "const            12.4256      3.774      3.292      0.003       5.028      19.823\n",
            "ar.L1.D.Sales    -1.0850      0.188     -5.764      0.000      -1.454      -0.716\n",
            "ar.L2.D.Sales    -0.6688      0.283     -2.365      0.025      -1.223      -0.114\n",
            "ar.L3.D.Sales    -0.4426      0.297     -1.489      0.147      -1.025       0.140\n",
            "ar.L4.D.Sales    -0.0495      0.288     -0.172      0.865      -0.614       0.515\n",
            "ar.L5.D.Sales     0.1652      0.197      0.840      0.408      -0.220       0.551\n",
            "                                    Roots                                    \n",
            "=============================================================================\n",
            "                  Real          Imaginary           Modulus         Frequency\n",
            "-----------------------------------------------------------------------------\n",
            "AR.1           -1.1401           -0.4612j            1.2298           -0.4388\n",
            "AR.2           -1.1401           +0.4612j            1.2298            0.4388\n",
            "AR.3            0.0222           -1.2562j            1.2564           -0.2472\n",
            "AR.4            0.0222           +1.2562j            1.2564            0.2472\n",
            "AR.5            2.5355           -0.0000j            2.5355           -0.0000\n",
            "-----------------------------------------------------------------------------\n"
          ]
        },
        {
          "output_type": "display_data",
          "data": {
            "image/png": "[encoded data removed]",
            "text/plain": [
              "<Figure size 432x288 with 1 Axes>"
            ]
          },
          "metadata": {
            "needs_background": "light"
          }
        },
        {
          "output_type": "display_data",
          "data": {
            "image/png": "[encoded data removed]",
            "text/plain": [
              "<Figure size 432x288 with 1 Axes>"
            ]
          },
          "metadata": {
            "needs_background": "light"
          }
        },
        {
          "output_type": "stream",
          "name": "stdout",
          "text": [
            "                0\n",
            "count   35.000000\n",
            "mean    -5.569205\n",
            "std     70.272669\n",
            "min   -132.525589\n",
            "25%    -45.563708\n",
            "50%    -20.763430\n",
            "75%     39.933248\n",
            "max    163.552236\n"
          ]
        }
      ]
    },
    {
      "cell_type": "markdown",
      "metadata": {
        "id": "Q1Go39wKp0ya"
      },
      "source": [
        "- 예측이 치우쳐 있음(오류 평균값이 0 이 아님)"
      ]
    },
    {
      "cell_type": "code",
      "metadata": {
        "colab": {
          "base_uri": "https://localhost:8080/",
          "height": 513
        },
        "id": "HAm-KuIWp6mv",
        "outputId": "65f82ada-fbe3-4e6f-99a2-1075162ac652"
      },
      "source": [
        "X = series.values\n",
        "X = np.nan_to_num(X)\n",
        "size = int(len(X) * 0.66)\n",
        "train, test = X[0:size], X[size:len(X)]\n",
        "history = [x for x in train]\n",
        "predictions = list()\n",
        "for t in range(len(test)):\n",
        "    model = ARIMA(history, order=(5,1,0))\n",
        "    model_fit = model.fit(disp=0)\n",
        "    output = model_fit.forecast() \n",
        "    yhat = output[0] \n",
        "    predictions.append(yhat)\n",
        "    obs = test[t]\n",
        "    history.append(obs)\n",
        "    print('predicted=%f, expected=%f' % (yhat, obs))  \n",
        "error = mean_squared_error(test, predictions) \n",
        "print('Test MSE: %.3f' % error)\n",
        "plt.plot(test)\n",
        "plt.plot(predictions, color='red')\n",
        "plt.show()"
      ],
      "execution_count": 10,
      "outputs": [
        {
          "output_type": "stream",
          "name": "stdout",
          "text": [
            "predicted=354.377752, expected=346.300000\n",
            "predicted=288.627333, expected=329.700000\n",
            "predicted=382.817967, expected=445.400000\n",
            "predicted=339.543910, expected=325.900000\n",
            "predicted=392.897220, expected=449.300000\n",
            "predicted=354.487925, expected=411.300000\n",
            "predicted=452.200043, expected=417.400000\n",
            "predicted=406.806138, expected=545.500000\n",
            "predicted=430.162054, expected=477.600000\n",
            "predicted=492.745349, expected=687.000000\n",
            "predicted=493.604519, expected=435.300000\n",
            "predicted=657.397214, expected=587.300000\n",
            "predicted=522.091103, expected=676.900000\n",
            "Test MSE: 8074.989\n"
          ]
        },
        {
          "output_type": "display_data",
          "data": {
            "image/png": "[encoded data removed]",
            "text/plain": [
              "<Figure size 432x288 with 1 Axes>"
            ]
          },
          "metadata": {
            "needs_background": "light"
          }
        }
      ]
    },
    {
      "cell_type": "markdown",
      "metadata": {
        "id": "-fCVC9yV6Aft"
      },
      "source": [
        "# RNN 셀 구현"
      ]
    },
    {
      "cell_type": "code",
      "metadata": {
        "id": "LBWfm5Nq6B0L"
      },
      "source": [
        "import os\n",
        "os.environ['TF_CPP_MIN_LOG_LEVEL'] = '2'\n",
        "\n",
        "import tensorflow as tf\n",
        "import numpy as np\n",
        "from tensorflow import keras\n",
        "from tensorflow.keras.models import Sequential\n",
        "from tensorflow.keras.layers import Dense\n",
        "from tensorflow.keras.optimizers import Adam"
      ],
      "execution_count": 1,
      "outputs": []
    },
    {
      "cell_type": "code",
      "metadata": {
        "id": "PZdO5ebc6jgd"
      },
      "source": [
        "tf.random.set_seed(22)\n",
        "np.random.seed(22)\n",
        "\n",
        "assert tf.__version__.startswith('2.')"
      ],
      "execution_count": 2,
      "outputs": []
    },
    {
      "cell_type": "code",
      "metadata": {
        "id": "8xKzeC5w6vOC"
      },
      "source": [
        "batch_size = 128\n",
        "total_words = 10000\n",
        "max_review_len = 80\n",
        "embedding_len = 100"
      ],
      "execution_count": 3,
      "outputs": []
    },
    {
      "cell_type": "code",
      "metadata": {
        "colab": {
          "base_uri": "https://localhost:8080/"
        },
        "id": "dIy1hkJg62RQ",
        "outputId": "6f78e3ce-ce6b-47d6-fc45-98b481073dd5"
      },
      "source": [
        "# imdb.load_data 함수 사용하여 IMDB 데이터셋 다운\n",
        "# 파라미터 num_words는 데이터에서 등장 빈도 순위로 몇 번째에 해당하는 단어까지 사용할지를 의미\n",
        "# 등장 빈도 순위가 1 ~ 10000에 해당하는 단어만 사용\n",
        "(X_train, y_train), (X_test, y_test) = tf.keras.datasets.imdb.load_data(num_words = total_words)\n",
        "\n",
        "'''\n",
        "전체 훈련 셋에서 각 샘플의 길이는 서로 다를수 있음\n",
        "또한 각 문장은 단어 수가 제 각각\n",
        "모델의 입력으로 사용하려면 모든 샘플 길이를 동일하게 맞추어야함\n",
        "이를 자연어 처리에서는 패딩작업이라고 함, 보통 숫자 0을 넣어서 길이를 맞춤\n",
        "케라스에서는 pad_sequence()를 사용\n",
        "- 첫 번쨰 인자 : 패딩을 진행할 데이터\n",
        "- maxlen : 모든 데이터에 대해 정규화 할 길이\n",
        "'''\n",
        "X_train = tf.keras.preprocessing.sequence.pad_sequences(X_train, maxlen = max_review_len)\n",
        "X_test = tf.keras.preprocessing.sequence.pad_sequences(X_test, maxlen = max_review_len)\n",
        "\n",
        "'''\n",
        "넘파이 배열을 Dataset으로 변환\n",
        "변환하려는 전체 데이터를 메모리로 로딩해야 하므로 큰 용량의 메모리가 필요\n",
        "메모리 문제 해결책은 Dataset의 from_generator 사용\n",
        "이것은 필요할 떄만 파이썬 generator을 통해 가져옴\n",
        "'''\n",
        "train_data = tf.data.Dataset.from_tensor_slices((X_train, y_train))\n",
        "\n",
        "'''\n",
        "train_data.shuffle(10000) : \n",
        "- 데이터셋을 임의로 섞음, buffer_size 지정\n",
        "- 버퍼에서 임의로 샘플 뽑고, 뽑은 샘플은 다른 샘플로 대체\n",
        "- 데이터셋의 크기에 비해 크거나 같은 버퍼 크기로 지정\n",
        "\n",
        "bathch()\n",
        "- 몇 개의 샘플로 가중치를 갱신할지 지정\n",
        "\n",
        "drop_remainder\n",
        "- 마지막 배치 크기를 무시하고 지정한 배치 크기 사용\n",
        "'''\n",
        "train_data = train_data.shuffle(10000).batch(batch_size, drop_remainder = True)\n",
        "\n",
        "test_data = tf.data.Dataset.from_tensor_slices((X_test, y_test))\n",
        "test_data = test_data.batch(batch_size, drop_remainder = True)\n",
        "\n",
        "print(\"X_train_shape,\", X_train.shape, tf.reduce_max(y_train), tf.reduce_min(y_train))\n",
        "print(\"X_test_shape\", X_test.shape)\n",
        "\n",
        "sample = next(iter(test_data))\n",
        "print(sample[0].shape)"
      ],
      "execution_count": 4,
      "outputs": [
        {
          "output_type": "stream",
          "name": "stdout",
          "text": [
            "Downloading data from https://storage.googleapis.com/tensorflow/tf-keras-datasets/imdb.npz\n",
            "17465344/17464789 [==============================] - 0s 0us/step\n",
            "17473536/17464789 [==============================] - 0s 0us/step\n",
            "X_train_shape, (25000, 80) tf.Tensor(1, shape=(), dtype=int64) tf.Tensor(0, shape=(), dtype=int64)\n",
            "X_test_shape (25000, 80)\n",
            "(128, 80)\n"
          ]
        }
      ]
    },
    {
      "cell_type": "code",
      "metadata": {
        "id": "LKwv5eJv-pfJ"
      },
      "source": [
        "# 네트워크(신경망)\n",
        "\n",
        "# 객체 지향 프로그램 구현\n",
        "# 구조를 설계한 후 재사용성을 고려하거나 코드의 반복을 최소화 하는데 사용\n",
        "class RNN_Build(tf.keras.Model):\n",
        "\n",
        "  # 인스턴스를 생성할 떄 초기화하는 부분\n",
        "  # init은 객체가 생성될 떄 호출되며, call은 인스턴스가 생성될 떄 호출\n",
        "  def __init__(self, units):\n",
        "\n",
        "    # 기반 클래스의 __init__ 호출\n",
        "    super(RNN_Build, self).__init__()\n",
        "\n",
        "    # self는 자신의 인스턴스를 의미\n",
        "    # tf.zeros를 사용하여 0값으로 채워진 텐서를 생성해서 state0에 저장\n",
        "    self.state0 = [tf.zeros([batch_size, units])]\n",
        "    self.state1 = [tf.zeros([batch_size, units])]\n",
        "\n",
        "    '''\n",
        "    케라스는 텍스트 데이터에 대해 워드 임베딩을 수행하는 임베딩층을 제공\n",
        "    임베딩층을 사용하려면 각 입력이 모두 정수로 인코딩\n",
        "    각각 입력은 정수로 변환된 상태에서 임베딩층을 구성\n",
        "    '''\n",
        "    # total_words : 텍스트 데이터의 전체 단어 집합 크기, 데이터셋의 단어들이 0부터 20000까지 인코딩 상태면, 단어 집합 크기는 20001\n",
        "    # embedding_len : 임베딩이 되고 나후 단어의 차원\n",
        "    # input_length : 입력 데이터 길이\n",
        "    self.embedding = tf.keras.layers.Embedding(total_words,\n",
        "                                               embedding_len,\n",
        "                                               input_length = max_review_len)\n",
        "    \n",
        "    # SimpleRNN 셀 클래스\n",
        "    # units : 출력 공간의 차원\n",
        "    self.RNNCell0 = tf.keras.layers.SimpleRNNCell(units, dropout = 0.2)\n",
        "    self.RNNCell1 = tf.keras.layers.SimpleRNNCell(units, dropout = 0.2)\n",
        "    self.outlayer = tf.keras.layers.Dense(1)\n",
        "\n",
        "  def call(self, inputs, training = None):\n",
        "    x = inputs\n",
        "    x = self.embedding(x)\n",
        "    state0 = self.state0\n",
        "    state1 = self.state1\n",
        "\n",
        "    # 중복된 값이 있을 떄 사용하면 유용\n",
        "    # 그룹으로 묶은 데이터를 행렬 형태로 전환하여 연산\n",
        "    for word in tf.unstack(x, axis =1 ):\n",
        "      out0, state0 = self.RNNCell0(word, state0, training)\n",
        "      out1, state1 = self.RNNCell0(word, state1, training)\n",
        "    \n",
        "    x = self.outlayer(out1)\n",
        "    prob = tf.sigmoid(x)\n",
        "    return prob"
      ],
      "execution_count": 7,
      "outputs": []
    },
    {
      "cell_type": "code",
      "metadata": {
        "colab": {
          "base_uri": "https://localhost:8080/"
        },
        "id": "9PRiBC1gB3Q_",
        "outputId": "67fdebbf-5dd2-4f4f-b699-741a50bb37cf"
      },
      "source": [
        "# 훈련\n",
        "import time\n",
        "units = 64\n",
        "epochs =4\n",
        "\n",
        "t0 = time.time()\n",
        "model = RNN_Build(units)\n",
        "model.compile(optimizer = tf.keras.optimizers.Adam(0.001),\n",
        "              loss = tf.losses.BinaryCrossentropy(),\n",
        "              metrics = ['acc'],\n",
        "              experimental_run_tf_function = False)\n",
        "# validation_freq =2\n",
        "# 에포크마다 무조건 검증 데이터셋에 대한 계싼을 수행하지 않고 적절한 간격을 두고 계산\n",
        "model.fit(train_data, epochs = epochs, validation_data = test_data, validation_freq = 2)"
      ],
      "execution_count": 9,
      "outputs": [
        {
          "output_type": "stream",
          "name": "stdout",
          "text": [
            "Epoch 1/4\n",
            "195/195 [==============================] - 12s 24ms/step - loss: 0.4991 - acc: 0.7491\n",
            "Epoch 2/4\n",
            "195/195 [==============================] - 8s 40ms/step - loss: 0.2968 - acc: 0.8774 - val_loss: 0.3936 - val_acc: 0.8275\n",
            "Epoch 3/4\n",
            "195/195 [==============================] - 5s 24ms/step - loss: 0.1940 - acc: 0.9268\n",
            "Epoch 4/4\n",
            "195/195 [==============================] - 6s 31ms/step - loss: 0.0913 - acc: 0.9692 - val_loss: 0.5572 - val_acc: 0.8185\n"
          ]
        },
        {
          "output_type": "execute_result",
          "data": {
            "text/plain": [
              "<keras.callbacks.History at 0x7f4b2d476b90>"
            ]
          },
          "metadata": {},
          "execution_count": 9
        }
      ]
    },
    {
      "cell_type": "code",
      "metadata": {
        "colab": {
          "base_uri": "https://localhost:8080/"
        },
        "id": "DW5CccVeCYLa",
        "outputId": "a08be453-f2c1-412b-86ff-d0655ee8b524"
      },
      "source": [
        "# 모델 평가\n",
        "print(\"훈련 데이터셋 평가\")\n",
        "(loss, accuracy) = model.evaluate(train_data, verbose = 0)\n",
        "\n",
        "print(\"loss = {:.4f}, accuracy : {:.4f}%\".format(loss, accuracy * 100))\n",
        "\n",
        "print(\"테스트 데이터셋 평가\")\n",
        "(loss, accuracy) = model.evaluate(test_data, verbose = 0)\n",
        "print(\"loss = {:.4f}, accuracy : {:.4f}%\".format(loss, accuracy * 100))\n",
        "\n",
        "t1 = time.time()\n",
        "print('시간:', t1 -t0)"
      ],
      "execution_count": 10,
      "outputs": [
        {
          "output_type": "stream",
          "name": "stdout",
          "text": [
            "훈련 데이터셋 평가\n",
            "loss = 0.0324, accuracy : 99.2268%\n",
            "테스트 데이터셋 평가\n",
            "loss = 0.5572, accuracy : 81.8470%\n",
            "시간: 189.80621886253357\n"
          ]
        }
      ]
    },
    {
      "cell_type": "code",
      "metadata": {
        "id": "99ZW_q70DaoW"
      },
      "source": [
        "\n",
        "\n",
        "class RNN_Build(tf.keras.Model):\n",
        "    def __init__(self, units):\n",
        "        super(RNN_Build, self).__init__()\n",
        "        self.embedding = tf.keras.layers.Embedding(total_words, embedding_len,\n",
        "                                                   input_length=max_review_len)\n",
        "\n",
        "        self.rnn = tf.keras.Sequential([\n",
        "            # SimpleRNN 함수를 사용해 은닉 노드가 다수 개인 RNN 셀 구축가능\n",
        "            # SimpleRNNCell은 셀이 하나이나 SimpleRNN은 한 번에 셀을 여러개 구축\n",
        "            # uints : 네트워크의 층 수\n",
        "            # return_sequences : 마지막 출력 또는 전체 순서를 반환\n",
        "            # 이떄 주의할점은 이게 True면 출력 순서 중 마지막 값만 출력하는 것이 아니라\n",
        "            # 전체 순서열을 3차원 텐서 형태로 출력하는 것\n",
        "            tf.keras.layers.SimpleRNN(units, dropout=0.5, return_sequences=True),\n",
        "            tf.keras.layers.SimpleRNN(units, dropout=0.5)\n",
        "        ])\n",
        "        self.outlayer = tf.keras.layers.Dense(1)\n",
        "\n",
        "    def call(self, inputs, training=None):\n",
        "        x = inputs\n",
        "        x = self.embedding(x)\n",
        "        x = self.rnn(x)\n",
        "        x = self.outlayer(x)\n",
        "        prob = tf.sigmoid(x)\n",
        "\n",
        "        return prob"
      ],
      "execution_count": 14,
      "outputs": []
    },
    {
      "cell_type": "code",
      "metadata": {
        "colab": {
          "base_uri": "https://localhost:8080/"
        },
        "id": "ARTpsbVPEz62",
        "outputId": "ed9db524-b244-4ba9-a51d-0f0cc86bf8cd"
      },
      "source": [
        "# 모델 훈련\n",
        "import time\n",
        "units = 64\n",
        "epochs = 4\n",
        "t0 = time.time()\n",
        "\n",
        "model = RNN_Build(units)\n",
        "\n",
        "model.compile(optimizer=tf.keras.optimizers.Adam(0.001),\n",
        "              loss=tf.losses.BinaryCrossentropy(),\n",
        "              metrics=['accuracy'],\n",
        "              experimental_run_tf_function=False)\n",
        "\n",
        "model.fit(train_data, epochs=epochs, validation_data=test_data, validation_freq=2)"
      ],
      "execution_count": 15,
      "outputs": [
        {
          "output_type": "stream",
          "name": "stdout",
          "text": [
            "Epoch 1/4\n",
            "195/195 [==============================] - 50s 230ms/step - loss: 0.6542 - accuracy: 0.5776\n",
            "Epoch 2/4\n",
            "195/195 [==============================] - 42s 214ms/step - loss: 0.3961 - accuracy: 0.8246 - val_loss: 0.3830 - val_accuracy: 0.8288\n",
            "Epoch 3/4\n",
            "195/195 [==============================] - 38s 195ms/step - loss: 0.3004 - accuracy: 0.8771\n",
            "Epoch 4/4\n",
            "195/195 [==============================] - 40s 205ms/step - loss: 0.2385 - accuracy: 0.9071 - val_loss: 0.4893 - val_accuracy: 0.8218\n"
          ]
        },
        {
          "output_type": "execute_result",
          "data": {
            "text/plain": [
              "<keras.callbacks.History at 0x7f4b32fd2450>"
            ]
          },
          "metadata": {},
          "execution_count": 15
        }
      ]
    },
    {
      "cell_type": "code",
      "metadata": {
        "colab": {
          "base_uri": "https://localhost:8080/"
        },
        "id": "q-6uFIx-F27k",
        "outputId": "ab6e76cc-3b8c-4ab5-9e30-4833c4f98e8f"
      },
      "source": [
        "print(\"훈련 데이터셋 평가...\")\n",
        "(loss, accuracy) = model.evaluate(train_data, verbose=0)\n",
        "print(\"loss={:.4f}, accuracy: {:.4f}%\".format(loss,accuracy * 100))\n",
        "print(\"테스트 데이터셋 평가...\")\n",
        "(loss, accuracy) = model.evaluate(test_data, verbose=0)\n",
        "print(\"loss={:.4f}, accuracy: {:.4f}%\".format(loss,accuracy * 100))\n",
        "\n",
        "t1 = time.time()\n",
        "print('시간:', t1-t0)"
      ],
      "execution_count": 16,
      "outputs": [
        {
          "output_type": "stream",
          "name": "stdout",
          "text": [
            "훈련 데이터셋 평가...\n",
            "loss=0.1151, accuracy: 95.9295%\n",
            "테스트 데이터셋 평가...\n",
            "loss=0.4893, accuracy: 82.1835%\n",
            "시간: 269.837837934494\n"
          ]
        }
      ]
    },
    {
      "cell_type": "markdown",
      "metadata": {
        "id": "AR6rgIP4E-n9"
      },
      "source": [
        "결과 : simplernncell 보다 훈련 데이터에 대한 정확도 낮아짐, 테스트 셋에 대한 정확도는 조금 높았으나 수행시간이 길어짐\n"
      ]
    }
  ]
}
