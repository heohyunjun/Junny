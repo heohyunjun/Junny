{
  "nbformat": 4,
  "nbformat_minor": 0,
  "metadata": {
    "colab": {
      "name": "Untitled1.ipynb",
      "provenance": [],
      "authorship_tag": "ABX9TyM2AGM/ndWDmBauKz4dsiAa"
    },
    "kernelspec": {
      "name": "python3",
      "display_name": "Python 3"
    },
    "language_info": {
      "name": "python"
    }
  },
  "cells": [
    {
      "cell_type": "markdown",
      "metadata": {
        "id": "MyT2S4hLxpHK"
      },
      "source": [
        "## 파이썬 합성곱 연산\n",
        "\n",
        "- 452 ~481"
      ]
    },
    {
      "cell_type": "code",
      "metadata": {
        "id": "-Wkv_AV12OaI"
      },
      "source": [
        "import numpy as np\n",
        "from scipy.signal import correlate, correlate2d"
      ],
      "execution_count": null,
      "outputs": []
    },
    {
      "cell_type": "code",
      "metadata": {
        "id": "UryVacK12ezr"
      },
      "source": [
        "# 배열\n",
        "x = [2, 8, 3, 7, 1, 2, 0, 4, 5]\n",
        "\n",
        "# 합성곱 필터\n",
        "w= [3, 5, 1, 2]"
      ],
      "execution_count": null,
      "outputs": []
    },
    {
      "cell_type": "code",
      "metadata": {
        "colab": {
          "base_uri": "https://localhost:8080/"
        },
        "id": "pReFCqnT2ezs",
        "outputId": "a54ef458-7797-44a4-d55e-df8a21cfdfa8"
      },
      "source": [
        "# 합성곱 연산 - for문 \n",
        "print(\"all x:\",x)\n",
        "for i in range(6):\n",
        "  print(\"x[{} : {}] = {}\".format(i, i+4, x[i : i+4]))\n",
        "print(\"=\" * 100)\n",
        "\n",
        "# 합성곱 해보기\n",
        "for i in range(6):\n",
        "    print(\"x[{} : {}] * w ={}\".format(i, i+4,  np.dot( x[i:i+4], w)  ))"
      ],
      "execution_count": null,
      "outputs": [
        {
          "output_type": "stream",
          "name": "stdout",
          "text": [
            "all x: [2, 8, 3, 7, 1, 2, 0, 4, 5]\n",
            "x[0 : 4] = [2, 8, 3, 7]\n",
            "x[1 : 5] = [8, 3, 7, 1]\n",
            "x[2 : 6] = [3, 7, 1, 2]\n",
            "x[3 : 7] = [7, 1, 2, 0]\n",
            "x[4 : 8] = [1, 2, 0, 4]\n",
            "x[5 : 9] = [2, 0, 4, 5]\n",
            "====================================================================================================\n",
            "x[0 : 4] * w =63\n",
            "x[1 : 5] * w =48\n",
            "x[2 : 6] * w =49\n",
            "x[3 : 7] * w =28\n",
            "x[4 : 8] * w =21\n",
            "x[5 : 9] * w =20\n"
          ]
        }
      ]
    },
    {
      "cell_type": "code",
      "metadata": {
        "colab": {
          "base_uri": "https://localhost:8080/"
        },
        "id": "5q5cMbXX3BUG",
        "outputId": "7d7d9c2b-a360-4099-d103-c351765a16a9"
      },
      "source": [
        "# 위에걸 한방에\n",
        "print(\"mode : valid\",correlate(x, w, mode = 'valid'))\n",
        "\n",
        "# 세임패딩 : 출력 배열의 길이를 원본 배열의 길이와 동일하게 만듬\n",
        "# -> 모서리에 0을 붙임  , 이를 제로패딩을 추가한다라고 함\n",
        "\n"
      ],
      "execution_count": null,
      "outputs": [
        {
          "output_type": "execute_result",
          "data": {
            "text/plain": [
              "array([63, 48, 49, 28, 21, 20])"
            ]
          },
          "metadata": {},
          "execution_count": 32
        }
      ]
    },
    {
      "cell_type": "markdown",
      "metadata": {
        "id": "x3ukAmuX4hV6"
      },
      "source": [
        "이차원 합성곱 연산 실습"
      ]
    },
    {
      "cell_type": "code",
      "metadata": {
        "id": "q_CTbENL4fjO"
      },
      "source": [
        "x = np.array(\n",
        "                [\n",
        "                 [1,2,3],\n",
        "                 [4,5,6],\n",
        "                 [7,8,9]\n",
        "                ]\n",
        "             , dtype=\"float32\")\n",
        "\n",
        "w = np.array([\n",
        "              [2,0],\n",
        "              [0,0]\n",
        "            ])"
      ],
      "execution_count": null,
      "outputs": []
    },
    {
      "cell_type": "code",
      "metadata": {
        "colab": {
          "base_uri": "https://localhost:8080/"
        },
        "id": "vi9XaUdu4qxt",
        "outputId": "46600de7-a8ec-4c3d-8a66-4444a92868d5"
      },
      "source": [
        "# 그냥 곱하기 - > 원본 배열크기랑 달라짐\n",
        "print(\"valid:\\n\",correlate2d(x, w, mode = 'valid'))\n",
        "\n",
        "# 패딩추가후 2차원 배열 곱셈\n",
        "print(\"same:\\n\",correlate2d(x, w, mode = 'same'))"
      ],
      "execution_count": null,
      "outputs": [
        {
          "output_type": "stream",
          "name": "stdout",
          "text": [
            "valid:\n",
            " [[ 2.  4.]\n",
            " [ 8. 10.]]\n",
            "same:\n",
            " [[ 2.  4.  6.]\n",
            " [ 8. 10. 12.]\n",
            " [14. 16. 18.]]\n"
          ]
        }
      ]
    },
    {
      "cell_type": "markdown",
      "metadata": {
        "id": "wzKruGAl5Jpy"
      },
      "source": [
        "텐서플로를 이용한 합성곱 연산\n",
        "\n",
        "- 이미지는 4차원 배열\n",
        "- 텐서플로에서 합성곱 입력(이미지)는 3차원 이미지들이 여러개 있는 4차원 배열\n",
        "\n",
        "- 가중치(필터)는 3차원 이미지들이 여러개 있는 4차원 배열"
      ]
    },
    {
      "cell_type": "code",
      "metadata": {
        "colab": {
          "base_uri": "https://localhost:8080/"
        },
        "id": "X8UzDSi25w6R",
        "outputId": "676e6a4a-6c5b-4fa3-9069-d6b3720dc811"
      },
      "source": [
        "%tensorflow_version 1.x"
      ],
      "execution_count": null,
      "outputs": [
        {
          "output_type": "stream",
          "name": "stdout",
          "text": [
            "TensorFlow 1.x selected.\n"
          ]
        }
      ]
    },
    {
      "cell_type": "code",
      "metadata": {
        "id": "L2AcFQyA5w6Y"
      },
      "source": [
        "import tensorflow as tf\n",
        "import numpy as np\n",
        "from scipy.signal import correlate2d\n",
        "import matplotlib.pyplot as plt\n",
        "\n",
        "%matplotlib inline"
      ],
      "execution_count": null,
      "outputs": []
    },
    {
      "cell_type": "code",
      "metadata": {
        "colab": {
          "base_uri": "https://localhost:8080/",
          "height": 35
        },
        "id": "ihZNHKvn5w6Y",
        "outputId": "e856e460-5575-4f4e-df9d-8571e3fb4427"
      },
      "source": [
        "tf.enable_eager_execution()\n",
        "tf.__version__"
      ],
      "execution_count": null,
      "outputs": [
        {
          "output_type": "execute_result",
          "data": {
            "application/vnd.google.colaboratory.intrinsic+json": {
              "type": "string"
            },
            "text/plain": [
              "'1.15.2'"
            ]
          },
          "metadata": {},
          "execution_count": 4
        }
      ]
    },
    {
      "cell_type": "code",
      "metadata": {
        "colab": {
          "base_uri": "https://localhost:8080/"
        },
        "id": "H4EUzqET5w6Z",
        "outputId": "5eff59eb-6cd5-44f3-e53c-9ab57404a987"
      },
      "source": [
        "x = np.array(\n",
        "                [\n",
        "                 [1,2,3],\n",
        "                 [4,5,6],\n",
        "                 [7,8,9]\n",
        "                ]\n",
        "             , dtype=\"float32\")\n",
        "\n",
        "# 타입 변환 \n",
        "x = np.array(x, dtype = 'float32')\n",
        "print(\"x.shape :\",x.shape)\n",
        "\n",
        "# 차원 변환 (개수, 높이 , 너비 , 채널개수)\n",
        "x =  x.reshape(1, 3, 3, 1)\n",
        "\n",
        "# reshape 확인\n",
        "print(\"x.reshape :\",x.shape)\n",
        "\n",
        "# 가중치(필터)\n",
        "w = np.array([\n",
        "              [2,0],\n",
        "              [0,0]\n",
        "            ])\n",
        "# shape 확인\n",
        "print(\"w.shape\", w.shape)\n",
        "\n",
        "# 차원 변환(너비, 높이 , 채널,  가중치 개수)\n",
        "w = w.reshape(2, 2, 1, 1)\n",
        "\n",
        "# 확인\n",
        "print(\"w.reshape\",w.shape)"
      ],
      "execution_count": null,
      "outputs": [
        {
          "output_type": "stream",
          "name": "stdout",
          "text": [
            "x.shape : (3, 3)\n",
            "x.reshape : (1, 3, 3, 1)\n",
            "w.shape (2, 2)\n",
            "w.reshape (2, 2, 1, 1)\n"
          ]
        }
      ]
    },
    {
      "cell_type": "code",
      "metadata": {
        "colab": {
          "base_uri": "https://localhost:8080/"
        },
        "id": "2e2Klglq7U6g",
        "outputId": "5d74409c-1634-4d5c-b5c7-99d10e442bcc"
      },
      "source": [
        "# 합성곱 연산 수행\n",
        "conv = tf.nn.conv2d(x ,w, strides =1, padding = 'SAME')\n",
        "conv"
      ],
      "execution_count": null,
      "outputs": [
        {
          "output_type": "execute_result",
          "data": {
            "text/plain": [
              "<tf.Tensor: id=2, shape=(1, 3, 3, 1), dtype=float32, numpy=\n",
              "array([[[[ 2.],\n",
              "         [ 4.],\n",
              "         [ 6.]],\n",
              "\n",
              "        [[ 8.],\n",
              "         [10.],\n",
              "         [12.]],\n",
              "\n",
              "        [[14.],\n",
              "         [16.],\n",
              "         [18.]]]], dtype=float32)>"
            ]
          },
          "metadata": {},
          "execution_count": 6
        }
      ]
    },
    {
      "cell_type": "markdown",
      "metadata": {
        "id": "167QDepQ7wA2"
      },
      "source": [
        "맥스풀링\n",
        "\n",
        "- 특성맵을 스캔하며 최댓값 고르는 것"
      ]
    },
    {
      "cell_type": "code",
      "metadata": {
        "colab": {
          "base_uri": "https://localhost:8080/"
        },
        "id": "FZLnnjRf7m_I",
        "outputId": "74c3be8f-8da9-48fe-dd17-88f608723d25"
      },
      "source": [
        "# tf.nn.max_pool2d : MaxPooling\n",
        "# ksize = 2 : 2줄 2칸을 그룹으로 함\n",
        "# stride= 1 : 1 칸식 이동하면서 맥스 풀링\n",
        "# conv : 맥스플링 실행할 배열\n",
        "tf.nn.max_pool2d(conv, ksize=2, strides=1, padding=\"VALID\")"
      ],
      "execution_count": null,
      "outputs": [
        {
          "output_type": "execute_result",
          "data": {
            "text/plain": [
              "<tf.Tensor: id=3, shape=(1, 2, 2, 1), dtype=float32, numpy=\n",
              "array([[[[10.],\n",
              "         [12.]],\n",
              "\n",
              "        [[16.],\n",
              "         [18.]]]], dtype=float32)>"
            ]
          },
          "metadata": {},
          "execution_count": 7
        }
      ]
    }
  ]
}