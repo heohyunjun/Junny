{
  "nbformat": 4,
  "nbformat_minor": 0,
  "metadata": {
    "colab": {
      "name": "Untitled1.ipynb",
      "provenance": [],
      "authorship_tag": "ABX9TyPUx9A8WkREMeReqCJn7QZ/"
    },
    "kernelspec": {
      "name": "python3",
      "display_name": "Python 3"
    },
    "language_info": {
      "name": "python"
    }
  },
  "cells": [
    {
      "cell_type": "markdown",
      "metadata": {
        "id": "oVRTR-ugvSeQ"
      },
      "source": [
        "## 인공신경망을 이용한 유방암 분류 (텐서 플로 1.x) \n",
        "- 134 ~ 156"
      ]
    },
    {
      "cell_type": "code",
      "metadata": {
        "colab": {
          "base_uri": "https://localhost:8080/"
        },
        "id": "UOhF6nkXvYdx",
        "outputId": "4383937b-cb82-4418-d56f-2210861d51e0"
      },
      "source": [
        "%tensorflow_version 1.x"
      ],
      "execution_count": null,
      "outputs": [
        {
          "output_type": "stream",
          "name": "stdout",
          "text": [
            "TensorFlow 1.x selected.\n"
          ]
        }
      ]
    },
    {
      "cell_type": "code",
      "metadata": {
        "id": "cGiF_UrA3tMG"
      },
      "source": [
        "import tensorflow as tf\n",
        "from sklearn import datasets\n",
        "import numpy as np\n",
        "from sklearn.model_selection import train_test_split\n",
        "from sklearn.preprocessing import MinMaxScaler, StandardScaler\n",
        "\n",
        "import pandas as pd"
      ],
      "execution_count": null,
      "outputs": []
    },
    {
      "cell_type": "code",
      "metadata": {
        "id": "c7gANvJM4ReT"
      },
      "source": [
        "tf.enable_eager_execution()"
      ],
      "execution_count": null,
      "outputs": []
    },
    {
      "cell_type": "code",
      "metadata": {
        "id": "XMlT3Fi0venT"
      },
      "source": [
        "data = datasets.load_breast_cancer()"
      ],
      "execution_count": null,
      "outputs": []
    },
    {
      "cell_type": "code",
      "metadata": {
        "id": "xoy80k7GvsgQ"
      },
      "source": [
        "X = data.data\n",
        "y = data.target\n",
        "\n",
        "X = np.array(X, dtype = 'float32')\n",
        "y = np.array(y, dtype = \"float32\")"
      ],
      "execution_count": null,
      "outputs": []
    },
    {
      "cell_type": "code",
      "metadata": {
        "colab": {
          "base_uri": "https://localhost:8080/"
        },
        "id": "skvS8gsov-1h",
        "outputId": "d4591ce3-5edc-4a93-81cd-366c35a67631"
      },
      "source": [
        "print(\"기존 y.shape : \",y.shape)\n",
        "\n",
        "y = y.reshape(-1,1)\n",
        "\n",
        "print(\"변경 y.shape : \",y.shape)"
      ],
      "execution_count": null,
      "outputs": [
        {
          "output_type": "stream",
          "name": "stdout",
          "text": [
            "기존 y.shape :  (569,)\n",
            "변경 y.shape :  (569, 1)\n"
          ]
        }
      ]
    },
    {
      "cell_type": "code",
      "metadata": {
        "id": "cEtaR0qFw1tZ"
      },
      "source": [
        "X_train, X_test, y_train, y_test = train_test_split(X,y)"
      ],
      "execution_count": null,
      "outputs": []
    },
    {
      "cell_type": "code",
      "metadata": {
        "id": "lot4Pzkj1ihE"
      },
      "source": [
        "scaler = StandardScaler()\n",
        "\n",
        "scaler.fit(X_train)\n",
        "\n",
        "X_traIn = scaler.transform(X_train)\n"
      ],
      "execution_count": null,
      "outputs": []
    },
    {
      "cell_type": "code",
      "metadata": {
        "id": "vm2iM1rd10_m"
      },
      "source": [
        "def sigmoid(h):\n",
        "  return 1 /(1 + np.exp(-h))"
      ],
      "execution_count": null,
      "outputs": []
    },
    {
      "cell_type": "code",
      "metadata": {
        "id": "tn5rNotr1-nd"
      },
      "source": [
        "initializer =  tf.contrib.layers.xavier_initializer()\n",
        "\n",
        "w = tf.Variable(initializer([30, 1]))\n",
        "\n",
        "b =  tf.Variable(initializer([1]))"
      ],
      "execution_count": null,
      "outputs": []
    },
    {
      "cell_type": "code",
      "metadata": {
        "id": "FWas8ndx2qb9"
      },
      "source": [
        "optimizer = tf.train.AdamOptimizer(0.001)\n"
      ],
      "execution_count": null,
      "outputs": []
    },
    {
      "cell_type": "code",
      "metadata": {
        "id": "LkTvimC52vIu"
      },
      "source": [
        "for step in range(100):\n",
        "  print(\"=\"*100)\n",
        "  print(\"step = \", step)\n",
        "  with tf.GradientTape() as tape:\n",
        "    hypothesis = tf.sigmoid(tf.matmul(X_train, w) + b)\n",
        "    \n",
        "    #print(\"hypothesis(예측) : \", hypothesis)\n",
        "    cost = -tf.reduce_mean(y_train * tf.log(hypothesis)+(1 - y_train)* tf.log(1 - hypothesis))\n",
        "    print(\"cost (MSE) : \" , cost)\n",
        "\n",
        "    grads = tape.gradient(cost, [w,b])\n",
        "    #print(\"grads (w, b 기울기) : \", grads)\n",
        "\n",
        "  optimizer.apply_gradients(grads_and_vars=zip(grads,[w,b]))\n",
        "  print(\"update된 w :\", w)\n",
        "  print(\"update된 b :\", b)"
      ],
      "execution_count": null,
      "outputs": []
    },
    {
      "cell_type": "code",
      "metadata": {
        "id": "7XTyxX815bvy"
      },
      "source": [
        "X_test = scaler.transform(X_test)\n",
        "\n",
        "predict = tf.sigmoid(tf.matmul(X_test,w) + b)\n",
        "\n",
        "predict01 = tf.cast(predict > 0.5, dtype = tf.float32)\n",
        "\n",
        "print(predict01)\n",
        "\n",
        "ac01 = tf.equal(predict01, y_test)\n",
        "\n",
        "print(ac01)\n",
        "\n",
        "ac02 = tf.cast(ac01, dtype ='float32')\n",
        "\n",
        "ac03 = tf.reduce_mean(ac02)"
      ],
      "execution_count": null,
      "outputs": []
    },
    {
      "cell_type": "code",
      "metadata": {
        "colab": {
          "base_uri": "https://localhost:8080/"
        },
        "id": "Reg7Sges6FIo",
        "outputId": "cb4598d8-c6cc-428b-d830-8164e4a727ac"
      },
      "source": [
        "accuracy = tf.reduce_mean(tf.cast(tf.equal(predict01, y_test), dtype = tf.float32))\n",
        "\n",
        "print(accuracy)"
      ],
      "execution_count": null,
      "outputs": [
        {
          "output_type": "stream",
          "name": "stdout",
          "text": [
            "tf.Tensor(0.36363637, shape=(), dtype=float32)\n"
          ]
        }
      ]
    },
    {
      "cell_type": "markdown",
      "metadata": {
        "id": "E2s8LdO86XyI"
      },
      "source": [
        "## 인공신경망을 이용한 유방암 분류 (텐서 플로 2.x)\n",
        "\n",
        "- 158~172\n"
      ]
    },
    {
      "cell_type": "code",
      "metadata": {
        "id": "DcLYdxIb6eJF"
      },
      "source": [
        "import tensorflow as tf\n",
        "from sklearn import datasets\n",
        "import numpy as np\n",
        "from sklearn.model_selection import train_test_split\n",
        "from sklearn.preprocessing import MinMaxScaler, StandardScaler\n",
        "from tensorflow.keras.models import Sequential\n",
        "from tensorflow.keras.layers import Dense\n",
        "from tensorflow.keras.optimizers import Adam\n",
        "import pandas as pd"
      ],
      "execution_count": null,
      "outputs": []
    },
    {
      "cell_type": "code",
      "metadata": {
        "colab": {
          "base_uri": "https://localhost:8080/",
          "height": 35
        },
        "id": "QJp2Zof96fcA",
        "outputId": "4efaf5d9-2480-4f74-c601-d51e6867b098"
      },
      "source": [
        "tf.__version__"
      ],
      "execution_count": null,
      "outputs": [
        {
          "output_type": "execute_result",
          "data": {
            "application/vnd.google.colaboratory.intrinsic+json": {
              "type": "string"
            },
            "text/plain": [
              "'2.6.0'"
            ]
          },
          "metadata": {},
          "execution_count": 3
        }
      ]
    },
    {
      "cell_type": "code",
      "metadata": {
        "id": "6jNNraAs6iRR"
      },
      "source": [
        "# 데이터 로드\n",
        "data = datasets.load_breast_cancer()\n",
        "\n",
        "# 독립\n",
        "X = data.data\n",
        "\n",
        "# 종속\n",
        "y = data.target\n",
        "\n",
        "# 스플릿\n",
        "X_train, X_test, y_train, y_test = train_test_split(X,y)"
      ],
      "execution_count": null,
      "outputs": []
    },
    {
      "cell_type": "code",
      "metadata": {
        "id": "K8baYr_s6uVU"
      },
      "source": [
        "# Standard Scler\n",
        "# (데이터 -  평균)/표준편차(std)\n",
        "# 평균 0 , 분산 1로 조정\n",
        "\n",
        "scaler = StandardScaler()\n",
        "\n",
        "# 계산\n",
        "scaler.fit(X_train)\n",
        "\n",
        "# X_train 변경\n",
        "X_traIn = scaler.transform(X_train)\n"
      ],
      "execution_count": null,
      "outputs": []
    },
    {
      "cell_type": "code",
      "metadata": {
        "colab": {
          "base_uri": "https://localhost:8080/"
        },
        "id": "B1xyV7_H60Gp",
        "outputId": "495c021f-faa3-43e3-ee6b-3bd97bb047ce"
      },
      "source": [
        "# 순차모델 객체 생성\n",
        "model = Sequential()\n",
        "\n",
        "# input_dim = 30 --> 입력데이터 X , 칸의 수는 30\n",
        "# Dense(1)  = 출력데이터는 y, 칸이 수는 1\n",
        "model.add(Dense(1, input_dim = 30, activation = 'sigmoid'))\n",
        "\n",
        "model.summary()\n",
        "\n",
        "# 경사하강법 설정\n",
        "model.compile(loss = 'binary_crossentropy', optimizer = Adam(learning_rate = 0.001),metrics = ['acc'])\n",
        "\n",
        "# 학습\n",
        "model.fit(X_train, y_train, epochs = 1000)"
      ],
      "execution_count": null,
      "outputs": [
        {
          "output_type": "stream",
          "name": "stdout",
          "text": [
            "Model: \"sequential_4\"\n",
            "_________________________________________________________________\n",
            "Layer (type)                 Output Shape              Param #   \n",
            "=================================================================\n",
            "dense_3 (Dense)              (None, 1)                 31        \n",
            "=================================================================\n",
            "Total params: 31\n",
            "Trainable params: 31\n",
            "Non-trainable params: 0\n",
            "_________________________________________________________________\n"
          ]
        },
        {
          "output_type": "stream",
          "name": "stderr",
          "text": [
            "/usr/local/lib/python3.7/dist-packages/keras/optimizer_v2/optimizer_v2.py:356: UserWarning: The `lr` argument is deprecated, use `learning_rate` instead.\n",
            "  \"The `lr` argument is deprecated, use `learning_rate` instead.\")\n"
          ]
        }
      ]
    },
    {
      "cell_type": "code",
      "metadata": {
        "id": "Py7U5lqj8FKB"
      },
      "source": [
        "# 예측할 X_test 범위 변경\n",
        "X_test = scaler.transform(X_test)"
      ],
      "execution_count": null,
      "outputs": []
    },
    {
      "cell_type": "code",
      "metadata": {
        "id": "tFsfxh1j8Msy"
      },
      "source": [
        "pred = model.predict(X_test)\n",
        "\n",
        "# 예측값이 0.5 이상이면 1, 아니면 0\n",
        "predict01 = np.where(pred > 0.5,1,0)\n",
        "\n",
        "print(\"predict01\")\n",
        "print(predict01)\n",
        "\n",
        "# 1차원 배열로 변환\n",
        "predict02 = predict01.flatten()\n",
        "print(predict02)\n",
        "\n",
        "# 맞으면 True, 아니면 False\n",
        "predict03 = (predict02 == y_test)\n",
        "predict03\n",
        "\n",
        "# True를 sum하면 True = 1, False = 0\n",
        "# \n",
        "acc = np.sum(predict03) / len(predict03)\n",
        "print(\"정확도 : \",acc)"
      ],
      "execution_count": null,
      "outputs": []
    }
  ]
}